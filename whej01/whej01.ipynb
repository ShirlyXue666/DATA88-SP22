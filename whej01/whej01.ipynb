{
 "cells": [
  {
   "cell_type": "code",
   "execution_count": 2,
   "metadata": {
    "cell_id": "00000-ac99a5fb-e8a5-4e0a-b856-60ddb10325b9",
    "deepnote_cell_type": "code",
    "deepnote_to_be_reexecuted": false,
    "execution_millis": 3621,
    "execution_start": 1637302937421,
    "source_hash": "a113d36f",
    "tags": []
   },
   "outputs": [],
   "source": [
    "#Import packages\n",
    "from datascience import *\n",
    "import matplotlib.pyplot as plt\n",
    "%matplotlib inline \n",
    "\n",
    "import numpy as np\n",
    "import pandas as pd\n",
    "from matplotlib import patches\n",
    "import codecs"
   ]
  },
  {
   "cell_type": "markdown",
   "metadata": {
    "cell_id": "00003-3d3f3f5b-2bba-4131-aa1c-d99538a12d56",
    "deepnote_cell_type": "text-cell-h1",
    "is_collapsed": false,
    "tags": []
   },
   "source": [
    "# Introduction to Jupyter Notebooks and Environmental Justice Indices"
   ]
  },
  {
   "cell_type": "markdown",
   "metadata": {
    "cell_id": "00002-34d029ea-f6a2-4b08-8738-4cf55083b411",
    "deepnote_cell_type": "text-cell-h2",
    "is_collapsed": false,
    "tags": []
   },
   "source": [
    "## Jupyter Notebooks"
   ]
  },
  {
   "cell_type": "markdown",
   "metadata": {
    "cell_id": "00002-1794adce-b542-48a4-8e28-2972183b33b1",
    "deepnote_cell_type": "markdown",
    "tags": []
   },
   "source": [
    "Jupyter Notebooks are documents that can contain text, code, visualizations, and more! A notebook is composed of rectangular sections called cells. There are 2 kinds of cells: markdown and code. A markdown cell, such as this one, contains text. A code cell contains code in Python, a programming language that we will be using for the remainder of this module. You can select any cell by clicking it once.\n"
   ]
  },
  {
   "cell_type": "markdown",
   "metadata": {
    "cell_id": "00004-4d361ba3-223f-44e1-ae23-17db43b47fee",
    "deepnote_cell_type": "markdown",
    "tags": []
   },
   "source": [
    "To run a code cell once it's been selected,\n",
    "- Press Shift + Enter, or\n",
    "- Click the Run button in the toolbar at the top of the screen.\n",
    "\n",
    "If a code cell is running, you will see an asterisk (*) appear in the square brackets to the left of the cell. Once the cell has finished running, a number will replace the asterisk and any output from the code will appear under the cell.\n",
    "\n",
    "Let's try it! Feel free to play around with the code -- try changing 'World' to your name."
   ]
  },
  {
   "cell_type": "code",
   "execution_count": 3,
   "metadata": {
    "cell_id": "00005-f50e841d-5f70-42d1-bd07-95e699dd1bb1",
    "deepnote_cell_type": "code",
    "deepnote_to_be_reexecuted": false,
    "execution_millis": 6,
    "execution_start": 1633910529095,
    "source_hash": "c2f28298",
    "tags": []
   },
   "outputs": [
    {
     "name": "stdout",
     "output_type": "stream",
     "text": [
      "Hello World!\n"
     ]
    }
   ],
   "source": [
    "# Run the cell by using one of the methods we mentioned above!\n",
    "\n",
    "print(\"Hello World!\")"
   ]
  },
  {
   "cell_type": "markdown",
   "metadata": {
    "cell_id": "00006-39759bcc-5206-4f8f-bfff-5c04afdfd943",
    "deepnote_cell_type": "markdown",
    "tags": []
   },
   "source": [
    "You'll notice that many code cells contain lines of blue text that start with a #. These are comments. Comments often contain helpful information about what the code does or what you are supposed to do in the cell. The leading # tells the computer to ignore whatever text follows it."
   ]
  },
  {
   "cell_type": "markdown",
   "metadata": {
    "cell_id": "00007-37b657b8-adcf-4a06-9a2b-c510a53ba8db",
    "deepnote_cell_type": "text-cell-h3",
    "is_collapsed": false,
    "tags": []
   },
   "source": [
    "### Editing"
   ]
  },
  {
   "cell_type": "markdown",
   "metadata": {
    "cell_id": "00007-ed0d47e5-b35b-4c2d-a796-45ad9668b88f",
    "deepnote_cell_type": "markdown",
    "tags": []
   },
   "source": [
    "You can change the text in markdown cell by clicking it twice. Text in markdown cells is written in Markdown, a formatting language for plain text, so you may see some funky symbols should you try and edit a markdown cell we've already written. Once you've made changes to a markdown cell, you can exit editing mode by running the cell the same way you'd run a code cell."
   ]
  },
  {
   "cell_type": "markdown",
   "metadata": {
    "cell_id": "00010-476d6815-eff2-4306-ad23-67e8656d7c76",
    "deepnote_cell_type": "text-cell-h3",
    "is_collapsed": false,
    "tags": []
   },
   "source": [
    "### Adding and Deleting Cells"
   ]
  },
  {
   "cell_type": "markdown",
   "metadata": {
    "cell_id": "00008-d969a952-41bb-4d6e-8e87-8a47dce93d18",
    "deepnote_cell_type": "markdown",
    "tags": []
   },
   "source": [
    "\n",
    "Another feature of Jupyter Notebooks is the ability to add and delete cells, whether that be code or markdown. You can add cells by pressing the plus sign icon in the menu bar. This will add (by default) a code cell immediately below your current highlighted cell.\n",
    "\n",
    "To convert a cell to markdown, you can press 'Cell' in the menu bar, select 'Cell Type', and finally pick the desired option. This works the other way around too!\n",
    "\n",
    "To delete a cell, simply press the scissors icon in the menu bar. A common fear is deleting a cell that you needed -- but don't worry! This can be undone using 'Edit' > 'Undo Delete Cells'! If you accidentally delete a cells content, you can use Ctrl + Z."
   ]
  },
  {
   "cell_type": "markdown",
   "metadata": {
    "cell_id": "00011-c263484a-6c93-4c7f-adec-1b45aada7b22",
    "deepnote_cell_type": "text-cell-h3",
    "is_collapsed": false,
    "tags": []
   },
   "source": [
    "### Saving and Loading"
   ]
  },
  {
   "cell_type": "markdown",
   "metadata": {
    "cell_id": "00009-25f3672e-4f11-4d00-8cc0-d1c6c5f2441d",
    "deepnote_cell_type": "markdown",
    "tags": []
   },
   "source": [
    "Your notebook will automatically save your text and code edits, as well as any graphs you generate or any calculations you make. However, you can also manually save the notebook in its current state by using Ctrl + S, clicking the floppy disk icon in the toolbar at the top of the page, or by going to the 'File' menu and selecting 'Save and Checkpoint'.\n",
    "\n",
    "Next time you open your notebook, it will look the same as when you last saved it!\n",
    "\n",
    "Note: When you load a notebook you will see all the outputs from your last saved session (such as graphs, computations, etc.) but you won't be able to use any of the variables you assigned in your code without running it again.\n",
    "\n",
    "An easy way to \"catch up\" to the last work you did is to highlight the cell you left off on and click \"Run all above\" under the Cell tab in the menu at the top of the screen."
   ]
  },
  {
   "cell_type": "markdown",
   "metadata": {
    "cell_id": "00013-518ee275-dde3-43e2-9661-e5e1072226f8",
    "deepnote_cell_type": "text-cell-h3",
    "is_collapsed": false,
    "tags": []
   },
   "source": [
    "### Getting Started"
   ]
  },
  {
   "cell_type": "markdown",
   "metadata": {
    "cell_id": "00010-34c805b6-b23a-4da4-ae82-fef042e55d33",
    "deepnote_cell_type": "markdown",
    "tags": []
   },
   "source": [
    "Now that we've covered our bases with regards to the platform we'll be working on for this assignment, let's load some libraries we need to explore the data we are working with. Python libraries are extra packages we can load to help use tools that are not otherwise available. These can include visualization libraries such as matplotlib or numerical tools like numpy. You can see how we load these libraries below:"
   ]
  },
  {
   "cell_type": "code",
   "execution_count": 4,
   "metadata": {
    "cell_id": "00011-ebb503d6-99b9-4dd4-9bdb-ae8a79389819",
    "deepnote_cell_type": "code",
    "deepnote_to_be_reexecuted": false,
    "execution_millis": 6,
    "execution_start": 1634019495142,
    "source_hash": "e277e7e8",
    "tags": []
   },
   "outputs": [],
   "source": [
    "from datascience import * # This loads tools from the datascience library\n",
    "import numpy as np # Loads numerical methods\n",
    "\n",
    "#from otter import Notebook # This will allow us to export your responses as a pdf\n",
    "\n",
    "import matplotlib  # This loads some visualization tools\n",
    "%matplotlib inline\n",
    "import matplotlib.pyplot as plt\n",
    "plt.style.use('fivethirtyeight') # This selects a certain 'style' for our graphs\n",
    "\n",
    "#import ipywidgets as widgets # Loads a widgets library that will allow for interactive learning"
   ]
  },
  {
   "cell_type": "markdown",
   "metadata": {
    "cell_id": "00012-967bbe85-5301-40d0-9b17-6b8ca6b661d1",
    "deepnote_cell_type": "markdown",
    "tags": []
   },
   "source": [
    "Now that we've loaded some relevant libraries, let's go over some Python basics."
   ]
  },
  {
   "cell_type": "markdown",
   "metadata": {
    "cell_id": "00013-2b50e628-107b-4fa3-9441-5f97dc960874",
    "deepnote_cell_type": "text-cell-h3",
    "is_collapsed": false,
    "tags": []
   },
   "source": [
    "### Python Basics "
   ]
  },
  {
   "cell_type": "markdown",
   "metadata": {
    "cell_id": "00018-99908616-a426-4769-922e-d6d0949ed441",
    "deepnote_cell_type": "markdown",
    "tags": []
   },
   "source": [
    "Read about Python basics here in [Chapter 3](https://inferentialthinking.com/chapters/03/programming-in-python.html) of the Data 8 textbook. "
   ]
  },
  {
   "cell_type": "markdown",
   "metadata": {
    "cell_id": "00014-505db26a-c837-4abb-98f5-b9bfc560d278",
    "deepnote_cell_type": "markdown",
    "tags": []
   },
   "source": [
    "Python is a programming language -- a way for us to communicate with the computer and give it instructions.\n",
    "\n",
    "Just like any language, Python has a set vocabulary made up of words it can understand, and a syntax which provides the rules for how to structure our commands and give instructions."
   ]
  },
  {
   "cell_type": "markdown",
   "metadata": {
    "cell_id": "00019-2c4ce4d6-6b44-4ef9-9315-83cb37143fcc",
    "deepnote_cell_type": "text-cell-h3",
    "is_collapsed": false,
    "tags": []
   },
   "source": [
    "### Errors"
   ]
  },
  {
   "cell_type": "markdown",
   "metadata": {
    "cell_id": "00015-ea298c12-69c0-4db5-8b3d-b95d3eba6cde",
    "deepnote_cell_type": "markdown",
    "tags": []
   },
   "source": [
    "Errors in programming are common and totally okay! Don't be afraid when you see an error because more likely than not the solution lies in the error code itself! Let's see what an error looks like."
   ]
  },
  {
   "cell_type": "code",
   "execution_count": 5,
   "metadata": {
    "cell_id": "00016-20d0b32c-872e-4dbf-b193-1379ed3f777b",
    "deepnote_cell_type": "code",
    "tags": []
   },
   "outputs": [
    {
     "ename": "SyntaxError",
     "evalue": "unexpected EOF while parsing (<ipython-input-5-f87cde92617c>, line 1)",
     "output_type": "error",
     "traceback": [
      "\u001b[0;36m  File \u001b[0;32m\"<ipython-input-5-f87cde92617c>\"\u001b[0;36m, line \u001b[0;32m1\u001b[0m\n\u001b[0;31m    print('This line is missing something.'\u001b[0m\n\u001b[0m                                           ^\u001b[0m\n\u001b[0;31mSyntaxError\u001b[0m\u001b[0;31m:\u001b[0m unexpected EOF while parsing\n"
     ]
    }
   ],
   "source": [
    "print('This line is missing something.'\n"
   ]
  },
  {
   "cell_type": "markdown",
   "metadata": {
    "cell_id": "00017-5f29d3de-54d3-440f-8ef0-21e21c8def32",
    "deepnote_cell_type": "markdown",
    "tags": []
   },
   "source": [
    "The last line of the error message in the output attempts to tell you what went wrong. You should see a message saying \"SyntaxError: unexpected EOF while parsing.\" This just means it expected a closing to your code in this instance.\n"
   ]
  },
  {
   "cell_type": "markdown",
   "metadata": {
    "cell_id": "00023-118c1ead-756c-4a12-b12e-b527681e687a",
    "deepnote_cell_type": "text-cell-h3",
    "is_collapsed": false,
    "tags": []
   },
   "source": [
    "### Variables"
   ]
  },
  {
   "cell_type": "markdown",
   "metadata": {
    "cell_id": "00018-5f6e44ce-3e88-4393-b72e-38cef9644d96",
    "deepnote_cell_type": "markdown",
    "tags": []
   },
   "source": [
    "As we mentioned before, in this Jupyter Notebook you will be assigning data or figures to variables. You can even assign graph output or functions to variables, but that is out of scope for this assignment so don't worry about it! Variables are stored in a computer's memory and you can use it over and over again in future calculations!\n",
    "\n",
    "Sometimes, instead of trying to work with raw information all the time in a long calculation like 4 - 2 * (1 + 6 / 3) you will want to store it as a variable for easy access in future calculations."
   ]
  },
  {
   "cell_type": "code",
   "execution_count": 8,
   "metadata": {
    "cell_id": "00019-e26e7509-44ab-4287-97c1-b8c2221afd8e",
    "deepnote_cell_type": "code",
    "tags": []
   },
   "outputs": [
    {
     "data": {
      "text/plain": [
       "-2.0"
      ]
     },
     "execution_count": 8,
     "metadata": {},
     "output_type": "execute_result"
    }
   ],
   "source": [
    "# Instead of performing this calculation over and over again ...\n",
    "4 - 2 * (1 + 6 / 3)"
   ]
  },
  {
   "cell_type": "code",
   "execution_count": 9,
   "metadata": {
    "cell_id": "00020-7dd759b2-8420-4ba9-a112-c10879d9b45a",
    "deepnote_cell_type": "code",
    "tags": []
   },
   "outputs": [],
   "source": [
    "# Try assigning it to a variable for future use!\n",
    "y = 4 - 2 * (1 + 6 / 3)"
   ]
  },
  {
   "cell_type": "markdown",
   "metadata": {
    "cell_id": "00021-3e1ea461-9af7-47f5-9e4b-1dd492b767d1",
    "deepnote_cell_type": "markdown",
    "tags": []
   },
   "source": [
    "An assignment statement, such as y = 4 - 2 * (1 + 6 / 3) has three parts: on the left is the variable name (y), on the right is the variable's value (4 - 2 * (1 + 6 / 3)), and the equals sign in the middle tells the computer to assign the value to the name.\n",
    "\n",
    "You might have noticed that running that second cell did not output anything, however, we can access that value again and again in the future."
   ]
  },
  {
   "cell_type": "code",
   "execution_count": 10,
   "metadata": {
    "cell_id": "00022-a71a05de-6de2-4049-b10c-280ecb186f4f",
    "deepnote_cell_type": "code",
    "tags": []
   },
   "outputs": [
    {
     "data": {
      "text/plain": [
       "-2.0"
      ]
     },
     "execution_count": 10,
     "metadata": {},
     "output_type": "execute_result"
    }
   ],
   "source": [
    "# We can print the value as follows\n",
    "y"
   ]
  },
  {
   "cell_type": "code",
   "execution_count": 11,
   "metadata": {
    "cell_id": "00023-89aff454-b535-4466-99c4-b295b34d15ae",
    "deepnote_cell_type": "code",
    "tags": []
   },
   "outputs": [
    {
     "data": {
      "text/plain": [
       "-4.0"
      ]
     },
     "execution_count": 11,
     "metadata": {},
     "output_type": "execute_result"
    }
   ],
   "source": [
    "# We can also use it in other calculations now!\n",
    "y * 2"
   ]
  },
  {
   "cell_type": "markdown",
   "metadata": {
    "cell_id": "00030-5c60154f-4987-4040-93fd-95c51328cca3",
    "deepnote_cell_type": "text-cell-h3",
    "is_collapsed": false,
    "tags": []
   },
   "source": [
    "### Tables"
   ]
  },
  {
   "cell_type": "markdown",
   "metadata": {
    "cell_id": "00024-15200b2e-6214-4397-8520-8640c59fa78c",
    "deepnote_cell_type": "markdown",
    "tags": []
   },
   "source": [
    "In most cases, when interacting with data you will be working with tables. In this section, we will cover how to examine and manipulate data using Python!\n",
    "Tables are the fundamental way we organize and display data. Read about tables in [Chapter 3.4](https://inferentialthinking.com/chapters/03/4/Introduction_to_Tables.html) of the Data 8 textbook. "
   ]
  },
  {
   "cell_type": "code",
   "execution_count": 12,
   "metadata": {
    "cell_id": "00025-c601d3bb-e57a-44f0-b568-c64c1f60ca59",
    "deepnote_cell_type": "code",
    "tags": []
   },
   "outputs": [
    {
     "data": {
      "text/html": [
       "<table border=\"1\" class=\"dataframe\">\n",
       "    <thead>\n",
       "        <tr>\n",
       "            <th>Birth Weight</th> <th>Gestational Days</th> <th>Maternal Age</th> <th>Maternal Height</th> <th>Maternal Pregnancy Weight</th> <th>Maternal Smoker</th>\n",
       "        </tr>\n",
       "    </thead>\n",
       "    <tbody>\n",
       "        <tr>\n",
       "            <td>120         </td> <td>284             </td> <td>27          </td> <td>62             </td> <td>100                      </td> <td>False          </td>\n",
       "        </tr>\n",
       "        <tr>\n",
       "            <td>113         </td> <td>282             </td> <td>33          </td> <td>64             </td> <td>135                      </td> <td>False          </td>\n",
       "        </tr>\n",
       "        <tr>\n",
       "            <td>128         </td> <td>279             </td> <td>28          </td> <td>64             </td> <td>115                      </td> <td>True           </td>\n",
       "        </tr>\n",
       "        <tr>\n",
       "            <td>108         </td> <td>282             </td> <td>23          </td> <td>67             </td> <td>125                      </td> <td>True           </td>\n",
       "        </tr>\n",
       "        <tr>\n",
       "            <td>136         </td> <td>286             </td> <td>25          </td> <td>62             </td> <td>93                       </td> <td>False          </td>\n",
       "        </tr>\n",
       "    </tbody>\n",
       "</table>\n",
       "<p>... (1169 rows omitted)</p>"
      ],
      "text/plain": [
       "<IPython.core.display.HTML object>"
      ]
     },
     "metadata": {},
     "output_type": "display_data"
    }
   ],
   "source": [
    "# Below we see an assignment statement.\n",
    "# We are telling the computer to create a Table and read in some data.\n",
    "\n",
    "baby = Table().read_table('https://www.inferentialthinking.com/data/baby.csv')\n",
    "\n",
    "# This next command will display the top 5 entries. You can change the number\n",
    "# to view a different amount of entries at time.\n",
    "baby.show(5)"
   ]
  },
  {
   "cell_type": "markdown",
   "metadata": {
    "cell_id": "00026-77d64ce8-c196-4f31-bca4-4db08688eb08",
    "deepnote_cell_type": "markdown",
    "tags": []
   },
   "source": [
    "This table is organized into columns, one for each category of information collected. You can also think about the table in terms of its rows, where each row represents all the information collected about a particular instance, in this case, different state prisons. By default only the first 10 rows are shown, but as you can see in the code we ran, we changed it to 5."
   ]
  },
  {
   "cell_type": "markdown",
   "metadata": {
    "cell_id": "00034-ff4f5e4a-6c81-438b-98fb-3e4f7e2b2d2c",
    "deepnote_cell_type": "text-cell-h3",
    "is_collapsed": false,
    "tags": []
   },
   "source": [
    "### Table Attributes"
   ]
  },
  {
   "cell_type": "markdown",
   "metadata": {
    "cell_id": "00035-f58de2fb-3ac5-4a25-8091-9c0d0a17d84e",
    "deepnote_cell_type": "markdown",
    "tags": []
   },
   "source": [
    "Every table has attributes that give information about the table, such as the number of rows and the number of columns. Attributes you'll use frequently include num_rows and num_columns, which give the number of rows and columns in the table, respectively. These are accessed using something called dot notation which means we won't be using any parentheses like in our print statement (Hello World!) earlier."
   ]
  },
  {
   "cell_type": "code",
   "execution_count": 13,
   "metadata": {
    "cell_id": "00027-daeb0c9e-9c81-44e5-968a-9b16a68dbe7a",
    "deepnote_cell_type": "code",
    "tags": []
   },
   "outputs": [
    {
     "data": {
      "text/plain": [
       "6"
      ]
     },
     "execution_count": 13,
     "metadata": {},
     "output_type": "execute_result"
    }
   ],
   "source": [
    "# Get the number of columns\n",
    "baby.num_columns"
   ]
  },
  {
   "cell_type": "code",
   "execution_count": 14,
   "metadata": {
    "cell_id": "00028-92677ca1-5c61-4e4c-bc24-e1e27a4b3ba7",
    "deepnote_cell_type": "code",
    "tags": []
   },
   "outputs": [
    {
     "data": {
      "text/plain": [
       "1174"
      ]
     },
     "execution_count": 14,
     "metadata": {},
     "output_type": "execute_result"
    }
   ],
   "source": [
    "# Get the number of rows\n",
    "baby.num_rows"
   ]
  },
  {
   "cell_type": "markdown",
   "metadata": {
    "cell_id": "00029-f1686b2c-a6fd-4f59-8c32-cf7ca32fbfb1",
    "deepnote_cell_type": "markdown",
    "tags": []
   },
   "source": [
    "\n",
    "Given the output of the cell above, how many state prisons are included in our data set?\n",
    "Replace this text with your response!\n",
    "\n",
    "In other situations, we will want to sort, filter, or group our data. In order to manipulate our data stored in a table, we will be using various table functions. These will be explained as we go through them as to not overwhelm you!\n",
    "\n",
    "Now that you have a basic grasp on Python and the kinds of information we'll be working with, we can move on to where our data came from and how to interact with it.\n",
    "Congrats on finishing the Jupyter Notebook and Python overview!"
   ]
  },
  {
   "cell_type": "markdown",
   "metadata": {
    "cell_id": "00039-653ebd2f-cab3-4d94-92cb-8a36f79a4cdb",
    "deepnote_cell_type": "text-cell-h1",
    "is_collapsed": false,
    "tags": []
   },
   "source": [
    "# The Justice40 Initiative: Calculating an Environmental Justice Index"
   ]
  },
  {
   "cell_type": "markdown",
   "metadata": {
    "cell_id": "00040-e2ae102b-aed1-4b6c-ab3d-9248fbe1acff",
    "deepnote_cell_type": "text-cell-h2",
    "is_collapsed": false,
    "tags": []
   },
   "source": [
    "## Background"
   ]
  },
  {
   "cell_type": "markdown",
   "metadata": {
    "cell_id": "00004-bd983785-ceb7-4d08-a96f-d8e46deb806f",
    "deepnote_cell_type": "text-cell-p",
    "is_collapsed": false,
    "tags": []
   },
   "source": [
    "In January of 2021, President Biden signed an executive order declaring the Justice40 Initiative, an effort to invest at least 40 percent of Federal investments into disadvantaged communities. These investments include transforming clean energy, energy efficiency, clean transit, affordable and sustainable housing, workforce development, and then development of critical clean water infrastructure. "
   ]
  },
  {
   "cell_type": "markdown",
   "metadata": {
    "cell_id": "00043-fce122b1-352f-440c-a22d-80993617c5b5",
    "deepnote_cell_type": "text-cell-h3",
    "is_collapsed": false,
    "tags": []
   },
   "source": [
    "#### What is an environmental justice index?"
   ]
  },
  {
   "cell_type": "markdown",
   "metadata": {
    "cell_id": "00005-e9aba0c6-4f1d-44a6-a58d-c61b5a590f53",
    "deepnote_cell_type": "text-cell-p",
    "is_collapsed": false,
    "tags": []
   },
   "source": [
    "The EPA (Environmental Protection Agency) created a tool called EJSCREEN to identify communities with higher levels of environmental injustice. Lower income communities receive a higher Justice Index than higher income communities. While this tool has prompted actions to fight these injustices, the current form of EJSCREEN lacks the data and methodology to provide accurate and trustworthy decision making. "
   ]
  },
  {
   "cell_type": "markdown",
   "metadata": {
    "cell_id": "00045-4907c9dd-01d2-4f6e-8343-7b8d5ebfdde0",
    "deepnote_cell_type": "text-cell-h3",
    "is_collapsed": false,
    "tags": []
   },
   "source": [
    "#### How the EJSCREEN works:"
   ]
  },
  {
   "cell_type": "markdown",
   "metadata": {
    "cell_id": "00007-580cbca0-8c6d-4ecf-a30d-87200267923f",
    "deepnote_cell_type": "text-cell-p",
    "is_collapsed": false,
    "tags": []
   },
   "source": [
    "EJSCREEN combines demographic and economic data with environmental quality and socio-demographic indicators to develop and overall environmental justice indicator. The following is a mathematical breakdown of each indicator."
   ]
  },
  {
   "cell_type": "markdown",
   "metadata": {
    "cell_id": "00048-131e6f7d-55fc-4e61-a11d-e1b22f5dbd2b",
    "deepnote_cell_type": "markdown",
    "tags": []
   },
   "source": [
    "$Justice Index = EQ \\times DI \\times CP$"
   ]
  },
  {
   "cell_type": "markdown",
   "metadata": {
    "cell_id": "00048-a50b75ee-46cd-419e-a4f0-2cd69a5d039d",
    "deepnote_cell_type": "markdown",
    "tags": []
   },
   "source": [
    "$DI =\\frac{\\% minority + \\%below 2x federal poverty line}{2} - National Average$"
   ]
  },
  {
   "cell_type": "markdown",
   "metadata": {
    "cell_id": "00048-b0d62f07-30ba-49af-8e7c-7e09206222e1",
    "deepnote_cell_type": "markdown",
    "tags": []
   },
   "source": [
    "*EQ = Environmental Quality Indicator* \n",
    "\n",
    "*DI = Demographic Index*\n",
    "\n",
    "*CP = Census Block Population*"
   ]
  },
  {
   "cell_type": "markdown",
   "metadata": {
    "cell_id": "00010-50f08d24-bc2e-48aa-a76f-033643fccff1",
    "deepnote_cell_type": "text-cell-p",
    "is_collapsed": false,
    "tags": []
   },
   "source": [
    "#### Issues with EJSCREEN:"
   ]
  },
  {
   "cell_type": "markdown",
   "metadata": {
    "cell_id": "00011-7f619d09-ca98-4997-8888-bb7547b13ad7",
    "deepnote_cell_type": "text-cell-p",
    "is_collapsed": false,
    "tags": []
   },
   "source": [
    "One issue that arises with this calculation is that some communities become \"invisible\". The demographic index sometimes produces misleading rankings with risk and hazard. This is due to the fact that the demographic index can be a positive or negative value depending on whether a census block is above or below the national average. With a negative demographic index, the final justice index will be negative. Thus, communities suffering from vast environmental injustice can receive a negative Justice Index (implying there is little injustice) if their census population is below the national average. "
   ]
  },
  {
   "cell_type": "markdown",
   "metadata": {
    "cell_id": "00012-e672efc7-0e77-49b8-9055-569dbfea319f",
    "deepnote_cell_type": "text-cell-p",
    "is_collapsed": false,
    "tags": []
   },
   "source": [
    "An example of an index with such issues is the Lead Paint EJ index."
   ]
  },
  {
   "cell_type": "markdown",
   "metadata": {
    "cell_id": "00056-2ccb5724-41ab-4bd5-a6ea-c810818716ca",
    "deepnote_cell_type": "text-cell-h2",
    "is_collapsed": false,
    "tags": []
   },
   "source": [
    "## Working with the data"
   ]
  },
  {
   "cell_type": "code",
   "execution_count": 15,
   "metadata": {
    "cell_id": "00057-a2072639-8ac3-497e-974c-44e2de37f138",
    "deepnote_cell_type": "code",
    "deepnote_output_heights": [
     353
    ],
    "deepnote_to_be_reexecuted": false,
    "execution_millis": 1082,
    "execution_start": 1637302951489,
    "source_hash": "387d6f7d",
    "tags": []
   },
   "outputs": [
    {
     "data": {
      "text/html": [
       "<table border=\"1\" class=\"dataframe\">\n",
       "    <thead>\n",
       "        <tr>\n",
       "            <th>Unnamed: 0</th> <th>GEOID10</th> <th>Housing burden (percent)</th> <th>Total population</th> <th>Median household income (% of state median household income)</th> <th>Current asthma among adults aged >=18 years</th> <th>Coronary heart disease among adults aged >=18 years</th> <th>Cancer (excluding skin cancer) among adults aged >=18 years</th> <th>Current lack of health insurance among adults aged 18-64 years</th> <th>Diagnosed diabetes among adults aged >=18 years</th> <th>Physical health not good for >=14 days among adults aged >=18 years</th> <th>Air toxics cancer risk</th> <th>Respiratory hazard index</th> <th>Diesel particulate matter</th> <th>Particulate matter (PM2.5)</th> <th>Ozone</th> <th>Traffic proximity and volume</th> <th>Proximity to RMP sites</th> <th>Proximity to TSDF sites</th> <th>Proximity to NPL sites</th> <th>Wastewater discharge</th> <th>Percent pre-1960s housing (lead paint indicator)</th> <th>Individuals under 5 years old</th> <th>Individuals over 64 years old</th> <th>Linguistic isolation (percent)</th> <th>Percent of households in linguistic isolation</th> <th>Poverty (Less than 200% of federal poverty line)</th> <th>Percent individuals age 25 or over with less than high school degree</th> <th>Unemployed civilians (percent)</th> <th>Housing + Transportation Costs % Income for the Regional Typical Household</th> <th>Score A</th> <th>Score B</th> <th>Socioeconomic Factors</th> <th>Sensitive populations</th> <th>Environmental effects</th> <th>Exposures</th> <th>Pollution Burden</th> <th>Population Characteristics</th> <th>Score C</th> <th>Score D</th> <th>Score E</th> <th>Low AMI, Low HS graduation</th> <th>Meets socioeconomic criteria</th> <th>Meets burden criteria</th> <th>Score F (communities)</th> <th>OBJECTID</th> <th>ID</th> <th>STATE_NAME</th> <th>ST_ABBREV</th> <th>REGION</th> <th>ACSTOTPOP</th> <th>D_PM25_2</th> <th>D_OZONE_2</th> <th>D_DSLPM_2</th> <th>D_CANCR_2</th> <th>D_RESP_2</th> <th>D_PTRAF_2</th> <th>D_LDPNT_2</th> <th>D_PNPL_2</th> <th>D_PRMP_2</th> <th>D_PTSDF_2</th> <th>D_PWDIS_2</th> <th>PM25</th> <th>OZONE</th> <th>DSLPM</th> <th>CANCER</th> <th>RESP</th> <th>PTRAF</th> <th>PRE1960PCT</th> <th>PNPL</th> <th>PRMP</th> <th>PTSDF</th> <th>PWDIS</th> <th>VULEOPCT</th> <th>VULSVI6PCT</th> <th>MINORPCT</th> <th>LOWINCPCT</th> <th>LINGISOPCT</th> <th>LESSHSPCT</th> <th>UNDER5PCT</th> <th>OVER64PCT</th> <th>Shape_Length</th> <th>Shape_Area</th> <th>FIPS code</th> <th>State Abr.</th> <th>County name</th> <th>CBSA title</th> <th>CBSA 2012 pop</th> <th>County 2012 pop</th> <th>2013 code</th> <th>2006 code</th> <th>1990-based code</th>\n",
       "        </tr>\n",
       "    </thead>\n",
       "    <tbody>\n",
       "        <tr>\n",
       "            <td>10297     </td> <td>60014001001</td> <td>0.1433                  </td> <td>2991            </td> <td>2.92232                                                     </td> <td>7.9                                        </td> <td>5.1                                                </td> <td>8.5                                                        </td> <td>4.8                                                           </td> <td>8                                              </td> <td>9                                                                  </td> <td>26.4966               </td> <td>0.437041                </td> <td>0.597205                 </td> <td>8.27278                   </td> <td>29.3125</td> <td>1128                        </td> <td>0.175204              </td> <td>2.29209                </td> <td>0.118582              </td> <td>0                   </td> <td>0.176558                                        </td> <td>0.0618522                    </td> <td>0.254096                     </td> <td>0.0116009                     </td> <td>0.0366826                                    </td> <td>0.0959088                                       </td> <td>0.0178275                                                           </td> <td>0.05                          </td> <td>76                                                                        </td> <td>0.115592 </td> <td>0.0133433 </td> <td>0.485942             </td> <td>0.669558             </td> <td>0.480974             </td> <td>0.48832  </td> <td>0.485871        </td> <td>0.57775                   </td> <td>0.280712</td> <td>0.0559111</td> <td>0.297226</td> <td>False                     </td> <td>False                       </td> <td>False                </td> <td>False                </td> <td>10298   </td> <td>60014001001</td> <td>California</td> <td>CA       </td> <td>9     </td> <td>2991     </td> <td>-3824.22</td> <td>-13550.2 </td> <td>-276.067 </td> <td>-12248.5 </td> <td>-202.029</td> <td>-521436     </td> <td>-81.6166 </td> <td>-54.8162</td> <td>-80.9909</td> <td>-1059.55 </td> <td>0        </td> <td>8.27278</td> <td>29.3125</td> <td>0.597205</td> <td>26.4966</td> <td>0.437041</td> <td>1128   </td> <td>0.176558  </td> <td>0.118582</td> <td>0.175204</td> <td>2.29209</td> <td>0    </td> <td>0.201916</td> <td>0.129048  </td> <td>0.307924</td> <td>0.0959088</td> <td>0.0366826 </td> <td>0.0178275 </td> <td>0.0618522 </td> <td>0.254096 </td> <td>18116.6     </td> <td>1.10812e+07</td> <td>6001     </td> <td>CA        </td> <td>Alameda County</td> <td>San Francisco-Oakland-Hayward, CA</td> <td>4455560      </td> <td>1554720        </td> <td>1        </td> <td>1        </td> <td>1              </td>\n",
       "        </tr>\n",
       "        <tr>\n",
       "            <td>10298     </td> <td>60014002001</td> <td>0.06875                 </td> <td>1102            </td> <td>3.15678                                                     </td> <td>8                                          </td> <td>4                                                  </td> <td>6.9                                                        </td> <td>4.8                                                           </td> <td>6.1                                            </td> <td>7.6                                                                </td> <td>28.282                </td> <td>0.47766                 </td> <td>0.784154                 </td> <td>8.3093                    </td> <td>28.5145</td> <td>5492.56                     </td> <td>0.236346              </td> <td>5.42626                </td> <td>0.152012              </td> <td>0                   </td> <td>0.957014                                        </td> <td>0.0816697                    </td> <td>0.1951                       </td> <td>0                             </td> <td>0                                            </td> <td>0.0789474                                       </td> <td>0.0309406                                                           </td> <td>0.0360825                     </td> <td>55                                                                        </td> <td>0.135196 </td> <td>0.0164389 </td> <td>0.309663             </td> <td>0.57654              </td> <td>0.6582               </td> <td>0.56422  </td> <td>0.595547        </td> <td>0.443102                  </td> <td>0.263888</td> <td>0.0391941</td> <td>0.196257</td> <td>False                     </td> <td>False                       </td> <td>True                 </td> <td>False                </td> <td>10299   </td> <td>60014002001</td> <td>California</td> <td>CA       </td> <td>9     </td> <td>1102     </td> <td>-1552.41</td> <td>-5327.32 </td> <td>-146.502 </td> <td>-5283.87 </td> <td>-89.2403</td> <td>-1.02616e+06</td> <td>-178.797 </td> <td>-28.4   </td> <td>-44.1561</td> <td>-1013.78 </td> <td>0        </td> <td>8.3093 </td> <td>28.5145</td> <td>0.784154</td> <td>28.282 </td> <td>0.47766 </td> <td>5492.56</td> <td>0.957014  </td> <td>0.152012</td> <td>0.236346</td> <td>5.42626</td> <td>0    </td> <td>0.186933</td> <td>0.113596  </td> <td>0.294918</td> <td>0.0789474</td> <td>0         </td> <td>0.0309406 </td> <td>0.0816697 </td> <td>0.1951   </td> <td>3775.32     </td> <td>464222     </td> <td>6001     </td> <td>CA        </td> <td>Alameda County</td> <td>San Francisco-Oakland-Hayward, CA</td> <td>4455560      </td> <td>1554720        </td> <td>1        </td> <td>1        </td> <td>1              </td>\n",
       "        </tr>\n",
       "        <tr>\n",
       "            <td>10299     </td> <td>60014002002</td> <td>0.06875                 </td> <td>895             </td> <td>2.161                                                       </td> <td>8                                          </td> <td>4                                                  </td> <td>6.9                                                        </td> <td>4.8                                                           </td> <td>6.1                                            </td> <td>7.6                                                                </td> <td>28.282                </td> <td>0.47766                 </td> <td>0.784154                 </td> <td>8.3093                    </td> <td>28.5145</td> <td>10897.3                     </td> <td>0.239507              </td> <td>5.93015                </td> <td>0.161547              </td> <td>0                   </td> <td>0.871921                                        </td> <td>0.00446927                   </td> <td>0.194413                     </td> <td>0                             </td> <td>0                                            </td> <td>0.163861                                        </td> <td>0.00921053                                                          </td> <td>0.0248447                     </td> <td>54                                                                        </td> <td>0.155107 </td> <td>0.0173134 </td> <td>0.288754             </td> <td>0.349317             </td> <td>0.655383             </td> <td>0.567425 </td> <td>0.596744        </td> <td>0.319035                  </td> <td>0.190383</td> <td>0.0495832</td> <td>0.181428</td> <td>False                     </td> <td>False                       </td> <td>True                 </td> <td>False                </td> <td>10300   </td> <td>60014002002</td> <td>California</td> <td>CA       </td> <td>9     </td> <td>895      </td> <td>-1011.34</td> <td>-3470.55 </td> <td>-95.4405 </td> <td>-3442.24 </td> <td>-58.1367</td> <td>-1.32632e+06</td> <td>-106.123 </td> <td>-19.6621</td> <td>-29.1507</td> <td>-721.767 </td> <td>0        </td> <td>8.3093 </td> <td>28.5145</td> <td>0.784154</td> <td>28.282 </td> <td>0.47766 </td> <td>10897.3</td> <td>0.871921  </td> <td>0.161547</td> <td>0.239507</td> <td>5.93015</td> <td>0    </td> <td>0.220478</td> <td>0.108175  </td> <td>0.277095</td> <td>0.163861 </td> <td>0         </td> <td>0.00921053</td> <td>0.00446927</td> <td>0.194413 </td> <td>4019.01     </td> <td>479487     </td> <td>6001     </td> <td>CA        </td> <td>Alameda County</td> <td>San Francisco-Oakland-Hayward, CA</td> <td>4455560      </td> <td>1554720        </td> <td>1        </td> <td>1        </td> <td>1              </td>\n",
       "        </tr>\n",
       "        <tr>\n",
       "            <td>10300     </td> <td>60014003001</td> <td>0.1875                  </td> <td>1336            </td> <td>2.43879                                                     </td> <td>8.9                                        </td> <td>3.4                                                </td> <td>5.6                                                        </td> <td>6.6                                                           </td> <td>5.9                                            </td> <td>8.6                                                                </td> <td>28.5937               </td> <td>0.478842                </td> <td>0.81616                  </td> <td>8.32228                   </td> <td>28.2884</td> <td>10393.4                     </td> <td>0.225605              </td> <td>5.96285                </td> <td>0.165869              </td> <td>0                   </td> <td>0.953291                                        </td> <td>0.0351796                    </td> <td>0.0621257                    </td> <td>0                             </td> <td>0.0382166                                    </td> <td>0.0374251                                       </td> <td>0                                                                   </td> <td>0.0537482                     </td> <td>60                                                                        </td> <td>0.0324645</td> <td>0.00103806</td> <td>0.414494             </td> <td>0.225381             </td> <td>0.661901             </td> <td>0.573326 </td> <td>0.602851        </td> <td>0.319938                  </td> <td>0.192875</td> <td>0.0455074</td> <td>0.243089</td> <td>False                     </td> <td>False                       </td> <td>True                 </td> <td>False                </td> <td>10301   </td> <td>60014003001</td> <td>California</td> <td>CA       </td> <td>9     </td> <td>1336     </td> <td>-1949.43</td> <td>-6626.32 </td> <td>-191.179 </td> <td>-6697.85 </td> <td>-112.165</td> <td>-2.43456e+06</td> <td>-223.301 </td> <td>-38.8534</td> <td>-52.8462</td> <td>-1396.75 </td> <td>0        </td> <td>8.32228</td> <td>28.2884</td> <td>0.81616 </td> <td>28.5937</td> <td>0.478842</td> <td>10393.4</td> <td>0.953291  </td> <td>0.165869</td> <td>0.225605</td> <td>5.96285</td> <td>0    </td> <td>0.181138</td> <td>0.0829662 </td> <td>0.32485 </td> <td>0.0374251</td> <td>0.0382166 </td> <td>0         </td> <td>0.0351796 </td> <td>0.0621257</td> <td>3231.26     </td> <td>426778     </td> <td>6001     </td> <td>CA        </td> <td>Alameda County</td> <td>San Francisco-Oakland-Hayward, CA</td> <td>4455560      </td> <td>1554720        </td> <td>1        </td> <td>1        </td> <td>1              </td>\n",
       "        </tr>\n",
       "        <tr>\n",
       "            <td>10301     </td> <td>60014003002</td> <td>0.1875                  </td> <td>1369            </td> <td>1.35224                                                     </td> <td>8.9                                        </td> <td>3.4                                                </td> <td>5.6                                                        </td> <td>6.6                                                           </td> <td>5.9                                            </td> <td>8.6                                                                </td> <td>28.5937               </td> <td>0.478842                </td> <td>0.81616                  </td> <td>8.32228                   </td> <td>28.2884</td> <td>5034.99                     </td> <td>0.357574              </td> <td>7.90003                </td> <td>0.191764              </td> <td>0                   </td> <td>0.748336                                        </td> <td>0.0562454                    </td> <td>0.128561                     </td> <td>0                             </td> <td>0                                            </td> <td>0.158408                                        </td> <td>0.0733788                                                           </td> <td>0.0679406                     </td> <td>43                                                                        </td> <td>0.30917  </td> <td>0.0889257 </td> <td>0.35538              </td> <td>0.40019              </td> <td>0.670215             </td> <td>0.56962  </td> <td>0.603152        </td> <td>0.377785                  </td> <td>0.227862</td> <td>0.0872183</td> <td>0.372479</td> <td>False                     </td> <td>False                       </td> <td>True                 </td> <td>False                </td> <td>10302   </td> <td>60014003002</td> <td>California</td> <td>CA       </td> <td>9     </td> <td>1369     </td> <td>-1382.12</td> <td>-4697.98 </td> <td>-135.543 </td> <td>-4748.7  </td> <td>-79.5236</td> <td>-836184     </td> <td>-124.28  </td> <td>-31.8471</td> <td>-59.384 </td> <td>-1312    </td> <td>0        </td> <td>8.32228</td> <td>28.2884</td> <td>0.81616 </td> <td>28.5937</td> <td>0.478842</td> <td>5034.99</td> <td>0.748336  </td> <td>0.191764</td> <td>0.357574</td> <td>7.90003</td> <td>0    </td> <td>0.235157</td> <td>0.121417  </td> <td>0.311907</td> <td>0.158408 </td> <td>0         </td> <td>0.0733788 </td> <td>0.0562454 </td> <td>0.128561 </td> <td>4476.58     </td> <td>432174     </td> <td>6001     </td> <td>CA        </td> <td>Alameda County</td> <td>San Francisco-Oakland-Hayward, CA</td> <td>4455560      </td> <td>1554720        </td> <td>1        </td> <td>1        </td> <td>1              </td>\n",
       "        </tr>\n",
       "        <tr>\n",
       "            <td>10302     </td> <td>60014003003</td> <td>0.1875                  </td> <td>1041            </td> <td>0.426371                                                    </td> <td>8.9                                        </td> <td>3.4                                                </td> <td>5.6                                                        </td> <td>6.6                                                           </td> <td>5.9                                            </td> <td>8.6                                                                </td> <td>28.5937               </td> <td>0.478842                </td> <td>0.81616                  </td> <td>8.32228                   </td> <td>28.2884</td> <td>17980.1                     </td> <td>0.39522               </td> <td>9.14209                </td> <td>0.195052              </td> <td>0                   </td> <td>0.560284                                        </td> <td>0.0172911                    </td> <td>0.165226                     </td> <td>0.286169                      </td> <td>0.278369                                     </td> <td>0.169068                                        </td> <td>0.0710956                                                           </td> <td>0.0157978                     </td> <td>31                                                                        </td> <td>0.313541 </td> <td>0.0938172 </td> <td>0.369516             </td> <td>0.563802             </td> <td>0.651081             </td> <td>0.574229 </td> <td>0.599846        </td> <td>0.466659                  </td> <td>0.279924</td> <td>0.135699 </td> <td>0.424122</td> <td>False                     </td> <td>True                        </td> <td>True                 </td> <td>True                 </td> <td>10303   </td> <td>60014003003</td> <td>California</td> <td>CA       </td> <td>9     </td> <td>1041     </td> <td>-583.255</td> <td>-1982.55 </td> <td>-57.1994 </td> <td>-2003.95 </td> <td>-33.559 </td> <td>-1.26011e+06</td> <td>-39.2667 </td> <td>-13.6699</td> <td>-27.6984</td> <td>-640.71  </td> <td>0        </td> <td>8.32228</td> <td>28.2884</td> <td>0.81616 </td> <td>28.5937</td> <td>0.478842</td> <td>17980.1</td> <td>0.560284  </td> <td>0.195052</td> <td>0.39522 </td> <td>9.14209</td> <td>0    </td> <td>0.289145</td> <td>0.185045  </td> <td>0.409222</td> <td>0.169068 </td> <td>0.278369  </td> <td>0.0710956 </td> <td>0.0172911 </td> <td>0.165226 </td> <td>3573.57     </td> <td>469181     </td> <td>6001     </td> <td>CA        </td> <td>Alameda County</td> <td>San Francisco-Oakland-Hayward, CA</td> <td>4455560      </td> <td>1554720        </td> <td>1        </td> <td>1        </td> <td>1              </td>\n",
       "        </tr>\n",
       "        <tr>\n",
       "            <td>10303     </td> <td>60014003004</td> <td>0.1875                  </td> <td>1377            </td> <td>2.13058                                                     </td> <td>8.9                                        </td> <td>3.4                                                </td> <td>5.6                                                        </td> <td>6.6                                                           </td> <td>5.9                                            </td> <td>8.6                                                                </td> <td>28.5937               </td> <td>0.478842                </td> <td>0.81616                  </td> <td>8.32228                   </td> <td>28.2884</td> <td>5473.74                     </td> <td>0.301688              </td> <td>7.17301                </td> <td>0.184453              </td> <td>0                   </td> <td>0.876765                                        </td> <td>0.0450254                    </td> <td>0.193174                     </td> <td>0.0211268                     </td> <td>0.0625                                       </td> <td>0.162672                                        </td> <td>0.0684444                                                           </td> <td>0.0179245                     </td> <td>44                                                                        </td> <td>0.301628 </td> <td>0.0865603 </td> <td>0.374672             </td> <td>0.574426             </td> <td>0.676485             </td> <td>0.570235 </td> <td>0.605652        </td> <td>0.474549                  </td> <td>0.287411</td> <td>0.0813064</td> <td>0.354184</td> <td>False                     </td> <td>False                       </td> <td>True                 </td> <td>False                </td> <td>10304   </td> <td>60014003004</td> <td>California</td> <td>CA       </td> <td>9     </td> <td>1377     </td> <td>-1467.69</td> <td>-4988.85 </td> <td>-143.935 </td> <td>-5042.7  </td> <td>-84.4472</td> <td>-965332     </td> <td>-154.624 </td> <td>-32.5296</td> <td>-53.2048</td> <td>-1265.01 </td> <td>0        </td> <td>8.32228</td> <td>28.2884</td> <td>0.81616 </td> <td>28.5937</td> <td>0.478842</td> <td>5473.74</td> <td>0.876765  </td> <td>0.184453</td> <td>0.301688</td> <td>7.17301</td> <td>0    </td> <td>0.228395</td> <td>0.137656  </td> <td>0.294118</td> <td>0.162672 </td> <td>0.0625    </td> <td>0.0684444 </td> <td>0.0450254 </td> <td>0.193174 </td> <td>2999.57     </td> <td>447161     </td> <td>6001     </td> <td>CA        </td> <td>Alameda County</td> <td>San Francisco-Oakland-Hayward, CA</td> <td>4455560      </td> <td>1554720        </td> <td>1        </td> <td>1        </td> <td>1              </td>\n",
       "        </tr>\n",
       "        <tr>\n",
       "            <td>10304     </td> <td>60014004001</td> <td>0.225501                </td> <td>1510            </td> <td>1.79807                                                     </td> <td>8.9                                        </td> <td>3.2                                                </td> <td>5.3                                                        </td> <td>6.5                                                           </td> <td>5.7                                            </td> <td>8.3                                                                </td> <td>28.5718               </td> <td>0.474343                </td> <td>0.809095                 </td> <td>8.32251                   </td> <td>28.287 </td> <td>2395.48                     </td> <td>0.269629              </td> <td>6.50235                </td> <td>0.1593                </td> <td>0                   </td> <td>0.877147                                        </td> <td>0.0245033                    </td> <td>0.148344                     </td> <td>0                             </td> <td>0                                            </td> <td>0.239073                                        </td> <td>0.0333333                                                           </td> <td>0                             </td> <td>50                                                                        </td> <td>0.281277 </td> <td>0.0709325 </td> <td>0.264124             </td> <td>0.322164             </td> <td>0.662725             </td> <td>0.55883  </td> <td>0.593462        </td> <td>0.293144                  </td> <td>0.17397 </td> <td>0.0872814</td> <td>0.268569</td> <td>False                     </td> <td>False                       </td> <td>True                 </td> <td>False                </td> <td>10305   </td> <td>60014004001</td> <td>California</td> <td>CA       </td> <td>9     </td> <td>1510     </td> <td>-1454.5 </td> <td>-4943.64 </td> <td>-141.403 </td> <td>-4993.42 </td> <td>-82.8996</td> <td>-418651     </td> <td>-153.296 </td> <td>-27.8405</td> <td>-47.1223</td> <td>-1136.4  </td> <td>0        </td> <td>8.32251</td> <td>28.287 </td> <td>0.809095</td> <td>28.5718</td> <td>0.474343</td> <td>2395.48</td> <td>0.877147  </td> <td>0.1593  </td> <td>0.269629</td> <td>6.50235</td> <td>0    </td> <td>0.240728</td> <td>0.114606  </td> <td>0.242384</td> <td>0.239073 </td> <td>0         </td> <td>0.0333333 </td> <td>0.0245033 </td> <td>0.148344 </td> <td>3224.23     </td> <td>427263     </td> <td>6001     </td> <td>CA        </td> <td>Alameda County</td> <td>San Francisco-Oakland-Hayward, CA</td> <td>4455560      </td> <td>1554720        </td> <td>1        </td> <td>1        </td> <td>1              </td>\n",
       "        </tr>\n",
       "        <tr>\n",
       "            <td>10305     </td> <td>60014004002</td> <td>0.225501                </td> <td>1071            </td> <td>1.07497                                                     </td> <td>8.9                                        </td> <td>3.2                                                </td> <td>5.3                                                        </td> <td>6.5                                                           </td> <td>5.7                                            </td> <td>8.3                                                                </td> <td>28.5718               </td> <td>0.474343                </td> <td>0.809095                 </td> <td>8.32251                   </td> <td>28.287 </td> <td>7018.22                     </td> <td>0.281915              </td> <td>7.68426                </td> <td>0.177586              </td> <td>0                   </td> <td>0.76588                                         </td> <td>0.0681606                    </td> <td>0.140056                     </td> <td>0.0130719                     </td> <td>0.032567                                     </td> <td>0.205441                                        </td> <td>0.0650888                                                           </td> <td>0.025641                      </td> <td>43                                                                        </td> <td>0.332202 </td> <td>0.109958  </td> <td>0.377563             </td> <td>0.560007             </td> <td>0.658436             </td> <td>0.569214 </td> <td>0.598955        </td> <td>0.468785                  </td> <td>0.280781</td> <td>0.0946487</td> <td>0.401145</td> <td>False                     </td> <td>False                       </td> <td>True                 </td> <td>False                </td> <td>10306   </td> <td>60014004002</td> <td>California</td> <td>CA       </td> <td>9     </td> <td>1071     </td> <td>-555.644</td> <td>-1888.55 </td> <td>-54.0184 </td> <td>-1907.57 </td> <td>-31.669 </td> <td>-468565     </td> <td>-51.1332 </td> <td>-11.8564</td> <td>-18.8218</td> <td>-513.032 </td> <td>0        </td> <td>8.32251</td> <td>28.287 </td> <td>0.809095</td> <td>28.5718</td> <td>0.474343</td> <td>7018.22</td> <td>0.76588   </td> <td>0.177586</td> <td>0.281915</td> <td>7.68426</td> <td>0    </td> <td>0.29413 </td> <td>0.149022  </td> <td>0.38282 </td> <td>0.205441 </td> <td>0.032567  </td> <td>0.0650888 </td> <td>0.0681606 </td> <td>0.140056 </td> <td>2599.43     </td> <td>397854     </td> <td>6001     </td> <td>CA        </td> <td>Alameda County</td> <td>San Francisco-Oakland-Hayward, CA</td> <td>4455560      </td> <td>1554720        </td> <td>1        </td> <td>1        </td> <td>1              </td>\n",
       "        </tr>\n",
       "        <tr>\n",
       "            <td>10306     </td> <td>60014004003</td> <td>0.225501                </td> <td>1410            </td> <td>1.79967                                                     </td> <td>8.9                                        </td> <td>3.2                                                </td> <td>5.3                                                        </td> <td>6.5                                                           </td> <td>5.7                                            </td> <td>8.3                                                                </td> <td>28.5718               </td> <td>0.474343                </td> <td>0.809095                 </td> <td>8.32251                   </td> <td>28.287 </td> <td>1294.04                     </td> <td>0.296072              </td> <td>7.13823                </td> <td>0.163635              </td> <td>0                   </td> <td>0.814617                                        </td> <td>0.104255                     </td> <td>0.0879433                    </td> <td>0.0204082                     </td> <td>0.0447761                                    </td> <td>0.15253                                         </td> <td>0.104533                                                            </td> <td>0.0556793                     </td> <td>40                                                                        </td> <td>0.368807 </td> <td>0.112988  </td> <td>0.442092             </td> <td>0.569179             </td> <td>0.661896             </td> <td>0.54662  </td> <td>0.585045        </td> <td>0.505635                  </td> <td>0.29582 </td> <td>0.0994303</td> <td>0.479511</td> <td>False                     </td> <td>False                       </td> <td>True                 </td> <td>False                </td> <td>10307   </td> <td>60014004003</td> <td>California</td> <td>CA       </td> <td>9     </td> <td>1410     </td> <td>-832.971</td> <td>-2831.15 </td> <td>-80.9795 </td> <td>-2859.65 </td> <td>-47.4753</td> <td>-129516     </td> <td>-81.5322 </td> <td>-16.3776</td> <td>-29.6328</td> <td>-714.441 </td> <td>0        </td> <td>8.32251</td> <td>28.287 </td> <td>0.809095</td> <td>28.5718</td> <td>0.474343</td> <td>1294.04</td> <td>0.814617  </td> <td>0.163635</td> <td>0.296072</td> <td>7.13823</td> <td>0    </td> <td>0.285485</td> <td>0.15208   </td> <td>0.41844 </td> <td>0.15253  </td> <td>0.0447761 </td> <td>0.104533  </td> <td>0.104255  </td> <td>0.0879433</td> <td>2467.44     </td> <td>323064     </td> <td>6001     </td> <td>CA        </td> <td>Alameda County</td> <td>San Francisco-Oakland-Hayward, CA</td> <td>4455560      </td> <td>1554720        </td> <td>1        </td> <td>1        </td> <td>1              </td>\n",
       "        </tr>\n",
       "    </tbody>\n",
       "</table>\n",
       "<p>... (23202 rows omitted)</p>"
      ],
      "text/plain": [
       "Unnamed: 0 | GEOID10     | Housing burden (percent) | Total population | Median household income (% of state median household income) | Current asthma among adults aged >=18 years | Coronary heart disease among adults aged >=18 years | Cancer (excluding skin cancer) among adults aged >=18 years | Current lack of health insurance among adults aged 18-64 years | Diagnosed diabetes among adults aged >=18 years | Physical health not good for >=14 days among adults aged >=18 years | Air toxics cancer risk | Respiratory hazard index | Diesel particulate matter | Particulate matter (PM2.5) | Ozone   | Traffic proximity and volume | Proximity to RMP sites | Proximity to TSDF sites | Proximity to NPL sites | Wastewater discharge | Percent pre-1960s housing (lead paint indicator) | Individuals under 5 years old | Individuals over 64 years old | Linguistic isolation (percent) | Percent of households in linguistic isolation | Poverty (Less than 200% of federal poverty line) | Percent individuals age 25 or over with less than high school degree | Unemployed civilians (percent) | Housing + Transportation Costs % Income for the Regional Typical Household | Score A   | Score B    | Socioeconomic Factors | Sensitive populations | Environmental effects | Exposures | Pollution Burden | Population Characteristics | Score C  | Score D   | Score E  | Low AMI, Low HS graduation | Meets socioeconomic criteria | Meets burden criteria | Score F (communities) | OBJECTID | ID          | STATE_NAME | ST_ABBREV | REGION | ACSTOTPOP | D_PM25_2 | D_OZONE_2 | D_DSLPM_2 | D_CANCR_2 | D_RESP_2 | D_PTRAF_2    | D_LDPNT_2 | D_PNPL_2 | D_PRMP_2 | D_PTSDF_2 | D_PWDIS_2 | PM25    | OZONE   | DSLPM    | CANCER  | RESP     | PTRAF   | PRE1960PCT | PNPL     | PRMP     | PTSDF   | PWDIS | VULEOPCT | VULSVI6PCT | MINORPCT | LOWINCPCT | LINGISOPCT | LESSHSPCT  | UNDER5PCT  | OVER64PCT | Shape_Length | Shape_Area  | FIPS code | State Abr. | County name    | CBSA title                        | CBSA 2012 pop | County 2012 pop | 2013 code | 2006 code | 1990-based code\n",
       "10297      | 60014001001 | 0.1433                   | 2991             | 2.92232                                                      | 7.9                                         | 5.1                                                 | 8.5                                                         | 4.8                                                            | 8                                               | 9                                                                   | 26.4966                | 0.437041                 | 0.597205                  | 8.27278                    | 29.3125 | 1128                         | 0.175204               | 2.29209                 | 0.118582               | 0                    | 0.176558                                         | 0.0618522                     | 0.254096                      | 0.0116009                      | 0.0366826                                     | 0.0959088                                        | 0.0178275                                                            | 0.05                           | 76                                                                         | 0.115592  | 0.0133433  | 0.485942              | 0.669558              | 0.480974              | 0.48832   | 0.485871         | 0.57775                    | 0.280712 | 0.0559111 | 0.297226 | False                      | False                        | False                 | False                 | 10298    | 60014001001 | California | CA        | 9      | 2991      | -3824.22 | -13550.2  | -276.067  | -12248.5  | -202.029 | -521436      | -81.6166  | -54.8162 | -80.9909 | -1059.55  | 0         | 8.27278 | 29.3125 | 0.597205 | 26.4966 | 0.437041 | 1128    | 0.176558   | 0.118582 | 0.175204 | 2.29209 | 0     | 0.201916 | 0.129048   | 0.307924 | 0.0959088 | 0.0366826  | 0.0178275  | 0.0618522  | 0.254096  | 18116.6      | 1.10812e+07 | 6001      | CA         | Alameda County | San Francisco-Oakland-Hayward, CA | 4455560       | 1554720         | 1         | 1         | 1\n",
       "10298      | 60014002001 | 0.06875                  | 1102             | 3.15678                                                      | 8                                           | 4                                                   | 6.9                                                         | 4.8                                                            | 6.1                                             | 7.6                                                                 | 28.282                 | 0.47766                  | 0.784154                  | 8.3093                     | 28.5145 | 5492.56                      | 0.236346               | 5.42626                 | 0.152012               | 0                    | 0.957014                                         | 0.0816697                     | 0.1951                        | 0                              | 0                                             | 0.0789474                                        | 0.0309406                                                            | 0.0360825                      | 55                                                                         | 0.135196  | 0.0164389  | 0.309663              | 0.57654               | 0.6582                | 0.56422   | 0.595547         | 0.443102                   | 0.263888 | 0.0391941 | 0.196257 | False                      | False                        | True                  | False                 | 10299    | 60014002001 | California | CA        | 9      | 1102      | -1552.41 | -5327.32  | -146.502  | -5283.87  | -89.2403 | -1.02616e+06 | -178.797  | -28.4    | -44.1561 | -1013.78  | 0         | 8.3093  | 28.5145 | 0.784154 | 28.282  | 0.47766  | 5492.56 | 0.957014   | 0.152012 | 0.236346 | 5.42626 | 0     | 0.186933 | 0.113596   | 0.294918 | 0.0789474 | 0          | 0.0309406  | 0.0816697  | 0.1951    | 3775.32      | 464222      | 6001      | CA         | Alameda County | San Francisco-Oakland-Hayward, CA | 4455560       | 1554720         | 1         | 1         | 1\n",
       "10299      | 60014002002 | 0.06875                  | 895              | 2.161                                                        | 8                                           | 4                                                   | 6.9                                                         | 4.8                                                            | 6.1                                             | 7.6                                                                 | 28.282                 | 0.47766                  | 0.784154                  | 8.3093                     | 28.5145 | 10897.3                      | 0.239507               | 5.93015                 | 0.161547               | 0                    | 0.871921                                         | 0.00446927                    | 0.194413                      | 0                              | 0                                             | 0.163861                                         | 0.00921053                                                           | 0.0248447                      | 54                                                                         | 0.155107  | 0.0173134  | 0.288754              | 0.349317              | 0.655383              | 0.567425  | 0.596744         | 0.319035                   | 0.190383 | 0.0495832 | 0.181428 | False                      | False                        | True                  | False                 | 10300    | 60014002002 | California | CA        | 9      | 895       | -1011.34 | -3470.55  | -95.4405  | -3442.24  | -58.1367 | -1.32632e+06 | -106.123  | -19.6621 | -29.1507 | -721.767  | 0         | 8.3093  | 28.5145 | 0.784154 | 28.282  | 0.47766  | 10897.3 | 0.871921   | 0.161547 | 0.239507 | 5.93015 | 0     | 0.220478 | 0.108175   | 0.277095 | 0.163861  | 0          | 0.00921053 | 0.00446927 | 0.194413  | 4019.01      | 479487      | 6001      | CA         | Alameda County | San Francisco-Oakland-Hayward, CA | 4455560       | 1554720         | 1         | 1         | 1\n",
       "10300      | 60014003001 | 0.1875                   | 1336             | 2.43879                                                      | 8.9                                         | 3.4                                                 | 5.6                                                         | 6.6                                                            | 5.9                                             | 8.6                                                                 | 28.5937                | 0.478842                 | 0.81616                   | 8.32228                    | 28.2884 | 10393.4                      | 0.225605               | 5.96285                 | 0.165869               | 0                    | 0.953291                                         | 0.0351796                     | 0.0621257                     | 0                              | 0.0382166                                     | 0.0374251                                        | 0                                                                    | 0.0537482                      | 60                                                                         | 0.0324645 | 0.00103806 | 0.414494              | 0.225381              | 0.661901              | 0.573326  | 0.602851         | 0.319938                   | 0.192875 | 0.0455074 | 0.243089 | False                      | False                        | True                  | False                 | 10301    | 60014003001 | California | CA        | 9      | 1336      | -1949.43 | -6626.32  | -191.179  | -6697.85  | -112.165 | -2.43456e+06 | -223.301  | -38.8534 | -52.8462 | -1396.75  | 0         | 8.32228 | 28.2884 | 0.81616  | 28.5937 | 0.478842 | 10393.4 | 0.953291   | 0.165869 | 0.225605 | 5.96285 | 0     | 0.181138 | 0.0829662  | 0.32485  | 0.0374251 | 0.0382166  | 0          | 0.0351796  | 0.0621257 | 3231.26      | 426778      | 6001      | CA         | Alameda County | San Francisco-Oakland-Hayward, CA | 4455560       | 1554720         | 1         | 1         | 1\n",
       "10301      | 60014003002 | 0.1875                   | 1369             | 1.35224                                                      | 8.9                                         | 3.4                                                 | 5.6                                                         | 6.6                                                            | 5.9                                             | 8.6                                                                 | 28.5937                | 0.478842                 | 0.81616                   | 8.32228                    | 28.2884 | 5034.99                      | 0.357574               | 7.90003                 | 0.191764               | 0                    | 0.748336                                         | 0.0562454                     | 0.128561                      | 0                              | 0                                             | 0.158408                                         | 0.0733788                                                            | 0.0679406                      | 43                                                                         | 0.30917   | 0.0889257  | 0.35538               | 0.40019               | 0.670215              | 0.56962   | 0.603152         | 0.377785                   | 0.227862 | 0.0872183 | 0.372479 | False                      | False                        | True                  | False                 | 10302    | 60014003002 | California | CA        | 9      | 1369      | -1382.12 | -4697.98  | -135.543  | -4748.7   | -79.5236 | -836184      | -124.28   | -31.8471 | -59.384  | -1312     | 0         | 8.32228 | 28.2884 | 0.81616  | 28.5937 | 0.478842 | 5034.99 | 0.748336   | 0.191764 | 0.357574 | 7.90003 | 0     | 0.235157 | 0.121417   | 0.311907 | 0.158408  | 0          | 0.0733788  | 0.0562454  | 0.128561  | 4476.58      | 432174      | 6001      | CA         | Alameda County | San Francisco-Oakland-Hayward, CA | 4455560       | 1554720         | 1         | 1         | 1\n",
       "10302      | 60014003003 | 0.1875                   | 1041             | 0.426371                                                     | 8.9                                         | 3.4                                                 | 5.6                                                         | 6.6                                                            | 5.9                                             | 8.6                                                                 | 28.5937                | 0.478842                 | 0.81616                   | 8.32228                    | 28.2884 | 17980.1                      | 0.39522                | 9.14209                 | 0.195052               | 0                    | 0.560284                                         | 0.0172911                     | 0.165226                      | 0.286169                       | 0.278369                                      | 0.169068                                         | 0.0710956                                                            | 0.0157978                      | 31                                                                         | 0.313541  | 0.0938172  | 0.369516              | 0.563802              | 0.651081              | 0.574229  | 0.599846         | 0.466659                   | 0.279924 | 0.135699  | 0.424122 | False                      | True                         | True                  | True                  | 10303    | 60014003003 | California | CA        | 9      | 1041      | -583.255 | -1982.55  | -57.1994  | -2003.95  | -33.559  | -1.26011e+06 | -39.2667  | -13.6699 | -27.6984 | -640.71   | 0         | 8.32228 | 28.2884 | 0.81616  | 28.5937 | 0.478842 | 17980.1 | 0.560284   | 0.195052 | 0.39522  | 9.14209 | 0     | 0.289145 | 0.185045   | 0.409222 | 0.169068  | 0.278369   | 0.0710956  | 0.0172911  | 0.165226  | 3573.57      | 469181      | 6001      | CA         | Alameda County | San Francisco-Oakland-Hayward, CA | 4455560       | 1554720         | 1         | 1         | 1\n",
       "10303      | 60014003004 | 0.1875                   | 1377             | 2.13058                                                      | 8.9                                         | 3.4                                                 | 5.6                                                         | 6.6                                                            | 5.9                                             | 8.6                                                                 | 28.5937                | 0.478842                 | 0.81616                   | 8.32228                    | 28.2884 | 5473.74                      | 0.301688               | 7.17301                 | 0.184453               | 0                    | 0.876765                                         | 0.0450254                     | 0.193174                      | 0.0211268                      | 0.0625                                        | 0.162672                                         | 0.0684444                                                            | 0.0179245                      | 44                                                                         | 0.301628  | 0.0865603  | 0.374672              | 0.574426              | 0.676485              | 0.570235  | 0.605652         | 0.474549                   | 0.287411 | 0.0813064 | 0.354184 | False                      | False                        | True                  | False                 | 10304    | 60014003004 | California | CA        | 9      | 1377      | -1467.69 | -4988.85  | -143.935  | -5042.7   | -84.4472 | -965332      | -154.624  | -32.5296 | -53.2048 | -1265.01  | 0         | 8.32228 | 28.2884 | 0.81616  | 28.5937 | 0.478842 | 5473.74 | 0.876765   | 0.184453 | 0.301688 | 7.17301 | 0     | 0.228395 | 0.137656   | 0.294118 | 0.162672  | 0.0625     | 0.0684444  | 0.0450254  | 0.193174  | 2999.57      | 447161      | 6001      | CA         | Alameda County | San Francisco-Oakland-Hayward, CA | 4455560       | 1554720         | 1         | 1         | 1\n",
       "10304      | 60014004001 | 0.225501                 | 1510             | 1.79807                                                      | 8.9                                         | 3.2                                                 | 5.3                                                         | 6.5                                                            | 5.7                                             | 8.3                                                                 | 28.5718                | 0.474343                 | 0.809095                  | 8.32251                    | 28.287  | 2395.48                      | 0.269629               | 6.50235                 | 0.1593                 | 0                    | 0.877147                                         | 0.0245033                     | 0.148344                      | 0                              | 0                                             | 0.239073                                         | 0.0333333                                                            | 0                              | 50                                                                         | 0.281277  | 0.0709325  | 0.264124              | 0.322164              | 0.662725              | 0.55883   | 0.593462         | 0.293144                   | 0.17397  | 0.0872814 | 0.268569 | False                      | False                        | True                  | False                 | 10305    | 60014004001 | California | CA        | 9      | 1510      | -1454.5  | -4943.64  | -141.403  | -4993.42  | -82.8996 | -418651      | -153.296  | -27.8405 | -47.1223 | -1136.4   | 0         | 8.32251 | 28.287  | 0.809095 | 28.5718 | 0.474343 | 2395.48 | 0.877147   | 0.1593   | 0.269629 | 6.50235 | 0     | 0.240728 | 0.114606   | 0.242384 | 0.239073  | 0          | 0.0333333  | 0.0245033  | 0.148344  | 3224.23      | 427263      | 6001      | CA         | Alameda County | San Francisco-Oakland-Hayward, CA | 4455560       | 1554720         | 1         | 1         | 1\n",
       "10305      | 60014004002 | 0.225501                 | 1071             | 1.07497                                                      | 8.9                                         | 3.2                                                 | 5.3                                                         | 6.5                                                            | 5.7                                             | 8.3                                                                 | 28.5718                | 0.474343                 | 0.809095                  | 8.32251                    | 28.287  | 7018.22                      | 0.281915               | 7.68426                 | 0.177586               | 0                    | 0.76588                                          | 0.0681606                     | 0.140056                      | 0.0130719                      | 0.032567                                      | 0.205441                                         | 0.0650888                                                            | 0.025641                       | 43                                                                         | 0.332202  | 0.109958   | 0.377563              | 0.560007              | 0.658436              | 0.569214  | 0.598955         | 0.468785                   | 0.280781 | 0.0946487 | 0.401145 | False                      | False                        | True                  | False                 | 10306    | 60014004002 | California | CA        | 9      | 1071      | -555.644 | -1888.55  | -54.0184  | -1907.57  | -31.669  | -468565      | -51.1332  | -11.8564 | -18.8218 | -513.032  | 0         | 8.32251 | 28.287  | 0.809095 | 28.5718 | 0.474343 | 7018.22 | 0.76588    | 0.177586 | 0.281915 | 7.68426 | 0     | 0.29413  | 0.149022   | 0.38282  | 0.205441  | 0.032567   | 0.0650888  | 0.0681606  | 0.140056  | 2599.43      | 397854      | 6001      | CA         | Alameda County | San Francisco-Oakland-Hayward, CA | 4455560       | 1554720         | 1         | 1         | 1\n",
       "10306      | 60014004003 | 0.225501                 | 1410             | 1.79967                                                      | 8.9                                         | 3.2                                                 | 5.3                                                         | 6.5                                                            | 5.7                                             | 8.3                                                                 | 28.5718                | 0.474343                 | 0.809095                  | 8.32251                    | 28.287  | 1294.04                      | 0.296072               | 7.13823                 | 0.163635               | 0                    | 0.814617                                         | 0.104255                      | 0.0879433                     | 0.0204082                      | 0.0447761                                     | 0.15253                                          | 0.104533                                                             | 0.0556793                      | 40                                                                         | 0.368807  | 0.112988   | 0.442092              | 0.569179              | 0.661896              | 0.54662   | 0.585045         | 0.505635                   | 0.29582  | 0.0994303 | 0.479511 | False                      | False                        | True                  | False                 | 10307    | 60014004003 | California | CA        | 9      | 1410      | -832.971 | -2831.15  | -80.9795  | -2859.65  | -47.4753 | -129516      | -81.5322  | -16.3776 | -29.6328 | -714.441  | 0         | 8.32251 | 28.287  | 0.809095 | 28.5718 | 0.474343 | 1294.04 | 0.814617   | 0.163635 | 0.296072 | 7.13823 | 0     | 0.285485 | 0.15208    | 0.41844  | 0.15253   | 0.0447761  | 0.104533   | 0.104255   | 0.0879433 | 2467.44      | 323064      | 6001      | CA         | Alameda County | San Francisco-Oakland-Hayward, CA | 4455560       | 1554720         | 1         | 1         | 1\n",
       "... (23202 rows omitted)"
      ]
     },
     "execution_count": 15,
     "metadata": {},
     "output_type": "execute_result"
    }
   ],
   "source": [
    "#load the data set\n",
    "EJScreen_Justice = Table.read_table(\"California_WHEJ.csv\")\n",
    "EJScreen_Justice"
   ]
  },
  {
   "cell_type": "markdown",
   "metadata": {},
   "source": [
    "## Question 1"
   ]
  },
  {
   "cell_type": "markdown",
   "metadata": {
    "cell_id": "00054-40ffae0a-4433-41de-9cd1-b8d4723fb0ba",
    "deepnote_cell_type": "markdown",
    "tags": []
   },
   "source": [
    "Scroll through the table above. **What do you notice? Describe three details you notice about the table.**"
   ]
  },
  {
   "cell_type": "markdown",
   "metadata": {
    "cell_id": "00055-9a7fd828-f3a1-42fd-8b58-335a57eabf27",
    "deepnote_cell_type": "markdown",
    "tags": []
   },
   "source": [
    "*Your answer here*"
   ]
  },
  {
   "cell_type": "markdown",
   "metadata": {
    "cell_id": "00056-61ff4d35-24d1-486e-91fb-1b5a185b1de3",
    "deepnote_cell_type": "markdown",
    "tags": []
   },
   "source": [
    "The EJScreen_Justice table above lists specific regions by `GEOID10`, meaning each row corresponds to data for a specific region. \n",
    "\n",
    "In the following cells, the column data we will be exploring are `ACSTOTPOP` (total population), `D_LDPNT_2` (Lead Paint EJ Index), `PRE1960PCT` (Lead Paint Proximity Score), and `VULEOPCT` (demographic index). "
   ]
  },
  {
   "cell_type": "code",
   "execution_count": 41,
   "metadata": {
    "cell_id": "00058-e5ae9651-3d9f-4b56-9477-774a909ba15b",
    "deepnote_cell_type": "code",
    "deepnote_output_heights": [
     null,
     291
    ],
    "deepnote_to_be_reexecuted": false,
    "execution_millis": 289,
    "execution_start": 1634113000901,
    "source_hash": "5800a7c0",
    "tags": []
   },
   "outputs": [
    {
     "data": {
      "text/plain": [
       "Text(0.5, 1.0, 'Variation in Census Block Population')"
      ]
     },
     "execution_count": 41,
     "metadata": {},
     "output_type": "execute_result"
    },
    {
     "data": {
      "image/png": "[encoded data removed]",
      "text/plain": [
       "<Figure size 432x288 with 1 Axes>"
      ]
     },
     "metadata": {},
     "output_type": "display_data"
    }
   ],
   "source": [
    "#Variation in Census Block Population Histogram shows how population varies by census block\n",
    "\n",
    "EJScreen_Justice.hist('ACSTOTPOP', bins = 50)\n",
    "plt.title(\"Variation in Census Block Population\")"
   ]
  },
  {
   "cell_type": "markdown",
   "metadata": {},
   "source": [
    "What we have plotted above is a **histogram**, which visualizes the distribution of a quantitative variable, like `ACSTOTPOP`. The *hist* function  creates 50 equally wide bins between the minimum and maximum values of the data. Each bin represents a group of values within a specific interval. The area of each bar/rectangle you see on the plot is proportional to the number of entries in the bin. The taller the bin, the larger amount of entries within the bin's interval. More on histograms can be found in the Data 8 Textbook [Chapter 7.2](https://inferentialthinking.com/chapters/07/2/Visualizing_Numerical_Distributions.html#)."
   ]
  },
  {
   "cell_type": "markdown",
   "metadata": {},
   "source": [
    "**What can you learn from this histogram? Is there additional information you will need to make observations from this graph?**"
   ]
  },
  {
   "cell_type": "markdown",
   "metadata": {},
   "source": [
    "*Your answer here*"
   ]
  },
  {
   "cell_type": "markdown",
   "metadata": {},
   "source": [
    "Now we will be analyzing environmental and demographic outcomes pertaining to Lead Paint. **Simply run the cells below.**"
   ]
  },
  {
   "cell_type": "code",
   "execution_count": 45,
   "metadata": {
    "cell_id": "00059-d97754b5-a366-4933-a72c-0b07fa95797a",
    "deepnote_cell_type": "code",
    "deepnote_to_be_reexecuted": false,
    "execution_millis": 2,
    "execution_start": 1634113004483,
    "source_hash": "fbaee80",
    "tags": []
   },
   "outputs": [
    {
     "data": {
      "text/html": [
       "<table border=\"1\" class=\"dataframe\">\n",
       "    <thead>\n",
       "        <tr>\n",
       "            <th>Lead Paint Justice Index</th> <th>Lead Paint Proximity Score</th> <th>Demographic Index</th>\n",
       "        </tr>\n",
       "    </thead>\n",
       "    <tbody>\n",
       "        <tr>\n",
       "            <td>-81.6166                </td> <td>0.176558                  </td> <td>0.201916         </td>\n",
       "        </tr>\n",
       "        <tr>\n",
       "            <td>-178.797                </td> <td>0.957014                  </td> <td>0.186933         </td>\n",
       "        </tr>\n",
       "        <tr>\n",
       "            <td>-106.123                </td> <td>0.871921                  </td> <td>0.220478         </td>\n",
       "        </tr>\n",
       "        <tr>\n",
       "            <td>-223.301                </td> <td>0.953291                  </td> <td>0.181138         </td>\n",
       "        </tr>\n",
       "        <tr>\n",
       "            <td>-124.28                 </td> <td>0.748336                  </td> <td>0.235157         </td>\n",
       "        </tr>\n",
       "        <tr>\n",
       "            <td>-39.2667                </td> <td>0.560284                  </td> <td>0.289145         </td>\n",
       "        </tr>\n",
       "        <tr>\n",
       "            <td>-154.624                </td> <td>0.876765                  </td> <td>0.228395         </td>\n",
       "        </tr>\n",
       "        <tr>\n",
       "            <td>-153.296                </td> <td>0.877147                  </td> <td>0.240728         </td>\n",
       "        </tr>\n",
       "        <tr>\n",
       "            <td>-51.1332                </td> <td>0.76588                   </td> <td>0.29413          </td>\n",
       "        </tr>\n",
       "        <tr>\n",
       "            <td>-81.5322                </td> <td>0.814617                  </td> <td>0.285485         </td>\n",
       "        </tr>\n",
       "    </tbody>\n",
       "</table>\n",
       "<p>... (23202 rows omitted)</p>"
      ],
      "text/plain": [
       "Lead Paint Justice Index | Lead Paint Proximity Score | Demographic Index\n",
       "-81.6166                 | 0.176558                   | 0.201916\n",
       "-178.797                 | 0.957014                   | 0.186933\n",
       "-106.123                 | 0.871921                   | 0.220478\n",
       "-223.301                 | 0.953291                   | 0.181138\n",
       "-124.28                  | 0.748336                   | 0.235157\n",
       "-39.2667                 | 0.560284                   | 0.289145\n",
       "-154.624                 | 0.876765                   | 0.228395\n",
       "-153.296                 | 0.877147                   | 0.240728\n",
       "-51.1332                 | 0.76588                    | 0.29413\n",
       "-81.5322                 | 0.814617                   | 0.285485\n",
       "... (23202 rows omitted)"
      ]
     },
     "execution_count": 45,
     "metadata": {},
     "output_type": "execute_result"
    }
   ],
   "source": [
    "#Putting demo index, LP prximity score, LP Justice Index in a single table\n",
    "#Lead Paint EJ index column → D_LDPNT_2\n",
    "#Lead Paint proximity score column → PRE1960PCT\n",
    "#Demographic Index column → VULEOPCT\n",
    "\n",
    "lead_paint = EJScreen_Justice.select('D_LDPNT_2','PRE1960PCT','VULEOPCT')\n",
    "lead_paint.relabel('VULEOPCT','Demographic Index')\n",
    "lead_paint.relabel('PRE1960PCT','Lead Paint Proximity Score')\n",
    "lead_paint.relabel('D_LDPNT_2','Lead Paint Justice Index')"
   ]
  },
  {
   "cell_type": "code",
   "execution_count": 18,
   "metadata": {
    "cell_id": "00061-ef08aaa6-a288-426f-a73c-f13f40f0f979",
    "deepnote_cell_type": "code",
    "deepnote_output_heights": [
     269
    ],
    "deepnote_to_be_reexecuted": false,
    "execution_millis": 283,
    "execution_start": 1634113006735,
    "source_hash": "c2c47428",
    "tags": []
   },
   "outputs": [
    {
     "data": {
      "image/png": "[encoded data removed]",
      "text/plain": [
       "<Figure size 432x288 with 1 Axes>"
      ]
     },
     "metadata": {},
     "output_type": "display_data"
    }
   ],
   "source": [
    "#Distribution of the Demographic Index\n",
    "demo_index = lead_paint.hist('Demographic Index')\n",
    "demo_index"
   ]
  },
  {
   "cell_type": "code",
   "execution_count": 19,
   "metadata": {
    "cell_id": "00057-509ac4e9-8f0a-4191-bfbd-4ef03f5bad95",
    "deepnote_cell_type": "code",
    "deepnote_to_be_reexecuted": false,
    "execution_millis": 10,
    "execution_start": 1634113122176,
    "source_hash": "f9022204",
    "tags": []
   },
   "outputs": [
    {
     "name": "stdout",
     "output_type": "stream",
     "text": [
      "Mean of demographic indexes:  0.46054134815097275\n"
     ]
    }
   ],
   "source": [
    "demo_mean = np.average(lead_paint.column('Demographic Index'))\n",
    "print('Mean of demographic indexes: ',demo_mean)"
   ]
  },
  {
   "cell_type": "markdown",
   "metadata": {
    "cell_id": "00058-c00dccd7-94cc-497d-a7f4-4fe72385d9f0",
    "deepnote_cell_type": "markdown",
    "tags": []
   },
   "source": [
    "As shown above, the demographic index mean is about 0.35. However, communities that have demographic indexes that fall below the mean (if the census population is below the national average), recieve a negative demographic index score, making the final Justice Score negative. Remember, negative Justice Scores indicate low risk. Let's now examine the lead paint proximity score. "
   ]
  },
  {
   "cell_type": "code",
   "execution_count": 20,
   "metadata": {
    "cell_id": "00059-01a62df7-eb47-406d-a04d-f260b662588e",
    "deepnote_cell_type": "code",
    "deepnote_output_heights": [
     271
    ],
    "deepnote_to_be_reexecuted": false,
    "execution_millis": 363,
    "execution_start": 1634113012783,
    "source_hash": "f72bb9e4",
    "tags": []
   },
   "outputs": [
    {
     "data": {
      "image/png": "[encoded data removed]",
      "text/plain": [
       "<Figure size 432x288 with 1 Axes>"
      ]
     },
     "metadata": {},
     "output_type": "display_data"
    }
   ],
   "source": [
    "#Lead Paint Proximity Score\n",
    "LP_proximity = lead_paint.hist('Lead Paint Proximity Score')\n",
    "LP_proximity"
   ]
  },
  {
   "cell_type": "markdown",
   "metadata": {
    "cell_id": "00059-7390bb15-e14a-47d9-873b-883c1e345cc3",
    "deepnote_cell_type": "markdown",
    "tags": []
   },
   "source": [
    "Let's calculate the average and standard deviation of the lead paint proximity score."
   ]
  },
  {
   "cell_type": "code",
   "execution_count": 21,
   "metadata": {
    "cell_id": "00060-9dace202-49ca-4b79-b4ef-728d2eb035ad",
    "deepnote_cell_type": "code",
    "deepnote_to_be_reexecuted": false,
    "execution_millis": 6,
    "execution_start": 1634113018089,
    "source_hash": "e7e72f73",
    "tags": []
   },
   "outputs": [
    {
     "name": "stdout",
     "output_type": "stream",
     "text": [
      "Mean of lead paint proximity scores:  0.3429843020538645\n",
      "Standard deviation of lead paint proximity scores:  0.29266695042304375\n"
     ]
    }
   ],
   "source": [
    "lp_mean = np.mean(lead_paint.column('Lead Paint Proximity Score'))\n",
    "lp_stddev = np.std(lead_paint.column('Lead Paint Proximity Score'))\n",
    "print('Mean of lead paint proximity scores: ',lp_mean)\n",
    "print('Standard deviation of lead paint proximity scores: ',lp_stddev)"
   ]
  },
  {
   "cell_type": "markdown",
   "metadata": {
    "cell_id": "00068-f8fa6283-c6a5-4f45-89a6-fccf1fc3a86f",
    "deepnote_cell_type": "markdown",
    "tags": []
   },
   "source": [
    "Read more about standard deviation in [Chapter 14.3](https://inferentialthinking.com/chapters/14/3/SD_and_the_Normal_Curve.html) in the Data 8 textbook."
   ]
  },
  {
   "cell_type": "markdown",
   "metadata": {
    "cell_id": "00061-287a405c-17d4-4fff-b4c4-5802c4f7f5a9",
    "deepnote_cell_type": "markdown",
    "tags": []
   },
   "source": [
    "Finally, to calculate a Lead Paint Environmental Justice Index for a particular region, that region's Demographic Index and Lead Paint Proximity Score is multiplied together to get a final EJ Index. Supposedly, the greater the index the more dangerous levels of lead paint are present. However, as we saw above (when looking at the demographic indexes), if a community's demographic index falls below the national average, that community automatically recieves a negative Demographic Index, and thus a negative Environmental Justice Score. This becomes an important issue because this calculation did not even consider the Lead Paint Proximity Score. Even if that community had a dangerously high Lead Paint Proximity Score, this calculation automatically gave them a negative EJ Score because of the census population data."
   ]
  },
  {
   "cell_type": "markdown",
   "metadata": {
    "cell_id": "00062-aa749890-5bf8-4c81-9472-2aad82d19f0b",
    "deepnote_cell_type": "markdown",
    "tags": []
   },
   "source": [
    "Below is a histogram showing the distribution of Lead Paint Justice Indexes nationally."
   ]
  },
  {
   "cell_type": "code",
   "execution_count": 22,
   "metadata": {
    "cell_id": "00062-0e4df8ce-545a-445f-91a8-db248711c23b",
    "deepnote_cell_type": "code",
    "deepnote_output_heights": [
     269
    ],
    "deepnote_to_be_reexecuted": false,
    "execution_millis": 340,
    "execution_start": 1634113022112,
    "source_hash": "28784dde",
    "tags": []
   },
   "outputs": [
    {
     "data": {
      "image/png": "[encoded data removed]",
      "text/plain": [
       "<Figure size 432x288 with 1 Axes>"
      ]
     },
     "metadata": {},
     "output_type": "display_data"
    }
   ],
   "source": [
    "#Lead Paint Justice Index\n",
    "LP_justice_index = lead_paint.hist('Lead Paint Justice Index',bins=20)\n",
    "LP_justice_index"
   ]
  },
  {
   "cell_type": "markdown",
   "metadata": {
    "cell_id": "00064-8765b78a-bb48-465e-bf38-43433397ab8a",
    "deepnote_cell_type": "markdown",
    "tags": []
   },
   "source": [
    "**Share 1-2 observations you can make about this histogram.**"
   ]
  },
  {
   "cell_type": "markdown",
   "metadata": {},
   "source": [
    "*Your answer here*"
   ]
  },
  {
   "cell_type": "markdown",
   "metadata": {
    "cell_id": "00066-4fcf5a41-649d-4c13-ba94-045cb4733847",
    "deepnote_cell_type": "text-cell-h3",
    "is_collapsed": false,
    "tags": []
   },
   "source": [
    "### Conclusions"
   ]
  },
  {
   "cell_type": "markdown",
   "metadata": {
    "cell_id": "00066-2dffae77-bb83-4768-9681-698d7a15a134",
    "deepnote_cell_type": "markdown",
    "tags": []
   },
   "source": [
    "So what's the issue with this procedure for calculating justice indexes? Recall the formula stated above:"
   ]
  },
  {
   "cell_type": "markdown",
   "metadata": {
    "cell_id": "00068-318aa912-1fd1-4b10-9c9f-ea8acba54615",
    "deepnote_cell_type": "markdown",
    "tags": []
   },
   "source": [
    "Justice Index = Environmental Quality indicator * Demographic Index * Census Block Population"
   ]
  },
  {
   "cell_type": "markdown",
   "metadata": {
    "cell_id": "00069-cc2d7866-a43e-49df-b1b9-098e3a441165",
    "deepnote_cell_type": "markdown",
    "tags": []
   },
   "source": [
    "In addition, recall that a Demographic Index can take on a negative value if the Census Block Population falls below the national average. Without even considering the Environmental Quality Indicator (Lead Paint Proximity Score in our example), the final Justice Score is a negative value (indicating low levels of risk). However, just because a community falls below the census population, doesn't mean there is no hazardous risk present. As a result, this calculation can be misleading because certain communities will be categorized as having low risk, even though they may be at high risk but just happened to fall below the National Average in their Cencus Population."
   ]
  },
  {
   "cell_type": "code",
   "execution_count": 26,
   "metadata": {
    "cell_id": "00079-c48de968-9c32-42d5-adbc-112e79b964c1",
    "deepnote_cell_type": "code",
    "tags": []
   },
   "outputs": [
    {
     "data": {
      "application/vnd.jupyter.widget-view+json": {
       "model_id": "f6570265b84e44c9818431297682fc55",
       "version_major": 2,
       "version_minor": 0
      },
      "text/plain": [
       "interactive(children=(Dropdown(description='ej_index', options=('D_LDPNT_2', 'D_DSLPM_2', 'D_CANCR_2', 'D_RESP…"
      ]
     },
     "metadata": {},
     "output_type": "display_data"
    }
   ],
   "source": [
    "#EJScreen_Justice_table\n",
    "import ipywidgets as widgets\n",
    "from ipywidgets import interact, interactive, fixed, interact_manual\n",
    "\n",
    "def index_histogram(ej_index):\n",
    "    #eji_col = EJScreen_Justice_table.select(...)\n",
    "    eji_col = EJScreen_Justice_table.select(ej_index)\n",
    "    return eji_col.hist(ej_index, bins=50)\n",
    "\n",
    "EJ_widget = widgets.Dropdown(options=[\"D_LDPNT_2\", \"D_DSLPM_2\", \"D_CANCR_2\", \n",
    "        \"D_RESP_2\", \"D_PTRAF_2\", \"D_PWDIS_2\", \"D_PNPL_2\", \"D_PRMP_2\", \n",
    "        \"D_PTSDF_2\", \"D_OZONE_2\", \"D_PM25_2\"], value = \"D_LDPNT_2\")\n",
    "interact(index_histogram, ej_index=EJ_widget);"
   ]
  },
  {
   "cell_type": "markdown",
   "metadata": {
    "created_in_deepnote_cell": true,
    "deepnote_cell_type": "markdown",
    "tags": []
   },
   "source": [
    "Please let us know of your thoughts on this notebook! [Fill out the following survey here](https://forms.gle/Hm2NFqCDi5Sxw7RT7)\n",
    "\n",
    "Developed by Caitlin Yee, Kinsey Long, Aaron Moore and Peter Grinde-Hollevik\n"
   ]
  }
 ],
 "metadata": {
  "deepnote": {
   "is_reactive": false
  },
  "deepnote_execution_queue": [],
  "deepnote_notebook_id": "9ff3cd53-ca3f-47a9-ae6f-498b90e1d29f",
  "kernelspec": {
   "display_name": "Python 3",
   "language": "python",
   "name": "python3"
  },
  "language_info": {
   "codemirror_mode": {
    "name": "ipython",
    "version": 3
   },
   "file_extension": ".py",
   "mimetype": "text/x-python",
   "name": "python",
   "nbconvert_exporter": "python",
   "pygments_lexer": "ipython3",
   "version": "3.8.8"
  }
 },
 "nbformat": 4,
 "nbformat_minor": 2
}
