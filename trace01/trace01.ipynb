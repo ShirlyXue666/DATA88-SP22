{
 "cells": [
  {
   "cell_type": "code",
   "execution_count": 1,
   "id": "bf8e0531",
   "metadata": {},
   "outputs": [],
   "source": [
    "import numpy as np\n",
    "import pandas as pd\n",
    "import requests"
   ]
  },
  {
   "cell_type": "markdown",
   "id": "858ca0ff",
   "metadata": {},
   "source": [
    "Goal: Identify or visualize the impact of COVID on emissions (visualizations of time series data before and when COVID began)\n",
    "\n",
    "Learning Objectives:\n",
    "1. How were different sectors impacted by COVID-19?\n",
    "2. What was the overall effect of COVID-19 on GHG Emissions across all Countries?\n",
    "3. Can we observe when COVID directly impacted emissions in America?"
   ]
  },
  {
   "cell_type": "markdown",
   "id": "e028ad06",
   "metadata": {},
   "source": [
    "## Part One: Comparing Yearly Aggregated Data of Total GHG Emissions "
   ]
  },
  {
   "cell_type": "code",
   "execution_count": null,
   "id": "fddfe057",
   "metadata": {},
   "outputs": [],
   "source": [
    "#dataset of yearly GHG emissions across all countries\n",
    "sectors_emissions = requests.get(\"https://api.climatetrace.org/emissions_by_sector_timeseries?interval=year&since=2000&to=2021\").json()\n",
    "sectors_emissions = pd.json_normalize(sectors_emissions, record_path = [\"emissions\"], meta = [\"name\"]).rename(columns ={\"start\": \"Start Date\", \"end\": \"End Date\", \"value\": \"GHG Emissions\", \"name\":\"Sector\"})"
   ]
  },
  {
   "cell_type": "code",
   "execution_count": 22,
   "id": "570eaf88",
   "metadata": {},
   "outputs": [
    {
     "data": {
      "text/plain": [
       "transport        7\n",
       "oil and gas      7\n",
       "maritime         7\n",
       "buildings        7\n",
       "power            7\n",
       "forests          7\n",
       "waste            7\n",
       "agriculture      7\n",
       "extraction       7\n",
       "manufacturing    7\n",
       "Name: Sector, dtype: int64"
      ]
     },
     "execution_count": 22,
     "metadata": {},
     "output_type": "execute_result"
    }
   ],
   "source": [
    "sectors_emissions[\"Sector\"].value_counts()"
   ]
  },
  {
   "cell_type": "markdown",
   "id": "08299866",
   "metadata": {},
   "source": [
    "## Part Two: Monthly Data in 2020-2021 USA"
   ]
  },
  {
   "cell_type": "code",
   "execution_count": 35,
   "id": "4ccb1375",
   "metadata": {},
   "outputs": [],
   "source": [
    "usa_monthly = requests.get(\"https://api.climatetrace.org/emissions_by_sector_timeseries?country=USA&interval=month&since=2000&to=2021\").json()\n",
    "usa_monthly = pd.json_normalize(usa_monthly, record_path = [\"emissions\"], meta = [\"name\"]).rename(columns ={\"start\": \"Start Date\", \"end\": \"End Date\", \"value\": \"GHG Emissions\", \"name\":\"Sector\"})"
   ]
  },
  {
   "cell_type": "code",
   "execution_count": 36,
   "id": "530174ae",
   "metadata": {},
   "outputs": [
    {
     "data": {
      "text/html": [
       "<div>\n",
       "<style scoped>\n",
       "    .dataframe tbody tr th:only-of-type {\n",
       "        vertical-align: middle;\n",
       "    }\n",
       "\n",
       "    .dataframe tbody tr th {\n",
       "        vertical-align: top;\n",
       "    }\n",
       "\n",
       "    .dataframe thead th {\n",
       "        text-align: right;\n",
       "    }\n",
       "</style>\n",
       "<table border=\"1\" class=\"dataframe\">\n",
       "  <thead>\n",
       "    <tr style=\"text-align: right;\">\n",
       "      <th></th>\n",
       "      <th>Start Date</th>\n",
       "      <th>End Date</th>\n",
       "      <th>GHG Emissions</th>\n",
       "      <th>Sector</th>\n",
       "    </tr>\n",
       "  </thead>\n",
       "  <tbody>\n",
       "    <tr>\n",
       "      <th>0</th>\n",
       "      <td>2021-12-01</td>\n",
       "      <td>2022-01-01</td>\n",
       "      <td>2.594783e+06</td>\n",
       "      <td>agriculture</td>\n",
       "    </tr>\n",
       "    <tr>\n",
       "      <th>1</th>\n",
       "      <td>2021-11-01</td>\n",
       "      <td>2021-12-01</td>\n",
       "      <td>2.594783e+06</td>\n",
       "      <td>agriculture</td>\n",
       "    </tr>\n",
       "    <tr>\n",
       "      <th>2</th>\n",
       "      <td>2021-10-01</td>\n",
       "      <td>2021-11-01</td>\n",
       "      <td>2.681276e+06</td>\n",
       "      <td>agriculture</td>\n",
       "    </tr>\n",
       "    <tr>\n",
       "      <th>3</th>\n",
       "      <td>2021-09-01</td>\n",
       "      <td>2021-10-01</td>\n",
       "      <td>2.594783e+06</td>\n",
       "      <td>agriculture</td>\n",
       "    </tr>\n",
       "    <tr>\n",
       "      <th>4</th>\n",
       "      <td>2021-08-01</td>\n",
       "      <td>2021-09-01</td>\n",
       "      <td>2.681276e+06</td>\n",
       "      <td>agriculture</td>\n",
       "    </tr>\n",
       "    <tr>\n",
       "      <th>...</th>\n",
       "      <td>...</td>\n",
       "      <td>...</td>\n",
       "      <td>...</td>\n",
       "      <td>...</td>\n",
       "    </tr>\n",
       "    <tr>\n",
       "      <th>835</th>\n",
       "      <td>2015-05-01</td>\n",
       "      <td>2015-06-01</td>\n",
       "      <td>2.424543e+09</td>\n",
       "      <td>waste</td>\n",
       "    </tr>\n",
       "    <tr>\n",
       "      <th>836</th>\n",
       "      <td>2015-04-01</td>\n",
       "      <td>2015-05-01</td>\n",
       "      <td>2.346332e+09</td>\n",
       "      <td>waste</td>\n",
       "    </tr>\n",
       "    <tr>\n",
       "      <th>837</th>\n",
       "      <td>2015-03-01</td>\n",
       "      <td>2015-04-01</td>\n",
       "      <td>2.424543e+09</td>\n",
       "      <td>waste</td>\n",
       "    </tr>\n",
       "    <tr>\n",
       "      <th>838</th>\n",
       "      <td>2015-02-01</td>\n",
       "      <td>2015-03-01</td>\n",
       "      <td>2.189910e+09</td>\n",
       "      <td>waste</td>\n",
       "    </tr>\n",
       "    <tr>\n",
       "      <th>839</th>\n",
       "      <td>2015-01-01</td>\n",
       "      <td>2015-02-01</td>\n",
       "      <td>2.424543e+09</td>\n",
       "      <td>waste</td>\n",
       "    </tr>\n",
       "  </tbody>\n",
       "</table>\n",
       "<p>840 rows × 4 columns</p>\n",
       "</div>"
      ],
      "text/plain": [
       "     Start Date    End Date  GHG Emissions       Sector\n",
       "0    2021-12-01  2022-01-01   2.594783e+06  agriculture\n",
       "1    2021-11-01  2021-12-01   2.594783e+06  agriculture\n",
       "2    2021-10-01  2021-11-01   2.681276e+06  agriculture\n",
       "3    2021-09-01  2021-10-01   2.594783e+06  agriculture\n",
       "4    2021-08-01  2021-09-01   2.681276e+06  agriculture\n",
       "..          ...         ...            ...          ...\n",
       "835  2015-05-01  2015-06-01   2.424543e+09        waste\n",
       "836  2015-04-01  2015-05-01   2.346332e+09        waste\n",
       "837  2015-03-01  2015-04-01   2.424543e+09        waste\n",
       "838  2015-02-01  2015-03-01   2.189910e+09        waste\n",
       "839  2015-01-01  2015-02-01   2.424543e+09        waste\n",
       "\n",
       "[840 rows x 4 columns]"
      ]
     },
     "execution_count": 36,
     "metadata": {},
     "output_type": "execute_result"
    }
   ],
   "source": [
    "usa_monthly"
   ]
  },
  {
   "cell_type": "markdown",
   "id": "d594ee5e",
   "metadata": {},
   "source": [
    "## Part Three: Observing Daily Data in January-April 2020 USA"
   ]
  },
  {
   "cell_type": "code",
   "execution_count": 39,
   "id": "0938c894",
   "metadata": {},
   "outputs": [
    {
     "data": {
      "text/html": [
       "<div>\n",
       "<style scoped>\n",
       "    .dataframe tbody tr th:only-of-type {\n",
       "        vertical-align: middle;\n",
       "    }\n",
       "\n",
       "    .dataframe tbody tr th {\n",
       "        vertical-align: top;\n",
       "    }\n",
       "\n",
       "    .dataframe thead th {\n",
       "        text-align: right;\n",
       "    }\n",
       "</style>\n",
       "<table border=\"1\" class=\"dataframe\">\n",
       "  <thead>\n",
       "    <tr style=\"text-align: right;\">\n",
       "      <th></th>\n",
       "      <th>Start Date</th>\n",
       "      <th>End Date</th>\n",
       "      <th>GHG Emissions</th>\n",
       "      <th>Sector</th>\n",
       "    </tr>\n",
       "  </thead>\n",
       "  <tbody>\n",
       "    <tr>\n",
       "      <th>0</th>\n",
       "      <td>2021-12-30</td>\n",
       "      <td>2021-12-31</td>\n",
       "      <td>8.649276e+04</td>\n",
       "      <td>agriculture</td>\n",
       "    </tr>\n",
       "    <tr>\n",
       "      <th>1</th>\n",
       "      <td>2021-12-29</td>\n",
       "      <td>2021-12-30</td>\n",
       "      <td>8.649276e+04</td>\n",
       "      <td>agriculture</td>\n",
       "    </tr>\n",
       "    <tr>\n",
       "      <th>2</th>\n",
       "      <td>2021-12-28</td>\n",
       "      <td>2021-12-29</td>\n",
       "      <td>8.649276e+04</td>\n",
       "      <td>agriculture</td>\n",
       "    </tr>\n",
       "    <tr>\n",
       "      <th>3</th>\n",
       "      <td>2021-12-27</td>\n",
       "      <td>2021-12-28</td>\n",
       "      <td>8.649276e+04</td>\n",
       "      <td>agriculture</td>\n",
       "    </tr>\n",
       "    <tr>\n",
       "      <th>4</th>\n",
       "      <td>2021-12-26</td>\n",
       "      <td>2021-12-27</td>\n",
       "      <td>8.649276e+04</td>\n",
       "      <td>agriculture</td>\n",
       "    </tr>\n",
       "    <tr>\n",
       "      <th>...</th>\n",
       "      <td>...</td>\n",
       "      <td>...</td>\n",
       "      <td>...</td>\n",
       "      <td>...</td>\n",
       "    </tr>\n",
       "    <tr>\n",
       "      <th>7285</th>\n",
       "      <td>2020-01-05</td>\n",
       "      <td>2020-01-06</td>\n",
       "      <td>7.689103e+07</td>\n",
       "      <td>waste</td>\n",
       "    </tr>\n",
       "    <tr>\n",
       "      <th>7286</th>\n",
       "      <td>2020-01-04</td>\n",
       "      <td>2020-01-05</td>\n",
       "      <td>7.689103e+07</td>\n",
       "      <td>waste</td>\n",
       "    </tr>\n",
       "    <tr>\n",
       "      <th>7287</th>\n",
       "      <td>2020-01-03</td>\n",
       "      <td>2020-01-04</td>\n",
       "      <td>7.689103e+07</td>\n",
       "      <td>waste</td>\n",
       "    </tr>\n",
       "    <tr>\n",
       "      <th>7288</th>\n",
       "      <td>2020-01-02</td>\n",
       "      <td>2020-01-03</td>\n",
       "      <td>7.689103e+07</td>\n",
       "      <td>waste</td>\n",
       "    </tr>\n",
       "    <tr>\n",
       "      <th>7289</th>\n",
       "      <td>2020-01-01</td>\n",
       "      <td>2020-01-02</td>\n",
       "      <td>7.689103e+07</td>\n",
       "      <td>waste</td>\n",
       "    </tr>\n",
       "  </tbody>\n",
       "</table>\n",
       "<p>7290 rows × 4 columns</p>\n",
       "</div>"
      ],
      "text/plain": [
       "      Start Date    End Date  GHG Emissions       Sector\n",
       "0     2021-12-30  2021-12-31   8.649276e+04  agriculture\n",
       "1     2021-12-29  2021-12-30   8.649276e+04  agriculture\n",
       "2     2021-12-28  2021-12-29   8.649276e+04  agriculture\n",
       "3     2021-12-27  2021-12-28   8.649276e+04  agriculture\n",
       "4     2021-12-26  2021-12-27   8.649276e+04  agriculture\n",
       "...          ...         ...            ...          ...\n",
       "7285  2020-01-05  2020-01-06   7.689103e+07        waste\n",
       "7286  2020-01-04  2020-01-05   7.689103e+07        waste\n",
       "7287  2020-01-03  2020-01-04   7.689103e+07        waste\n",
       "7288  2020-01-02  2020-01-03   7.689103e+07        waste\n",
       "7289  2020-01-01  2020-01-02   7.689103e+07        waste\n",
       "\n",
       "[7290 rows x 4 columns]"
      ]
     },
     "execution_count": 39,
     "metadata": {},
     "output_type": "execute_result"
    }
   ],
   "source": [
    "usa_daily = requests.get(\"https://api.climatetrace.org/emissions_by_sector_timeseries?country=USA&interval=day&since=2020&to=2021\").json()\n",
    "usa_daily = pd.json_normalize(usa_daily, record_path = [\"emissions\"], meta = [\"name\"]).rename(columns ={\"start\": \"Start Date\", \"end\": \"End Date\", \"value\": \"GHG Emissions\", \"name\":\"Sector\"})\n",
    "usa_daily"
   ]
  },
  {
   "cell_type": "markdown",
   "id": "aacf5dd3",
   "metadata": {},
   "source": [
    "1. Cleaning Dataset to only the Months of January through April\n",
    "2. Plotting daily ghg emissions data"
   ]
  },
  {
   "cell_type": "markdown",
   "id": "1626e392",
   "metadata": {},
   "source": [
    "## Part Four: Try it for yourself\n",
    "Have students execute the request call using the ClimateTrace API [https://api.climatetrace.org/] to observe time series of another country"
   ]
  },
  {
   "cell_type": "code",
   "execution_count": null,
   "id": "493d65f7",
   "metadata": {},
   "outputs": [],
   "source": []
  }
 ],
 "metadata": {
  "kernelspec": {
   "display_name": "Python 3",
   "language": "python",
   "name": "python3"
  },
  "language_info": {
   "codemirror_mode": {
    "name": "ipython",
    "version": 3
   },
   "file_extension": ".py",
   "mimetype": "text/x-python",
   "name": "python",
   "nbconvert_exporter": "python",
   "pygments_lexer": "ipython3",
   "version": "3.8.8"
  }
 },
 "nbformat": 4,
 "nbformat_minor": 5
}
