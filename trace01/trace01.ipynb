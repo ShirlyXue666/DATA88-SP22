{
 "cells": [
  {
   "cell_type": "code",
   "execution_count": 8,
   "id": "bf8e0531",
   "metadata": {},
   "outputs": [],
   "source": [
    "import numpy as np\n",
    "import pandas as pd\n",
    "import requests\n",
    "from datascience import *"
   ]
  },
  {
   "cell_type": "markdown",
   "id": "858ca0ff",
   "metadata": {},
   "source": [
    "Goal: Identify or visualize the impact of COVID on emissions (visualizations of time series data before and when COVID began)\n",
    "\n",
    "Learning Objectives:\n",
    "1. How were different sectors impacted by COVID-19?\n",
    "2. What was the overall effect of COVID-19 on GHG Emissions across all Countries?\n",
    "3. Can we observe when COVID directly impacted emissions in America?"
   ]
  },
  {
   "cell_type": "markdown",
   "id": "e028ad06",
   "metadata": {},
   "source": [
    "## Part One: Comparing Yearly Aggregated Data of Total GHG Emissions "
   ]
  },
  {
   "cell_type": "code",
   "execution_count": 9,
   "id": "fddfe057",
   "metadata": {},
   "outputs": [
    {
     "ename": "NameError",
     "evalue": "name 'Tables' is not defined",
     "output_type": "error",
     "traceback": [
      "\u001b[0;31m---------------------------------------------------------------------------\u001b[0m",
      "\u001b[0;31mNameError\u001b[0m                                 Traceback (most recent call last)",
      "\u001b[0;32m<ipython-input-9-b69114267e81>\u001b[0m in \u001b[0;36m<module>\u001b[0;34m\u001b[0m\n\u001b[1;32m      2\u001b[0m \u001b[0msectors_emissions\u001b[0m \u001b[0;34m=\u001b[0m \u001b[0mrequests\u001b[0m\u001b[0;34m.\u001b[0m\u001b[0mget\u001b[0m\u001b[0;34m(\u001b[0m\u001b[0;34m\"https://api.climatetrace.org/emissions_by_sector_timeseries?interval=year&since=2000&to=2021\"\u001b[0m\u001b[0;34m)\u001b[0m\u001b[0;34m.\u001b[0m\u001b[0mjson\u001b[0m\u001b[0;34m(\u001b[0m\u001b[0;34m)\u001b[0m\u001b[0;34m\u001b[0m\u001b[0;34m\u001b[0m\u001b[0m\n\u001b[1;32m      3\u001b[0m \u001b[0msectors_emissions\u001b[0m \u001b[0;34m=\u001b[0m \u001b[0mpd\u001b[0m\u001b[0;34m.\u001b[0m\u001b[0mjson_normalize\u001b[0m\u001b[0;34m(\u001b[0m\u001b[0msectors_emissions\u001b[0m\u001b[0;34m,\u001b[0m \u001b[0mrecord_path\u001b[0m \u001b[0;34m=\u001b[0m \u001b[0;34m[\u001b[0m\u001b[0;34m\"emissions\"\u001b[0m\u001b[0;34m]\u001b[0m\u001b[0;34m,\u001b[0m \u001b[0mmeta\u001b[0m \u001b[0;34m=\u001b[0m \u001b[0;34m[\u001b[0m\u001b[0;34m\"name\"\u001b[0m\u001b[0;34m]\u001b[0m\u001b[0;34m)\u001b[0m\u001b[0;34m.\u001b[0m\u001b[0mrename\u001b[0m\u001b[0;34m(\u001b[0m\u001b[0mcolumns\u001b[0m \u001b[0;34m=\u001b[0m\u001b[0;34m{\u001b[0m\u001b[0;34m\"start\"\u001b[0m\u001b[0;34m:\u001b[0m \u001b[0;34m\"Start Date\"\u001b[0m\u001b[0;34m,\u001b[0m \u001b[0;34m\"end\"\u001b[0m\u001b[0;34m:\u001b[0m \u001b[0;34m\"End Date\"\u001b[0m\u001b[0;34m,\u001b[0m \u001b[0;34m\"value\"\u001b[0m\u001b[0;34m:\u001b[0m \u001b[0;34m\"GHG Emissions\"\u001b[0m\u001b[0;34m,\u001b[0m \u001b[0;34m\"name\"\u001b[0m\u001b[0;34m:\u001b[0m\u001b[0;34m\"Sector\"\u001b[0m\u001b[0;34m}\u001b[0m\u001b[0;34m)\u001b[0m\u001b[0;34m\u001b[0m\u001b[0;34m\u001b[0m\u001b[0m\n\u001b[0;32m----> 4\u001b[0;31m \u001b[0msectors_emissions\u001b[0m \u001b[0;34m=\u001b[0m \u001b[0mTables\u001b[0m\u001b[0;34m.\u001b[0m\u001b[0mfrom_df\u001b[0m\u001b[0;34m(\u001b[0m\u001b[0msectors_emissions\u001b[0m\u001b[0;34m)\u001b[0m\u001b[0;34m\u001b[0m\u001b[0;34m\u001b[0m\u001b[0m\n\u001b[0m",
      "\u001b[0;31mNameError\u001b[0m: name 'Tables' is not defined"
     ]
    }
   ],
   "source": [
    "#dataset of yearly GHG emissions across all countries\n",
    "sectors_emissions = requests.get(\"https://api.climatetrace.org/emissions_by_sector_timeseries?interval=year&since=2000&to=2021\").json()\n",
    "sectors_emissions = pd.json_normalize(sectors_emissions, record_path = [\"emissions\"], meta = [\"name\"]).rename(columns ={\"start\": \"Start Date\", \"end\": \"End Date\", \"value\": \"GHG Emissions\", \"name\":\"Sector\"})\n",
    "sectors_emissions = Tables.from_df(sectors_emissions)"
   ]
  },
  {
   "cell_type": "code",
   "execution_count": null,
   "id": "603fffab",
   "metadata": {},
   "outputs": [],
   "source": [
    "sectors_emissions"
   ]
  },
  {
   "cell_type": "code",
   "execution_count": null,
   "id": "570eaf88",
   "metadata": {},
   "outputs": [],
   "source": [
    "sectors_emissions[\"Sector\"].value_counts()"
   ]
  },
  {
   "cell_type": "markdown",
   "id": "08299866",
   "metadata": {},
   "source": [
    "## Part Two: Monthly Data in 2020-2021 USA"
   ]
  },
  {
   "cell_type": "code",
   "execution_count": null,
   "id": "4ccb1375",
   "metadata": {},
   "outputs": [],
   "source": [
    "usa_monthly = requests.get(\"https://api.climatetrace.org/emissions_by_sector_timeseries?country=USA&interval=month&since=2000&to=2021\").json()\n",
    "usa_monthly = pd.json_normalize(usa_monthly, record_path = [\"emissions\"], meta = [\"name\"]).rename(columns ={\"start\": \"Start Date\", \"end\": \"End Date\", \"value\": \"GHG Emissions\", \"name\":\"Sector\"})\n",
    "usa_monthly = Tables.from_df(usa_monthly)"
   ]
  },
  {
   "cell_type": "code",
   "execution_count": null,
   "id": "530174ae",
   "metadata": {},
   "outputs": [],
   "source": [
    "usa_monthly"
   ]
  },
  {
   "cell_type": "markdown",
   "id": "d594ee5e",
   "metadata": {},
   "source": [
    "## Part Three: Observing Daily Data in January-April 2020 USA"
   ]
  },
  {
   "cell_type": "code",
   "execution_count": null,
   "id": "0938c894",
   "metadata": {},
   "outputs": [],
   "source": [
    "usa_daily = requests.get(\"https://api.climatetrace.org/emissions_by_sector_timeseries?country=USA&interval=day&since=2020&to=2021\").json()\n",
    "usa_daily = pd.json_normalize(usa_daily, record_path = [\"emissions\"], meta = [\"name\"]).rename(columns ={\"start\": \"Start Date\", \"end\": \"End Date\", \"value\": \"GHG Emissions\", \"name\":\"Sector\"})\n",
    "usa_daily"
   ]
  },
  {
   "cell_type": "markdown",
   "id": "aacf5dd3",
   "metadata": {},
   "source": [
    "1. Cleaning Dataset to only the Months of January through April\n",
    "2. Plotting daily ghg emissions data"
   ]
  },
  {
   "cell_type": "markdown",
   "id": "1626e392",
   "metadata": {},
   "source": [
    "## Part Four: Try it for yourself\n",
    "Have students execute the request call using the ClimateTrace API [https://api.climatetrace.org/] to observe time series of another country"
   ]
  },
  {
   "cell_type": "markdown",
   "id": "466d4de0",
   "metadata": {},
   "source": [
    "1. emissions_by_subsector_timeseries/{country} and select `Try it out`\n",
    "2. choose country based on their 3 letter abbreviation below and input into `country` text box\n",
    "3. Change the interval to ___ and the years to ___ and ___\n",
    "4. Click on `Execute`\n",
    "5. Copy the `Request URL` and paste it in the code block below\n"
   ]
  },
  {
   "cell_type": "code",
   "execution_count": null,
   "id": "9270f65d",
   "metadata": {},
   "outputs": [],
   "source": [
    "countries = requests.get(\"https://api.climatetrace.org/countries\").json()\n",
    "countries = pd.json_normalize(countries).drop(\"alpha2\", axis=1).rename(columns = {\"alpha3\":\"Abbrev\"})"
   ]
  },
  {
   "cell_type": "code",
   "execution_count": null,
   "id": "3f6d6b1c",
   "metadata": {},
   "outputs": [],
   "source": [
    "country = requests.get(\"....\").json()\n",
    "country = pd.json_normalize(country, record_path = [\"emissions\"], meta = [\"name\"]).rename(columns ={\"start\": \"Start Date\", \"end\": \"End Date\", \"value\": \"GHG Emissions\", \"name\":\"Sector\"})\n",
    "country = Tables.from_df(country)\n",
    "country.head()"
   ]
  },
  {
   "cell_type": "code",
   "execution_count": null,
   "id": "259f28e8",
   "metadata": {},
   "outputs": [],
   "source": []
  }
 ],
 "metadata": {
  "kernelspec": {
   "display_name": "Python 3",
   "language": "python",
   "name": "python3"
  },
  "language_info": {
   "codemirror_mode": {
    "name": "ipython",
    "version": 3
   },
   "file_extension": ".py",
   "mimetype": "text/x-python",
   "name": "python",
   "nbconvert_exporter": "python",
   "pygments_lexer": "ipython3",
   "version": "3.8.8"
  }
 },
 "nbformat": 4,
 "nbformat_minor": 5
}
