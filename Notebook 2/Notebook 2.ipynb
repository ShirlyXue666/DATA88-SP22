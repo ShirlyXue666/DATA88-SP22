{
 "cells": [
  {
   "cell_type": "markdown",
   "source": "# Notebook 2: Comparing Urban &amp; Rural Environmental Data",
   "metadata": {
    "tags": [],
    "is_collapsed": false,
    "cell_id": "00000-adb0a847-77b1-4ad2-9fb1-a7bd534871ef",
    "deepnote_cell_type": "text-cell-h1"
   }
  },
  {
   "cell_type": "markdown",
   "source": "This week we are going to continue exploring the White House Environmental Justice dataset from last week.\n\nOur main objective for this notebook is to use table manipulation and data visualization to compare environmental data in urban and rural regions.\n\nThe first half of this notebook will be a introduction on how to use some important coding tools, and the latter half will be a guided project where you will be actively using those tools to analyze some data!\n\n",
   "metadata": {
    "tags": [],
    "cell_id": "00001-4fbb46dd-932d-4d07-89dd-91f4b279c80b",
    "deepnote_cell_type": "markdown"
   }
  },
  {
   "cell_type": "code",
   "metadata": {
    "tags": [],
    "cell_id": "00001-3721f70c-0be9-4a25-ac04-1fdad8e4fd82",
    "deepnote_to_be_reexecuted": false,
    "source_hash": "c453252c",
    "execution_start": 1635818377548,
    "execution_millis": 3588,
    "deepnote_cell_type": "code"
   },
   "source": "#Just run this cell!\n\n#Importing packages\nfrom datascience import *\nimport numpy as np",
   "execution_count": 1,
   "outputs": []
  },
  {
   "cell_type": "markdown",
   "source": "## Manipulating Tables",
   "metadata": {
    "tags": [],
    "is_collapsed": false,
    "cell_id": "00003-8d519eae-3bb8-45a2-b4f8-73690b58cb13",
    "deepnote_cell_type": "text-cell-h2"
   }
  },
  {
   "cell_type": "markdown",
   "source": "In this introductory section, we will be using a dataset called `Food_Production.csv` that shows the greenhouse gas emissions (in kg CO2) involved in different stages of production for different foods.\n\nRun the cell below to load the dataset into a table.",
   "metadata": {
    "tags": [],
    "cell_id": "00005-4527fa1d-d8b7-4b04-b107-77e24ac51e10",
    "deepnote_cell_type": "markdown"
   }
  },
  {
   "cell_type": "code",
   "source": "#Just run this cell!\nfood_production = Table.read_table('Food_Production.csv')",
   "metadata": {
    "tags": [],
    "cell_id": "00006-99e6c8a0-1a8e-4038-b32c-9b8ab924b3f3",
    "deepnote_to_be_reexecuted": false,
    "source_hash": "bf242008",
    "execution_start": 1635818381149,
    "execution_millis": 3,
    "deepnote_cell_type": "code"
   },
   "outputs": [],
   "execution_count": 2
  },
  {
   "cell_type": "markdown",
   "source": "**Viewing a Table**\n\nNotice how the cell above does not display a table. Instead, it is just there to assign the variable `food_production` to the new table.\n\nTo use a table manipulation method in python, the general approach to calling the method (i.e using the method) is: `tbl.method(parameters)`.\n\nIf we want to preview the first few rows of the table, we need to use the method `.show()`. It takes in one parameter, which is the number of rows we want to view.\n\nBelow is an example of how we would use `.show()` to view 5 rows in the table `food_production`.",
   "metadata": {
    "tags": [],
    "cell_id": "00007-f189bfa2-6409-44e3-8594-66ac5d120710",
    "deepnote_cell_type": "markdown"
   }
  },
  {
   "cell_type": "code",
   "source": "food_production.show(5)",
   "metadata": {
    "tags": [],
    "cell_id": "00008-171e560f-5be5-4a0f-bc71-57e60e7959cf",
    "deepnote_to_be_reexecuted": false,
    "source_hash": "80faa755",
    "execution_start": 1635818381203,
    "execution_millis": 0,
    "deepnote_cell_type": "code"
   },
   "outputs": [
    {
     "data": {
      "text/plain": "<IPython.core.display.HTML object>",
      "text/html": "<table border=\"1\" class=\"dataframe\">\n    <thead>\n        <tr>\n            <th>Food product</th> <th>Land use change</th> <th>Animal Feed</th> <th>Farm</th> <th>Processing</th> <th>Transport</th> <th>Packaging</th> <th>Retail</th> <th>Total_emissions</th>\n        </tr>\n    </thead>\n    <tbody>\n        <tr>\n            <td>Wheat & Rye (Bread)</td> <td>0.1            </td> <td>0          </td> <td>0.8 </td> <td>0.2       </td> <td>0.1      </td> <td>0.1      </td> <td>0.1   </td> <td>1.4            </td>\n        </tr>\n        <tr>\n            <td>Maize (Meal)       </td> <td>0.3            </td> <td>0          </td> <td>0.5 </td> <td>0.1       </td> <td>0.1      </td> <td>0.1      </td> <td>0     </td> <td>1.1            </td>\n        </tr>\n        <tr>\n            <td>Barley (Beer)      </td> <td>0              </td> <td>0          </td> <td>0.2 </td> <td>0.1       </td> <td>0        </td> <td>0.5      </td> <td>0.3   </td> <td>1.1            </td>\n        </tr>\n        <tr>\n            <td>Oatmeal            </td> <td>0              </td> <td>0          </td> <td>1.4 </td> <td>0         </td> <td>0.1      </td> <td>0.1      </td> <td>0     </td> <td>1.6            </td>\n        </tr>\n        <tr>\n            <td>Rice               </td> <td>0              </td> <td>0          </td> <td>3.6 </td> <td>0.1       </td> <td>0.1      </td> <td>0.1      </td> <td>0.1   </td> <td>4              </td>\n        </tr>\n    </tbody>\n</table>\n<p>... (38 rows omitted)</p>"
     },
     "metadata": {},
     "output_type": "display_data"
    }
   ],
   "execution_count": 3
  },
  {
   "cell_type": "markdown",
   "source": "**Taking columns or rows from a table**\n\nNow that we have some idea of the table we are working with, let's try manipulating this table by extracting columns and rows to create a new table.\n\nFirst, let's try created a new table with just the column `Food product` and `Total_emissions`. \nTo create a new table comprised of certain columns, we need to use the method `.select()`. This method takes in column labels (as strings) or column indices (as integers) that correspond to the columns we want to extract. \n\nRun the cells below to see both ways of using `.select()`.",
   "metadata": {
    "tags": [],
    "cell_id": "00009-39a57d70-1745-4955-acdd-6e40e02567c6",
    "deepnote_cell_type": "markdown"
   }
  },
  {
   "cell_type": "code",
   "source": "#Using .select() with column labels\nfood_production.select('Food product', 'Total_emissions')",
   "metadata": {
    "tags": [],
    "cell_id": "00010-460923e0-9e2c-4aa5-a179-d355ed381022",
    "deepnote_to_be_reexecuted": false,
    "source_hash": "17a2ffa0",
    "execution_start": 1635818381247,
    "execution_millis": 5570886,
    "deepnote_cell_type": "code"
   },
   "outputs": [
    {
     "output_type": "execute_result",
     "execution_count": 4,
     "data": {
      "text/plain": "Food product        | Total_emissions\nWheat & Rye (Bread) | 1.4\nMaize (Meal)        | 1.1\nBarley (Beer)       | 1.1\nOatmeal             | 1.6\nRice                | 4\nPotatoes            | 0.3\nCassava             | 0.9\nCane Sugar          | 2.6\nBeet Sugar          | 1.4\nOther Pulses        | 1.6\n... (33 rows omitted)",
      "text/html": "<table border=\"1\" class=\"dataframe\">\n    <thead>\n        <tr>\n            <th>Food product</th> <th>Total_emissions</th>\n        </tr>\n    </thead>\n    <tbody>\n        <tr>\n            <td>Wheat & Rye (Bread)</td> <td>1.4            </td>\n        </tr>\n        <tr>\n            <td>Maize (Meal)       </td> <td>1.1            </td>\n        </tr>\n        <tr>\n            <td>Barley (Beer)      </td> <td>1.1            </td>\n        </tr>\n        <tr>\n            <td>Oatmeal            </td> <td>1.6            </td>\n        </tr>\n        <tr>\n            <td>Rice               </td> <td>4              </td>\n        </tr>\n        <tr>\n            <td>Potatoes           </td> <td>0.3            </td>\n        </tr>\n        <tr>\n            <td>Cassava            </td> <td>0.9            </td>\n        </tr>\n        <tr>\n            <td>Cane Sugar         </td> <td>2.6            </td>\n        </tr>\n        <tr>\n            <td>Beet Sugar         </td> <td>1.4            </td>\n        </tr>\n        <tr>\n            <td>Other Pulses       </td> <td>1.6            </td>\n        </tr>\n    </tbody>\n</table>\n<p>... (33 rows omitted)</p>"
     },
     "metadata": {}
    }
   ],
   "execution_count": 4
  },
  {
   "cell_type": "code",
   "source": "#Using .select() with column indices\n#Notice how the first column has index number 0, not 1! The 2nd column has index number 1, and so on.\nfood_production.select(0, 8)",
   "metadata": {
    "tags": [],
    "cell_id": "00011-0b5ef326-1a97-41c6-9b89-0c370cd2a5c7",
    "deepnote_to_be_reexecuted": false,
    "source_hash": "41a5c72b",
    "execution_start": 1635818381248,
    "execution_millis": 5508977,
    "deepnote_cell_type": "code"
   },
   "outputs": [
    {
     "output_type": "execute_result",
     "execution_count": 5,
     "data": {
      "text/plain": "Food product        | Total_emissions\nWheat & Rye (Bread) | 1.4\nMaize (Meal)        | 1.1\nBarley (Beer)       | 1.1\nOatmeal             | 1.6\nRice                | 4\nPotatoes            | 0.3\nCassava             | 0.9\nCane Sugar          | 2.6\nBeet Sugar          | 1.4\nOther Pulses        | 1.6\n... (33 rows omitted)",
      "text/html": "<table border=\"1\" class=\"dataframe\">\n    <thead>\n        <tr>\n            <th>Food product</th> <th>Total_emissions</th>\n        </tr>\n    </thead>\n    <tbody>\n        <tr>\n            <td>Wheat & Rye (Bread)</td> <td>1.4            </td>\n        </tr>\n        <tr>\n            <td>Maize (Meal)       </td> <td>1.1            </td>\n        </tr>\n        <tr>\n            <td>Barley (Beer)      </td> <td>1.1            </td>\n        </tr>\n        <tr>\n            <td>Oatmeal            </td> <td>1.6            </td>\n        </tr>\n        <tr>\n            <td>Rice               </td> <td>4              </td>\n        </tr>\n        <tr>\n            <td>Potatoes           </td> <td>0.3            </td>\n        </tr>\n        <tr>\n            <td>Cassava            </td> <td>0.9            </td>\n        </tr>\n        <tr>\n            <td>Cane Sugar         </td> <td>2.6            </td>\n        </tr>\n        <tr>\n            <td>Beet Sugar         </td> <td>1.4            </td>\n        </tr>\n        <tr>\n            <td>Other Pulses       </td> <td>1.6            </td>\n        </tr>\n    </tbody>\n</table>\n<p>... (33 rows omitted)</p>"
     },
     "metadata": {}
    }
   ],
   "execution_count": 5
  },
  {
   "cell_type": "markdown",
   "source": "To create a new table comprised of certain rows, we need to use the method `.take()`. This method take in either a single integer or an array of integers that correspond to the index position/positions of the rows you want to extract.\n\nRun the cells below to see how `.take()` is used.",
   "metadata": {
    "tags": [],
    "cell_id": "00012-aab3d26c-9abf-4cdc-a700-53c2316b6a1c",
    "deepnote_cell_type": "markdown"
   }
  },
  {
   "cell_type": "code",
   "source": "#Taking the first row of the table\nfood_production.take(0)",
   "metadata": {
    "tags": [],
    "cell_id": "00013-461972bc-27a0-4abc-8179-e5b1553732c5",
    "deepnote_to_be_reexecuted": false,
    "source_hash": "e2ad7b78",
    "execution_start": 1635818381292,
    "execution_millis": 5266799,
    "deepnote_cell_type": "code"
   },
   "outputs": [
    {
     "output_type": "execute_result",
     "execution_count": 6,
     "data": {
      "text/plain": "Food product        | Land use change | Animal Feed | Farm | Processing | Transport | Packaging | Retail | Total_emissions\nWheat & Rye (Bread) | 0.1             | 0           | 0.8  | 0.2        | 0.1       | 0.1       | 0.1    | 1.4",
      "text/html": "<table border=\"1\" class=\"dataframe\">\n    <thead>\n        <tr>\n            <th>Food product</th> <th>Land use change</th> <th>Animal Feed</th> <th>Farm</th> <th>Processing</th> <th>Transport</th> <th>Packaging</th> <th>Retail</th> <th>Total_emissions</th>\n        </tr>\n    </thead>\n    <tbody>\n        <tr>\n            <td>Wheat & Rye (Bread)</td> <td>0.1            </td> <td>0          </td> <td>0.8 </td> <td>0.2       </td> <td>0.1      </td> <td>0.1      </td> <td>0.1   </td> <td>1.4            </td>\n        </tr>\n    </tbody>\n</table>"
     },
     "metadata": {}
    }
   ],
   "execution_count": 6
  },
  {
   "cell_type": "code",
   "source": "#Taking rows at index 1, 3, 5, and 7\n#Notice how we are inputting an array into the method this time\nrow_indices = make_array(1, 3, 5, 7)\nfood_production.take(row_indices)",
   "metadata": {
    "tags": [],
    "cell_id": "00009-e2a43407-6364-4c99-b9a4-314756ccd8ee",
    "deepnote_to_be_reexecuted": false,
    "source_hash": "c54a5afb",
    "execution_start": 1635818381335,
    "execution_millis": 5143922,
    "deepnote_cell_type": "code"
   },
   "outputs": [
    {
     "output_type": "execute_result",
     "execution_count": 7,
     "data": {
      "text/plain": "Food product | Land use change | Animal Feed | Farm | Processing | Transport | Packaging | Retail | Total_emissions\nMaize (Meal) | 0.3             | 0           | 0.5  | 0.1        | 0.1       | 0.1       | 0      | 1.1\nOatmeal      | 0               | 0           | 1.4  | 0          | 0.1       | 0.1       | 0      | 1.6\nPotatoes     | 0               | 0           | 0.2  | 0          | 0.1       | 0         | 0      | 0.3\nCane Sugar   | 1.2             | 0           | 0.5  | 0          | 0.8       | 0.1       | 0      | 2.6",
      "text/html": "<table border=\"1\" class=\"dataframe\">\n    <thead>\n        <tr>\n            <th>Food product</th> <th>Land use change</th> <th>Animal Feed</th> <th>Farm</th> <th>Processing</th> <th>Transport</th> <th>Packaging</th> <th>Retail</th> <th>Total_emissions</th>\n        </tr>\n    </thead>\n    <tbody>\n        <tr>\n            <td>Maize (Meal)</td> <td>0.3            </td> <td>0          </td> <td>0.5 </td> <td>0.1       </td> <td>0.1      </td> <td>0.1      </td> <td>0     </td> <td>1.1            </td>\n        </tr>\n        <tr>\n            <td>Oatmeal     </td> <td>0              </td> <td>0          </td> <td>1.4 </td> <td>0         </td> <td>0.1      </td> <td>0.1      </td> <td>0     </td> <td>1.6            </td>\n        </tr>\n        <tr>\n            <td>Potatoes    </td> <td>0              </td> <td>0          </td> <td>0.2 </td> <td>0         </td> <td>0.1      </td> <td>0        </td> <td>0     </td> <td>0.3            </td>\n        </tr>\n        <tr>\n            <td>Cane Sugar  </td> <td>1.2            </td> <td>0          </td> <td>0.5 </td> <td>0         </td> <td>0.8      </td> <td>0.1      </td> <td>0     </td> <td>2.6            </td>\n        </tr>\n    </tbody>\n</table>"
     },
     "metadata": {}
    }
   ],
   "execution_count": 7
  },
  {
   "cell_type": "markdown",
   "source": "**Removing columns**\n\nThe method `.drop()` can be used to create a copy of a table with removed columns. It can take either column labels or indices.\n\nLet's use it to remove the `Processing` and `Packaging` column.",
   "metadata": {
    "tags": [],
    "cell_id": "00014-ac11c31e-eeb2-4897-ba75-d8989e0c11e6",
    "deepnote_cell_type": "markdown"
   }
  },
  {
   "cell_type": "code",
   "source": "#Remove Processing column\nfood_production.drop('Processing', 'Packaging')",
   "metadata": {
    "tags": [],
    "cell_id": "00015-1901758a-5a0a-4843-96d7-ffc232adc8af",
    "deepnote_to_be_reexecuted": false,
    "source_hash": "58d3df9b",
    "execution_start": 1635818381336,
    "execution_millis": 1187692,
    "deepnote_cell_type": "code"
   },
   "outputs": [
    {
     "output_type": "execute_result",
     "execution_count": 8,
     "data": {
      "text/plain": "Food product        | Land use change | Animal Feed | Farm | Transport | Retail | Total_emissions\nWheat & Rye (Bread) | 0.1             | 0           | 0.8  | 0.1       | 0.1    | 1.4\nMaize (Meal)        | 0.3             | 0           | 0.5  | 0.1       | 0      | 1.1\nBarley (Beer)       | 0               | 0           | 0.2  | 0         | 0.3    | 1.1\nOatmeal             | 0               | 0           | 1.4  | 0.1       | 0      | 1.6\nRice                | 0               | 0           | 3.6  | 0.1       | 0.1    | 4\nPotatoes            | 0               | 0           | 0.2  | 0.1       | 0      | 0.3\nCassava             | 0.6             | 0           | 0.2  | 0.1       | 0      | 0.9\nCane Sugar          | 1.2             | 0           | 0.5  | 0.8       | 0      | 2.6\nBeet Sugar          | 0               | 0           | 0.5  | 0.6       | 0      | 1.4\nOther Pulses        | 0               | 0           | 1.1  | 0.1       | 0      | 1.6\n... (33 rows omitted)",
      "text/html": "<table border=\"1\" class=\"dataframe\">\n    <thead>\n        <tr>\n            <th>Food product</th> <th>Land use change</th> <th>Animal Feed</th> <th>Farm</th> <th>Transport</th> <th>Retail</th> <th>Total_emissions</th>\n        </tr>\n    </thead>\n    <tbody>\n        <tr>\n            <td>Wheat & Rye (Bread)</td> <td>0.1            </td> <td>0          </td> <td>0.8 </td> <td>0.1      </td> <td>0.1   </td> <td>1.4            </td>\n        </tr>\n        <tr>\n            <td>Maize (Meal)       </td> <td>0.3            </td> <td>0          </td> <td>0.5 </td> <td>0.1      </td> <td>0     </td> <td>1.1            </td>\n        </tr>\n        <tr>\n            <td>Barley (Beer)      </td> <td>0              </td> <td>0          </td> <td>0.2 </td> <td>0        </td> <td>0.3   </td> <td>1.1            </td>\n        </tr>\n        <tr>\n            <td>Oatmeal            </td> <td>0              </td> <td>0          </td> <td>1.4 </td> <td>0.1      </td> <td>0     </td> <td>1.6            </td>\n        </tr>\n        <tr>\n            <td>Rice               </td> <td>0              </td> <td>0          </td> <td>3.6 </td> <td>0.1      </td> <td>0.1   </td> <td>4              </td>\n        </tr>\n        <tr>\n            <td>Potatoes           </td> <td>0              </td> <td>0          </td> <td>0.2 </td> <td>0.1      </td> <td>0     </td> <td>0.3            </td>\n        </tr>\n        <tr>\n            <td>Cassava            </td> <td>0.6            </td> <td>0          </td> <td>0.2 </td> <td>0.1      </td> <td>0     </td> <td>0.9            </td>\n        </tr>\n        <tr>\n            <td>Cane Sugar         </td> <td>1.2            </td> <td>0          </td> <td>0.5 </td> <td>0.8      </td> <td>0     </td> <td>2.6            </td>\n        </tr>\n        <tr>\n            <td>Beet Sugar         </td> <td>0              </td> <td>0          </td> <td>0.5 </td> <td>0.6      </td> <td>0     </td> <td>1.4            </td>\n        </tr>\n        <tr>\n            <td>Other Pulses       </td> <td>0              </td> <td>0          </td> <td>1.1 </td> <td>0.1      </td> <td>0     </td> <td>1.6            </td>\n        </tr>\n    </tbody>\n</table>\n<p>... (33 rows omitted)</p>"
     },
     "metadata": {}
    }
   ],
   "execution_count": 8
  },
  {
   "cell_type": "markdown",
   "source": "**Extracting a column as an array**\n\nAnother very useful method is `.column()`, which takes a column label or column index and outputs that column as an array.\n\nNote: this is not to be confused with `.select()`, which outputs a table instead of an array.\n\nIn the example below, we are assigning the variable `transport` to an array of all the values in the column `Transport` (CO2 greenhouse gas emissions released in the transport of 1 kg of that food product). \n\nNow that we have the values as an array, we can apply array methods onto it. In this case, we use `np.mean()` to find the mean transport emissions across the different products, and then we separately use `.item()` to extract the 5th item of the array.",
   "metadata": {
    "tags": [],
    "cell_id": "00015-5ed1159d-e304-4eaa-9a82-72333d1dad16",
    "deepnote_cell_type": "markdown"
   }
  },
  {
   "cell_type": "code",
   "source": "#Extracting the column as an array\ntransport = food_production.column('Transport')\ntransport",
   "metadata": {
    "tags": [],
    "cell_id": "00016-7b47a8ff-15e7-4fed-843a-ba0d6b25b8c8",
    "deepnote_to_be_reexecuted": false,
    "source_hash": "552ab697",
    "execution_start": 1635818381411,
    "execution_millis": 4457964,
    "deepnote_cell_type": "code"
   },
   "outputs": [
    {
     "output_type": "execute_result",
     "execution_count": 9,
     "data": {
      "text/plain": "array([0.1, 0.1, 0. , 0.1, 0.1, 0.1, 0.1, 0.8, 0.6, 0.1, 0.1, 0.1, 0.1,\n       0.1, 0.2, 0.3, 0.2, 0.2, 0.2, 0.5, 0.2, 0.1, 0.1, 0.1, 0.2, 0.1,\n       0.3, 0.1, 0.2, 0.1, 0.2, 0.1, 0.1, 0.3, 0.4, 0.5, 0.3, 0.3, 0.1,\n       0.1, 0.1, 0.1, 0.2])"
     },
     "metadata": {}
    }
   ],
   "execution_count": 9
  },
  {
   "cell_type": "code",
   "source": "#Applying np.mean() onto the array\nnp.mean(transport)",
   "metadata": {
    "tags": [],
    "cell_id": "00017-bcd28408-2f64-475c-b991-cf3078bb5b15",
    "deepnote_to_be_reexecuted": false,
    "source_hash": "3897ab76",
    "execution_start": 1635818381412,
    "execution_millis": 4455925,
    "deepnote_cell_type": "code"
   },
   "outputs": [
    {
     "output_type": "execute_result",
     "execution_count": 10,
     "data": {
      "text/plain": "0.1953488372093023"
     },
     "metadata": {}
    }
   ],
   "execution_count": 10
  },
  {
   "cell_type": "code",
   "source": "#Extracting the fifth item from the array\ntransport.item(4)",
   "metadata": {
    "tags": [],
    "cell_id": "00018-71822ab2-5a18-459e-b772-077a55fbac6f",
    "deepnote_to_be_reexecuted": false,
    "source_hash": "c32e42d2",
    "execution_start": 1635818381456,
    "execution_millis": 3818848,
    "deepnote_cell_type": "code"
   },
   "outputs": [
    {
     "output_type": "execute_result",
     "execution_count": 11,
     "data": {
      "text/plain": "0.1"
     },
     "metadata": {}
    }
   ],
   "execution_count": 11
  },
  {
   "cell_type": "markdown",
   "source": "**Sorting tables**\n\nIf we want to sort a table, we need to use the method `.sort()`. This lets us sort a table by a given column, which is inputted as either a column label or column index. The method also takes in an optional parameter, which is used to indicate whether or not it should be sorted in descending order (by default, this will be set to `True`).\n\nIf the column you want to sort by contains numerical values, the table will be sorted in ascending or descending order of those values. If the column contains strings, the table will be sorted in alphabetical or reverse alphabetical order. \n\nIn the examples below, we sort the table by `Total_emissions` in descending order, and then we sort the table in alphabetical order by `Food_product`.",
   "metadata": {
    "tags": [],
    "cell_id": "00018-648d830a-57e5-4c01-922a-d7c3595874ea",
    "deepnote_cell_type": "markdown"
   }
  },
  {
   "cell_type": "code",
   "source": "#Sorting by total emissions in descending order\nfood_production.sort('Total_emissions', descending = True)",
   "metadata": {
    "tags": [],
    "cell_id": "00019-d73aaf2d-1b06-4fe4-935c-40281e2d8f63",
    "deepnote_to_be_reexecuted": false,
    "source_hash": "a21ddc8f",
    "execution_start": 1635818381492,
    "execution_millis": 3966741,
    "deepnote_cell_type": "code"
   },
   "outputs": [
    {
     "output_type": "execute_result",
     "execution_count": 12,
     "data": {
      "text/plain": "Food product      | Land use change | Animal Feed | Farm | Processing | Transport | Packaging | Retail | Total_emissions\nBeef (beef herd)  | 16.3            | 1.9         | 39.4 | 1.3        | 0.3       | 0.2       | 0.2    | 59.6\nLamb & Mutton     | 0.5             | 2.4         | 19.5 | 1.1        | 0.5       | 0.3       | 0.2    | 24.5\nCheese            | 4.5             | 2.3         | 13.1 | 0.7        | 0.1       | 0.2       | 0.3    | 21.2\nBeef (dairy herd) | 0.9             | 2.5         | 15.7 | 1.1        | 0.4       | 0.3       | 0.2    | 21.1\nDark Chocolate    | 14.3            | 0           | 3.7  | 0.2        | 0.1       | 0.4       | 0      | 18.7\nCoffee            | 3.7             | 0           | 10.4 | 0.6        | 0.1       | 1.6       | 0.1    | 16.5\nShrimps (farmed)  | 0.2             | 2.5         | 8.4  | 0          | 0.2       | 0.3       | 0.2    | 11.8\nPalm Oil          | 3.1             | 0           | 2.1  | 1.3        | 0.2       | 0.9       | 0      | 7.6\nPig Meat          | 1.5             | 2.9         | 1.7  | 0.3        | 0.3       | 0.3       | 0.2    | 7.2\nPoultry Meat      | 2.5             | 1.8         | 0.7  | 0.4        | 0.3       | 0.2       | 0.2    | 6.1\n... (33 rows omitted)",
      "text/html": "<table border=\"1\" class=\"dataframe\">\n    <thead>\n        <tr>\n            <th>Food product</th> <th>Land use change</th> <th>Animal Feed</th> <th>Farm</th> <th>Processing</th> <th>Transport</th> <th>Packaging</th> <th>Retail</th> <th>Total_emissions</th>\n        </tr>\n    </thead>\n    <tbody>\n        <tr>\n            <td>Beef (beef herd) </td> <td>16.3           </td> <td>1.9        </td> <td>39.4</td> <td>1.3       </td> <td>0.3      </td> <td>0.2      </td> <td>0.2   </td> <td>59.6           </td>\n        </tr>\n        <tr>\n            <td>Lamb & Mutton    </td> <td>0.5            </td> <td>2.4        </td> <td>19.5</td> <td>1.1       </td> <td>0.5      </td> <td>0.3      </td> <td>0.2   </td> <td>24.5           </td>\n        </tr>\n        <tr>\n            <td>Cheese           </td> <td>4.5            </td> <td>2.3        </td> <td>13.1</td> <td>0.7       </td> <td>0.1      </td> <td>0.2      </td> <td>0.3   </td> <td>21.2           </td>\n        </tr>\n        <tr>\n            <td>Beef (dairy herd)</td> <td>0.9            </td> <td>2.5        </td> <td>15.7</td> <td>1.1       </td> <td>0.4      </td> <td>0.3      </td> <td>0.2   </td> <td>21.1           </td>\n        </tr>\n        <tr>\n            <td>Dark Chocolate   </td> <td>14.3           </td> <td>0          </td> <td>3.7 </td> <td>0.2       </td> <td>0.1      </td> <td>0.4      </td> <td>0     </td> <td>18.7           </td>\n        </tr>\n        <tr>\n            <td>Coffee           </td> <td>3.7            </td> <td>0          </td> <td>10.4</td> <td>0.6       </td> <td>0.1      </td> <td>1.6      </td> <td>0.1   </td> <td>16.5           </td>\n        </tr>\n        <tr>\n            <td>Shrimps (farmed) </td> <td>0.2            </td> <td>2.5        </td> <td>8.4 </td> <td>0         </td> <td>0.2      </td> <td>0.3      </td> <td>0.2   </td> <td>11.8           </td>\n        </tr>\n        <tr>\n            <td>Palm Oil         </td> <td>3.1            </td> <td>0          </td> <td>2.1 </td> <td>1.3       </td> <td>0.2      </td> <td>0.9      </td> <td>0     </td> <td>7.6            </td>\n        </tr>\n        <tr>\n            <td>Pig Meat         </td> <td>1.5            </td> <td>2.9        </td> <td>1.7 </td> <td>0.3       </td> <td>0.3      </td> <td>0.3      </td> <td>0.2   </td> <td>7.2            </td>\n        </tr>\n        <tr>\n            <td>Poultry Meat     </td> <td>2.5            </td> <td>1.8        </td> <td>0.7 </td> <td>0.4       </td> <td>0.3      </td> <td>0.2      </td> <td>0.2   </td> <td>6.1            </td>\n        </tr>\n    </tbody>\n</table>\n<p>... (33 rows omitted)</p>"
     },
     "metadata": {}
    }
   ],
   "execution_count": 12
  },
  {
   "cell_type": "code",
   "source": "#Sorting alphabetically by Food product\n#Note that for alphabetical order, descending = False and for reverse alphabetical order, descending = True\nfood_production.sort('Food product', descending = False)",
   "metadata": {
    "tags": [],
    "cell_id": "00020-6d1ec55c-6fa3-49cd-9d59-3b3d463cd2ef",
    "deepnote_to_be_reexecuted": false,
    "source_hash": "9aae3d31",
    "execution_start": 1635818381555,
    "execution_millis": 3864544,
    "deepnote_cell_type": "code"
   },
   "outputs": [
    {
     "output_type": "execute_result",
     "execution_count": 13,
     "data": {
      "text/plain": "Food product      | Land use change | Animal Feed | Farm | Processing | Transport | Packaging | Retail | Total_emissions\nApples            | 0               | 0           | 0.2  | 0          | 0.1       | 0         | 0      | 0.3\nBananas           | 0               | 0           | 0.3  | 0.1        | 0.3       | 0.1       | 0      | 0.8\nBarley (Beer)     | 0               | 0           | 0.2  | 0.1        | 0         | 0.5       | 0.3    | 1.1\nBeef (beef herd)  | 16.3            | 1.9         | 39.4 | 1.3        | 0.3       | 0.2       | 0.2    | 59.6\nBeef (dairy herd) | 0.9             | 2.5         | 15.7 | 1.1        | 0.4       | 0.3       | 0.2    | 21.1\nBeet Sugar        | 0               | 0           | 0.5  | 0.2        | 0.6       | 0.1       | 0      | 1.4\nBerries & Grapes  | 0               | 0           | 0.7  | 0          | 0.2       | 0.2       | 0      | 1.1\nBrassicas         | 0               | 0           | 0.3  | 0          | 0.1       | 0         | 0      | 0.4\nCane Sugar        | 1.2             | 0           | 0.5  | 0          | 0.8       | 0.1       | 0      | 2.6\nCassava           | 0.6             | 0           | 0.2  | 0          | 0.1       | 0         | 0      | 0.9\n... (33 rows omitted)",
      "text/html": "<table border=\"1\" class=\"dataframe\">\n    <thead>\n        <tr>\n            <th>Food product</th> <th>Land use change</th> <th>Animal Feed</th> <th>Farm</th> <th>Processing</th> <th>Transport</th> <th>Packaging</th> <th>Retail</th> <th>Total_emissions</th>\n        </tr>\n    </thead>\n    <tbody>\n        <tr>\n            <td>Apples           </td> <td>0              </td> <td>0          </td> <td>0.2 </td> <td>0         </td> <td>0.1      </td> <td>0        </td> <td>0     </td> <td>0.3            </td>\n        </tr>\n        <tr>\n            <td>Bananas          </td> <td>0              </td> <td>0          </td> <td>0.3 </td> <td>0.1       </td> <td>0.3      </td> <td>0.1      </td> <td>0     </td> <td>0.8            </td>\n        </tr>\n        <tr>\n            <td>Barley (Beer)    </td> <td>0              </td> <td>0          </td> <td>0.2 </td> <td>0.1       </td> <td>0        </td> <td>0.5      </td> <td>0.3   </td> <td>1.1            </td>\n        </tr>\n        <tr>\n            <td>Beef (beef herd) </td> <td>16.3           </td> <td>1.9        </td> <td>39.4</td> <td>1.3       </td> <td>0.3      </td> <td>0.2      </td> <td>0.2   </td> <td>59.6           </td>\n        </tr>\n        <tr>\n            <td>Beef (dairy herd)</td> <td>0.9            </td> <td>2.5        </td> <td>15.7</td> <td>1.1       </td> <td>0.4      </td> <td>0.3      </td> <td>0.2   </td> <td>21.1           </td>\n        </tr>\n        <tr>\n            <td>Beet Sugar       </td> <td>0              </td> <td>0          </td> <td>0.5 </td> <td>0.2       </td> <td>0.6      </td> <td>0.1      </td> <td>0     </td> <td>1.4            </td>\n        </tr>\n        <tr>\n            <td>Berries & Grapes </td> <td>0              </td> <td>0          </td> <td>0.7 </td> <td>0         </td> <td>0.2      </td> <td>0.2      </td> <td>0     </td> <td>1.1            </td>\n        </tr>\n        <tr>\n            <td>Brassicas        </td> <td>0              </td> <td>0          </td> <td>0.3 </td> <td>0         </td> <td>0.1      </td> <td>0        </td> <td>0     </td> <td>0.4            </td>\n        </tr>\n        <tr>\n            <td>Cane Sugar       </td> <td>1.2            </td> <td>0          </td> <td>0.5 </td> <td>0         </td> <td>0.8      </td> <td>0.1      </td> <td>0     </td> <td>2.6            </td>\n        </tr>\n        <tr>\n            <td>Cassava          </td> <td>0.6            </td> <td>0          </td> <td>0.2 </td> <td>0         </td> <td>0.1      </td> <td>0        </td> <td>0     </td> <td>0.9            </td>\n        </tr>\n    </tbody>\n</table>\n<p>... (33 rows omitted)</p>"
     },
     "metadata": {}
    }
   ],
   "execution_count": 13
  },
  {
   "cell_type": "markdown",
   "source": "**Filtering tables**\n\nExtracting specific rows in a table based on their value is also very useful in table manipulation. This is done by using the `.where()` method. It takes in two parameters, a column name or index and a predicate. A predicate is some criterion that needs to be met in order for the row to be extracted.\n\nIn the example below, we use `.where()` to create a new table containing only rows where the `Animal Feed` emissions are equal to 0, and another new table that contains only `Rice` as a food product. The predicate that we use in this case is `are.equal_to()`.\n",
   "metadata": {
    "tags": [],
    "cell_id": "00022-f3c9ae2d-9af6-4afd-80df-03e514c41723",
    "deepnote_cell_type": "markdown"
   }
  },
  {
   "cell_type": "code",
   "source": "#Table with only foods where Animal Feed emissions are 0\nfood_production.where('Animal Feed', are.equal_to(0))",
   "metadata": {
    "tags": [],
    "cell_id": "00023-f8831962-6b4a-43cd-8ae0-42cc12a40cda",
    "deepnote_to_be_reexecuted": false,
    "source_hash": "7d0da8c8",
    "execution_start": 1635818381573,
    "execution_millis": 3328400,
    "deepnote_cell_type": "code"
   },
   "outputs": [
    {
     "output_type": "execute_result",
     "execution_count": 14,
     "data": {
      "text/plain": "Food product        | Land use change | Animal Feed | Farm | Processing | Transport | Packaging | Retail | Total_emissions\nWheat & Rye (Bread) | 0.1             | 0           | 0.8  | 0.2        | 0.1       | 0.1       | 0.1    | 1.4\nMaize (Meal)        | 0.3             | 0           | 0.5  | 0.1        | 0.1       | 0.1       | 0      | 1.1\nBarley (Beer)       | 0               | 0           | 0.2  | 0.1        | 0         | 0.5       | 0.3    | 1.1\nOatmeal             | 0               | 0           | 1.4  | 0          | 0.1       | 0.1       | 0      | 1.6\nRice                | 0               | 0           | 3.6  | 0.1        | 0.1       | 0.1       | 0.1    | 4\nPotatoes            | 0               | 0           | 0.2  | 0          | 0.1       | 0         | 0      | 0.3\nCassava             | 0.6             | 0           | 0.2  | 0          | 0.1       | 0         | 0      | 0.9\nCane Sugar          | 1.2             | 0           | 0.5  | 0          | 0.8       | 0.1       | 0      | 2.6\nBeet Sugar          | 0               | 0           | 0.5  | 0.2        | 0.6       | 0.1       | 0      | 1.4\nOther Pulses        | 0               | 0           | 1.1  | 0          | 0.1       | 0.4       | 0      | 1.6\n... (23 rows omitted)",
      "text/html": "<table border=\"1\" class=\"dataframe\">\n    <thead>\n        <tr>\n            <th>Food product</th> <th>Land use change</th> <th>Animal Feed</th> <th>Farm</th> <th>Processing</th> <th>Transport</th> <th>Packaging</th> <th>Retail</th> <th>Total_emissions</th>\n        </tr>\n    </thead>\n    <tbody>\n        <tr>\n            <td>Wheat & Rye (Bread)</td> <td>0.1            </td> <td>0          </td> <td>0.8 </td> <td>0.2       </td> <td>0.1      </td> <td>0.1      </td> <td>0.1   </td> <td>1.4            </td>\n        </tr>\n        <tr>\n            <td>Maize (Meal)       </td> <td>0.3            </td> <td>0          </td> <td>0.5 </td> <td>0.1       </td> <td>0.1      </td> <td>0.1      </td> <td>0     </td> <td>1.1            </td>\n        </tr>\n        <tr>\n            <td>Barley (Beer)      </td> <td>0              </td> <td>0          </td> <td>0.2 </td> <td>0.1       </td> <td>0        </td> <td>0.5      </td> <td>0.3   </td> <td>1.1            </td>\n        </tr>\n        <tr>\n            <td>Oatmeal            </td> <td>0              </td> <td>0          </td> <td>1.4 </td> <td>0         </td> <td>0.1      </td> <td>0.1      </td> <td>0     </td> <td>1.6            </td>\n        </tr>\n        <tr>\n            <td>Rice               </td> <td>0              </td> <td>0          </td> <td>3.6 </td> <td>0.1       </td> <td>0.1      </td> <td>0.1      </td> <td>0.1   </td> <td>4              </td>\n        </tr>\n        <tr>\n            <td>Potatoes           </td> <td>0              </td> <td>0          </td> <td>0.2 </td> <td>0         </td> <td>0.1      </td> <td>0        </td> <td>0     </td> <td>0.3            </td>\n        </tr>\n        <tr>\n            <td>Cassava            </td> <td>0.6            </td> <td>0          </td> <td>0.2 </td> <td>0         </td> <td>0.1      </td> <td>0        </td> <td>0     </td> <td>0.9            </td>\n        </tr>\n        <tr>\n            <td>Cane Sugar         </td> <td>1.2            </td> <td>0          </td> <td>0.5 </td> <td>0         </td> <td>0.8      </td> <td>0.1      </td> <td>0     </td> <td>2.6            </td>\n        </tr>\n        <tr>\n            <td>Beet Sugar         </td> <td>0              </td> <td>0          </td> <td>0.5 </td> <td>0.2       </td> <td>0.6      </td> <td>0.1      </td> <td>0     </td> <td>1.4            </td>\n        </tr>\n        <tr>\n            <td>Other Pulses       </td> <td>0              </td> <td>0          </td> <td>1.1 </td> <td>0         </td> <td>0.1      </td> <td>0.4      </td> <td>0     </td> <td>1.6            </td>\n        </tr>\n    </tbody>\n</table>\n<p>... (23 rows omitted)</p>"
     },
     "metadata": {}
    }
   ],
   "execution_count": 14
  },
  {
   "cell_type": "code",
   "source": "#Table that contains only Rice\nfood_production.where('Food product', are.equal_to('Rice'))",
   "metadata": {
    "tags": [],
    "cell_id": "00024-69795aa3-3f24-4139-9b18-1b764b9adf26",
    "deepnote_to_be_reexecuted": false,
    "source_hash": "ae9cd2d9",
    "execution_start": 1635818381574,
    "execution_millis": 3002379,
    "deepnote_cell_type": "code"
   },
   "outputs": [
    {
     "output_type": "execute_result",
     "execution_count": 15,
     "data": {
      "text/plain": "Food product | Land use change | Animal Feed | Farm | Processing | Transport | Packaging | Retail | Total_emissions\nRice         | 0               | 0           | 3.6  | 0.1        | 0.1       | 0.1       | 0.1    | 4",
      "text/html": "<table border=\"1\" class=\"dataframe\">\n    <thead>\n        <tr>\n            <th>Food product</th> <th>Land use change</th> <th>Animal Feed</th> <th>Farm</th> <th>Processing</th> <th>Transport</th> <th>Packaging</th> <th>Retail</th> <th>Total_emissions</th>\n        </tr>\n    </thead>\n    <tbody>\n        <tr>\n            <td>Rice        </td> <td>0              </td> <td>0          </td> <td>3.6 </td> <td>0.1       </td> <td>0.1      </td> <td>0.1      </td> <td>0.1   </td> <td>4              </td>\n        </tr>\n    </tbody>\n</table>"
     },
     "metadata": {}
    }
   ],
   "execution_count": 15
  },
  {
   "cell_type": "markdown",
   "source": "What if we want to use some other criterion? There are many other predicates we can choose from.\n\nHere is a list of predicate examples.\n|Predicate|Example|Result|\n|-|-|-|\n|`are.equal_to`|`are.equal_to(50)`|Find rows with values equal to 50|\n|`are.not_equal_to`|`are.not_equal_to(50)`|Find rows with values not equal to 50|\n|`are.above`|`are.above(50)`|Find rows with values above (and not equal to) 50|\n|`are.above_or_equal_to`|`are.above_or_equal_to(50)`|Find rows with values above 50 or equal to 50|\n|`are.below`|`are.below(50)`|Find rows with values below 50|\n|`are.between`|`are.between(2, 10)`|Find rows with values above or equal to 2 and below 10|",
   "metadata": {
    "tags": [],
    "cell_id": "00023-ec3b446b-2eb2-4e44-bb29-0e71d947d08c",
    "deepnote_cell_type": "markdown"
   }
  },
  {
   "cell_type": "markdown",
   "source": "Let's try using one of them to create a table of food products with retail emissions above 0.2.",
   "metadata": {
    "tags": [],
    "cell_id": "00026-e4030258-defa-4f4a-ae0d-adaa9c1244e9",
    "deepnote_cell_type": "markdown"
   }
  },
  {
   "cell_type": "code",
   "source": "#Table of food products with retail emissions above 0.2\nfood_production.where('Retail', are.above(0.2))",
   "metadata": {
    "tags": [],
    "cell_id": "00026-c89eb216-fb82-4aff-8588-ebf928fd4339",
    "deepnote_to_be_reexecuted": false,
    "source_hash": "db27061e",
    "execution_start": 1635818381623,
    "execution_millis": 2715703,
    "deepnote_cell_type": "code"
   },
   "outputs": [
    {
     "output_type": "execute_result",
     "execution_count": 16,
     "data": {
      "text/plain": "Food product  | Land use change | Animal Feed | Farm | Processing | Transport | Packaging | Retail | Total_emissions\nBarley (Beer) | 0               | 0           | 0.2  | 0.1        | 0         | 0.5       | 0.3    | 1.1\nSoymilk       | 0.2             | 0           | 0.1  | 0.2        | 0.1       | 0.1       | 0.3    | 1\nTofu          | 1               | 0           | 0.5  | 0.8        | 0.2       | 0.2       | 0.3    | 3\nMilk          | 0.5             | 0.2         | 1.5  | 0.1        | 0.1       | 0.1       | 0.3    | 2.8\nCheese        | 4.5             | 2.3         | 13.1 | 0.7        | 0.1       | 0.2       | 0.3    | 21.2",
      "text/html": "<table border=\"1\" class=\"dataframe\">\n    <thead>\n        <tr>\n            <th>Food product</th> <th>Land use change</th> <th>Animal Feed</th> <th>Farm</th> <th>Processing</th> <th>Transport</th> <th>Packaging</th> <th>Retail</th> <th>Total_emissions</th>\n        </tr>\n    </thead>\n    <tbody>\n        <tr>\n            <td>Barley (Beer)</td> <td>0              </td> <td>0          </td> <td>0.2 </td> <td>0.1       </td> <td>0        </td> <td>0.5      </td> <td>0.3   </td> <td>1.1            </td>\n        </tr>\n        <tr>\n            <td>Soymilk      </td> <td>0.2            </td> <td>0          </td> <td>0.1 </td> <td>0.2       </td> <td>0.1      </td> <td>0.1      </td> <td>0.3   </td> <td>1              </td>\n        </tr>\n        <tr>\n            <td>Tofu         </td> <td>1              </td> <td>0          </td> <td>0.5 </td> <td>0.8       </td> <td>0.2      </td> <td>0.2      </td> <td>0.3   </td> <td>3              </td>\n        </tr>\n        <tr>\n            <td>Milk         </td> <td>0.5            </td> <td>0.2        </td> <td>1.5 </td> <td>0.1       </td> <td>0.1      </td> <td>0.1      </td> <td>0.3   </td> <td>2.8            </td>\n        </tr>\n        <tr>\n            <td>Cheese       </td> <td>4.5            </td> <td>2.3        </td> <td>13.1</td> <td>0.7       </td> <td>0.1      </td> <td>0.2      </td> <td>0.3   </td> <td>21.2           </td>\n        </tr>\n    </tbody>\n</table>"
     },
     "metadata": {}
    }
   ],
   "execution_count": 16
  },
  {
   "cell_type": "markdown",
   "source": "**Joining two tables**\n\n",
   "metadata": {
    "tags": [],
    "cell_id": "00027-cb958bd8-3641-40df-8032-016ebba8ba03",
    "deepnote_cell_type": "markdown"
   }
  },
  {
   "cell_type": "markdown",
   "source": "`.join()` is a method that combines two table by a shared column. This column should contain values that are present in both tables.\n\nThe method is structures as follows: `tblA.join(column_label_A, tblB, column_label_B)`, which generates a table that combines tblA and tblB, containing rows for all values of a specified column that appears in both columns. \n\n_Note: In the case that the column labels for this shared column are different, the unique labels can be specified. If not, the default value for `column_label_B` is `column_label_A`._\n\nIn the example below, we combine the tables our `food_production` table with `food_land_use` by the column `Food product`.",
   "metadata": {
    "tags": [],
    "cell_id": "00028-800d8a3e-2739-424e-9217-8a1009335e14",
    "deepnote_cell_type": "markdown"
   }
  },
  {
   "cell_type": "code",
   "source": "#Load and view the new table `food_land_use`.\nfood_land_use = Table.read_table('food_land_use.csv')\nfood_land_use.show(5)",
   "metadata": {
    "tags": [],
    "cell_id": "00029-1d050a0c-3668-4f3e-9a1e-acbfb826fc6b",
    "deepnote_to_be_reexecuted": false,
    "source_hash": "1713742",
    "execution_start": 1635818381624,
    "execution_millis": 2,
    "deepnote_cell_type": "code"
   },
   "outputs": [
    {
     "data": {
      "text/plain": "<IPython.core.display.HTML object>",
      "text/html": "<table border=\"1\" class=\"dataframe\">\n    <thead>\n        <tr>\n            <th>Food product</th> <th>Land use per kilogram (m² per kilogram)</th>\n        </tr>\n    </thead>\n    <tbody>\n        <tr>\n            <td>Wheat & Rye (Bread)</td> <td>nan                                    </td>\n        </tr>\n        <tr>\n            <td>Maize (Meal)       </td> <td>nan                                    </td>\n        </tr>\n        <tr>\n            <td>Barley (Beer)      </td> <td>nan                                    </td>\n        </tr>\n        <tr>\n            <td>Oatmeal            </td> <td>7.6                                    </td>\n        </tr>\n        <tr>\n            <td>Rice               </td> <td>2.8                                    </td>\n        </tr>\n    </tbody>\n</table>\n<p>... (38 rows omitted)</p>"
     },
     "metadata": {},
     "output_type": "display_data"
    }
   ],
   "execution_count": 17
  },
  {
   "cell_type": "code",
   "source": "#Combine food_production and food_land_use by the shared 'Food product' column\ncombined_tbl = food_production.join('Food product', food_land_use)\ncombined_tbl",
   "metadata": {
    "tags": [],
    "cell_id": "00028-bd775a00-afc7-4256-8400-b71c43bfb9f8",
    "deepnote_to_be_reexecuted": false,
    "source_hash": "d3379c2e",
    "execution_start": 1635818381657,
    "execution_millis": 2,
    "deepnote_cell_type": "code"
   },
   "outputs": [
    {
     "output_type": "execute_result",
     "execution_count": 18,
     "data": {
      "text/plain": "Food product      | Land use change | Animal Feed | Farm | Processing | Transport | Packaging | Retail | Total_emissions | Land use per kilogram (m² per kilogram)\nApples            | 0               | 0           | 0.2  | 0          | 0.1       | 0         | 0      | 0.3             | 0.63\nBananas           | 0               | 0           | 0.3  | 0.1        | 0.3       | 0.1       | 0      | 0.8             | 1.93\nBarley (Beer)     | 0               | 0           | 0.2  | 0.1        | 0         | 0.5       | 0.3    | 1.1             | nan\nBeef (beef herd)  | 16.3            | 1.9         | 39.4 | 1.3        | 0.3       | 0.2       | 0.2    | 59.6            | 326.21\nBeef (dairy herd) | 0.9             | 2.5         | 15.7 | 1.1        | 0.4       | 0.3       | 0.2    | 21.1            | 43.24\nBeet Sugar        | 0               | 0           | 0.5  | 0.2        | 0.6       | 0.1       | 0      | 1.4             | 1.83\nBerries & Grapes  | 0               | 0           | 0.7  | 0          | 0.2       | 0.2       | 0      | 1.1             | 2.41\nBrassicas         | 0               | 0           | 0.3  | 0          | 0.1       | 0         | 0      | 0.4             | 0.55\nCane Sugar        | 1.2             | 0           | 0.5  | 0          | 0.8       | 0.1       | 0      | 2.6             | 2.04\nCassava           | 0.6             | 0           | 0.2  | 0          | 0.1       | 0         | 0      | 0.9             | 1.81\n... (33 rows omitted)",
      "text/html": "<table border=\"1\" class=\"dataframe\">\n    <thead>\n        <tr>\n            <th>Food product</th> <th>Land use change</th> <th>Animal Feed</th> <th>Farm</th> <th>Processing</th> <th>Transport</th> <th>Packaging</th> <th>Retail</th> <th>Total_emissions</th> <th>Land use per kilogram (m² per kilogram)</th>\n        </tr>\n    </thead>\n    <tbody>\n        <tr>\n            <td>Apples           </td> <td>0              </td> <td>0          </td> <td>0.2 </td> <td>0         </td> <td>0.1      </td> <td>0        </td> <td>0     </td> <td>0.3            </td> <td>0.63                                   </td>\n        </tr>\n        <tr>\n            <td>Bananas          </td> <td>0              </td> <td>0          </td> <td>0.3 </td> <td>0.1       </td> <td>0.3      </td> <td>0.1      </td> <td>0     </td> <td>0.8            </td> <td>1.93                                   </td>\n        </tr>\n        <tr>\n            <td>Barley (Beer)    </td> <td>0              </td> <td>0          </td> <td>0.2 </td> <td>0.1       </td> <td>0        </td> <td>0.5      </td> <td>0.3   </td> <td>1.1            </td> <td>nan                                    </td>\n        </tr>\n        <tr>\n            <td>Beef (beef herd) </td> <td>16.3           </td> <td>1.9        </td> <td>39.4</td> <td>1.3       </td> <td>0.3      </td> <td>0.2      </td> <td>0.2   </td> <td>59.6           </td> <td>326.21                                 </td>\n        </tr>\n        <tr>\n            <td>Beef (dairy herd)</td> <td>0.9            </td> <td>2.5        </td> <td>15.7</td> <td>1.1       </td> <td>0.4      </td> <td>0.3      </td> <td>0.2   </td> <td>21.1           </td> <td>43.24                                  </td>\n        </tr>\n        <tr>\n            <td>Beet Sugar       </td> <td>0              </td> <td>0          </td> <td>0.5 </td> <td>0.2       </td> <td>0.6      </td> <td>0.1      </td> <td>0     </td> <td>1.4            </td> <td>1.83                                   </td>\n        </tr>\n        <tr>\n            <td>Berries & Grapes </td> <td>0              </td> <td>0          </td> <td>0.7 </td> <td>0         </td> <td>0.2      </td> <td>0.2      </td> <td>0     </td> <td>1.1            </td> <td>2.41                                   </td>\n        </tr>\n        <tr>\n            <td>Brassicas        </td> <td>0              </td> <td>0          </td> <td>0.3 </td> <td>0         </td> <td>0.1      </td> <td>0        </td> <td>0     </td> <td>0.4            </td> <td>0.55                                   </td>\n        </tr>\n        <tr>\n            <td>Cane Sugar       </td> <td>1.2            </td> <td>0          </td> <td>0.5 </td> <td>0         </td> <td>0.8      </td> <td>0.1      </td> <td>0     </td> <td>2.6            </td> <td>2.04                                   </td>\n        </tr>\n        <tr>\n            <td>Cassava          </td> <td>0.6            </td> <td>0          </td> <td>0.2 </td> <td>0         </td> <td>0.1      </td> <td>0        </td> <td>0     </td> <td>0.9            </td> <td>1.81                                   </td>\n        </tr>\n    </tbody>\n</table>\n<p>... (33 rows omitted)</p>"
     },
     "metadata": {}
    }
   ],
   "execution_count": 18
  },
  {
   "cell_type": "markdown",
   "source": "Those are all of the table manipulation methods that you will need for this notebook! However, there are many more things you can do with tables. The complete documentation for table manipulation in the `datascience` package can be found [here](http://data8.org/datascience/tables.html).",
   "metadata": {
    "tags": [],
    "cell_id": "00033-958cce91-09d9-45ae-a88e-57709e5915e1",
    "deepnote_cell_type": "markdown"
   }
  },
  {
   "cell_type": "markdown",
   "source": "## Data Visualization",
   "metadata": {
    "tags": [],
    "is_collapsed": false,
    "cell_id": "00004-c06518c9-0069-45e0-946d-62d266b91f1d",
    "deepnote_cell_type": "text-cell-h2"
   }
  },
  {
   "cell_type": "markdown",
   "source": "In data science, it is also very useful to visualize our data. In this notebook, we will be introducing scatter plots and bar charts.",
   "metadata": {
    "tags": [],
    "cell_id": "00035-794dd130-8334-4ede-99b7-14c4f9ff68f5",
    "deepnote_cell_type": "markdown"
   }
  },
  {
   "cell_type": "markdown",
   "source": "**Scatter plots**\n\nScatter plots are used to observe some relationship between two continuous variables. We can generate scatter plots by using `.scatter()` on a table. It takes in two parameters, the column labels that correspond to the x-axis and y-axis respectively.\n\nLet's use it to visualize the relationship between land use and total emissions of food products.",
   "metadata": {
    "tags": [],
    "cell_id": "00036-a7740f91-8fbb-409f-9982-b9064d4e6dbd",
    "deepnote_cell_type": "markdown"
   }
  },
  {
   "cell_type": "code",
   "source": "combined_tbl.scatter('Land use per kilogram (m² per kilogram)', 'Total_emissions')",
   "metadata": {
    "tags": [],
    "cell_id": "00006-25a9229c-2781-41af-883c-2ebbd2efa254",
    "deepnote_to_be_reexecuted": false,
    "source_hash": "44d671ef",
    "execution_start": 1635818381658,
    "execution_millis": 68,
    "deepnote_cell_type": "code"
   },
   "outputs": [],
   "execution_count": 19
  },
  {
   "cell_type": "markdown",
   "source": "**Bar charts**\n\nBar charts are used to compare a numerical property of classified groups. The method `.bar()` or `.barh()` (horizontal bar chart) takes in two parameters: the categorical column label and then the numerical column label.\n\nIn the example below, we use it to see the total emissions (numerical property) for each food product (category).",
   "metadata": {
    "tags": [],
    "cell_id": "00038-0d3ecc42-af1b-4b6c-8a64-9c73e901eda6",
    "deepnote_cell_type": "markdown"
   }
  },
  {
   "cell_type": "code",
   "source": "#Standard bar chart\nfood_production.bar('Food product', 'Total_emissions')",
   "metadata": {
    "tags": [],
    "cell_id": "00039-347bff18-9b27-40f0-b300-8be8c384ba59",
    "deepnote_to_be_reexecuted": false,
    "source_hash": "2292f363",
    "execution_start": 1635818381737,
    "execution_millis": 313,
    "deepnote_cell_type": "code"
   },
   "outputs": [
    {
     "name": "stderr",
     "text": "/shared-libs/python3.7/py/lib/python3.7/site-packages/datascience/tables.py:3006: UserWarning: FixedFormatter should only be used together with FixedLocator\n  axis.set_xticklabels(tick_labels, stretch='ultra-condensed')\n",
     "output_type": "stream"
    }
   ],
   "execution_count": 20
  },
  {
   "cell_type": "code",
   "source": "#Horizontal bar chart\nfood_production.barh('Food product', 'Total_emissions')",
   "metadata": {
    "tags": [],
    "cell_id": "00040-121c5b17-64e0-4f6f-a058-a2a8c2c7c0f1",
    "deepnote_to_be_reexecuted": false,
    "source_hash": "ee31a67e",
    "execution_start": 1635818382059,
    "execution_millis": 355,
    "deepnote_cell_type": "code"
   },
   "outputs": [],
   "execution_count": 21
  },
  {
   "cell_type": "markdown",
   "source": "That's the end of this introduction! The rest of this notebook will be an interactive project for you to practice some of the skills you've learnt!",
   "metadata": {
    "tags": [],
    "cell_id": "00041-b024b0cd-dc66-433b-beb6-07ce8780023a",
    "deepnote_cell_type": "markdown"
   }
  },
  {
   "cell_type": "markdown",
   "source": "## Part 1: California Counties",
   "metadata": {
    "tags": [],
    "is_collapsed": false,
    "cell_id": "00003-c2a406a4-1208-4811-a9a9-2cb195e33d13",
    "deepnote_cell_type": "text-cell-h2"
   }
  },
  {
   "cell_type": "markdown",
   "source": "Now it's your turn! In these next few parts, you will be applying tools from the previous two sections to analyze data from the WHEJ dataset.",
   "metadata": {
    "tags": [],
    "cell_id": "00006-dd7babb2-c8b1-4365-8ef3-2f2cedc9b94c",
    "deepnote_cell_type": "markdown"
   }
  },
  {
   "cell_type": "markdown",
   "source": "First, run the cell below to take a look at our `california` table. Each row of the table corresponds to a county in California and some demographic and environmental data.",
   "metadata": {
    "tags": [],
    "cell_id": "00003-e9df33e2-e660-4c40-b26a-5eadb0b5ddb0",
    "deepnote_cell_type": "markdown"
   }
  },
  {
   "cell_type": "code",
   "metadata": {
    "tags": [],
    "cell_id": "00002-45b3600c-acab-4b00-8a31-d3ac66854301",
    "deepnote_to_be_reexecuted": false,
    "source_hash": "ebaa668d",
    "execution_start": 1635818382433,
    "execution_millis": 1391,
    "deepnote_cell_type": "code"
   },
   "source": "#Just run this cell\ncalifornia = Table.read_table(\"/work/Notebook 2/California_WHEJ.csv\")\ncalifornia.show(3)",
   "execution_count": 22,
   "outputs": [
    {
     "data": {
      "text/plain": "<IPython.core.display.HTML object>",
      "text/html": "<table border=\"1\" class=\"dataframe\">\n    <thead>\n        <tr>\n            <th>Unnamed: 0</th> <th>GEOID10</th> <th>Housing burden (percent)</th> <th>Total population</th> <th>Median household income (% of state median household income)</th> <th>Current asthma among adults aged >=18 years</th> <th>Coronary heart disease among adults aged >=18 years</th> <th>Cancer (excluding skin cancer) among adults aged >=18 years</th> <th>Current lack of health insurance among adults aged 18-64 years</th> <th>Diagnosed diabetes among adults aged >=18 years</th> <th>Physical health not good for >=14 days among adults aged >=18 years</th> <th>Air toxics cancer risk</th> <th>Respiratory hazard index</th> <th>Diesel particulate matter</th> <th>Particulate matter (PM2.5)</th> <th>Ozone</th> <th>Traffic proximity and volume</th> <th>Proximity to RMP sites</th> <th>Proximity to TSDF sites</th> <th>Proximity to NPL sites</th> <th>Wastewater discharge</th> <th>Percent pre-1960s housing (lead paint indicator)</th> <th>Individuals under 5 years old</th> <th>Individuals over 64 years old</th> <th>Linguistic isolation (percent)</th> <th>Percent of households in linguistic isolation</th> <th>Poverty (Less than 200% of federal poverty line)</th> <th>Percent individuals age 25 or over with less than high school degree</th> <th>Unemployed civilians (percent)</th> <th>Housing + Transportation Costs % Income for the Regional Typical Household</th> <th>Score A</th> <th>Score B</th> <th>Socioeconomic Factors</th> <th>Sensitive populations</th> <th>Environmental effects</th> <th>Exposures</th> <th>Pollution Burden</th> <th>Population Characteristics</th> <th>Score C</th> <th>Score D</th> <th>Score E</th> <th>Low AMI, Low HS graduation</th> <th>Meets socioeconomic criteria</th> <th>Meets burden criteria</th> <th>Score F (communities)</th> <th>OBJECTID</th> <th>ID</th> <th>STATE_NAME</th> <th>ST_ABBREV</th> <th>REGION</th> <th>ACSTOTPOP</th> <th>D_PM25_2</th> <th>D_OZONE_2</th> <th>D_DSLPM_2</th> <th>D_CANCR_2</th> <th>D_RESP_2</th> <th>D_PTRAF_2</th> <th>D_LDPNT_2</th> <th>D_PNPL_2</th> <th>D_PRMP_2</th> <th>D_PTSDF_2</th> <th>D_PWDIS_2</th> <th>PM25</th> <th>OZONE</th> <th>DSLPM</th> <th>CANCER</th> <th>RESP</th> <th>PTRAF</th> <th>PRE1960PCT</th> <th>PNPL</th> <th>PRMP</th> <th>PTSDF</th> <th>PWDIS</th> <th>VULEOPCT</th> <th>VULSVI6PCT</th> <th>MINORPCT</th> <th>LOWINCPCT</th> <th>LINGISOPCT</th> <th>LESSHSPCT</th> <th>UNDER5PCT</th> <th>OVER64PCT</th> <th>Shape_Length</th> <th>Shape_Area</th> <th>FIPS code</th> <th>State Abr.</th> <th>County name</th> <th>CBSA title</th> <th>CBSA 2012 pop</th> <th>County 2012 pop</th> <th>2013 code</th> <th>2006 code</th> <th>1990-based code</th>\n        </tr>\n    </thead>\n    <tbody>\n        <tr>\n            <td>10297     </td> <td>60014001001</td> <td>0.1433                  </td> <td>2991            </td> <td>2.92232                                                     </td> <td>7.9                                        </td> <td>5.1                                                </td> <td>8.5                                                        </td> <td>4.8                                                           </td> <td>8                                              </td> <td>9                                                                  </td> <td>26.4966               </td> <td>0.437041                </td> <td>0.597205                 </td> <td>8.27278                   </td> <td>29.3125</td> <td>1128                        </td> <td>0.175204              </td> <td>2.29209                </td> <td>0.118582              </td> <td>0                   </td> <td>0.176558                                        </td> <td>0.0618522                    </td> <td>0.254096                     </td> <td>0.0116009                     </td> <td>0.0366826                                    </td> <td>0.0959088                                       </td> <td>0.0178275                                                           </td> <td>0.05                          </td> <td>76                                                                        </td> <td>0.115592</td> <td>0.0133433</td> <td>0.485942             </td> <td>0.669558             </td> <td>0.480974             </td> <td>0.48832  </td> <td>0.485871        </td> <td>0.57775                   </td> <td>0.280712</td> <td>0.0559111</td> <td>0.297226</td> <td>False                     </td> <td>False                       </td> <td>False                </td> <td>False                </td> <td>10298   </td> <td>60014001001</td> <td>California</td> <td>CA       </td> <td>9     </td> <td>2991     </td> <td>-3824.22</td> <td>-13550.2 </td> <td>-276.067 </td> <td>-12248.5 </td> <td>-202.029</td> <td>-521436     </td> <td>-81.6166 </td> <td>-54.8162</td> <td>-80.9909</td> <td>-1059.55 </td> <td>-0       </td> <td>8.27278</td> <td>29.3125</td> <td>0.597205</td> <td>26.4966</td> <td>0.437041</td> <td>1128   </td> <td>0.176558  </td> <td>0.118582</td> <td>0.175204</td> <td>2.29209</td> <td>0    </td> <td>0.201916</td> <td>0.129048  </td> <td>0.307924</td> <td>0.0959088</td> <td>0.0366826 </td> <td>0.0178275 </td> <td>0.0618522 </td> <td>0.254096 </td> <td>18116.6     </td> <td>1.10812e+07</td> <td>6001     </td> <td>CA        </td> <td>Alameda County</td> <td>San Francisco-Oakland-Hayward, CA</td> <td>4455560      </td> <td>1554720        </td> <td>1        </td> <td>1        </td> <td>1              </td>\n        </tr>\n        <tr>\n            <td>10298     </td> <td>60014002001</td> <td>0.06875                 </td> <td>1102            </td> <td>3.15678                                                     </td> <td>8                                          </td> <td>4                                                  </td> <td>6.9                                                        </td> <td>4.8                                                           </td> <td>6.1                                            </td> <td>7.6                                                                </td> <td>28.282                </td> <td>0.47766                 </td> <td>0.784154                 </td> <td>8.3093                    </td> <td>28.5145</td> <td>5492.56                     </td> <td>0.236346              </td> <td>5.42626                </td> <td>0.152012              </td> <td>0                   </td> <td>0.957014                                        </td> <td>0.0816697                    </td> <td>0.1951                       </td> <td>0                             </td> <td>0                                            </td> <td>0.0789474                                       </td> <td>0.0309406                                                           </td> <td>0.0360825                     </td> <td>55                                                                        </td> <td>0.135196</td> <td>0.0164389</td> <td>0.309663             </td> <td>0.57654              </td> <td>0.6582               </td> <td>0.56422  </td> <td>0.595547        </td> <td>0.443102                  </td> <td>0.263888</td> <td>0.0391941</td> <td>0.196257</td> <td>False                     </td> <td>False                       </td> <td>True                 </td> <td>False                </td> <td>10299   </td> <td>60014002001</td> <td>California</td> <td>CA       </td> <td>9     </td> <td>1102     </td> <td>-1552.41</td> <td>-5327.32 </td> <td>-146.502 </td> <td>-5283.87 </td> <td>-89.2403</td> <td>-1.02616e+06</td> <td>-178.797 </td> <td>-28.4   </td> <td>-44.1561</td> <td>-1013.78 </td> <td>-0       </td> <td>8.3093 </td> <td>28.5145</td> <td>0.784154</td> <td>28.282 </td> <td>0.47766 </td> <td>5492.56</td> <td>0.957014  </td> <td>0.152012</td> <td>0.236346</td> <td>5.42626</td> <td>0    </td> <td>0.186933</td> <td>0.113596  </td> <td>0.294918</td> <td>0.0789474</td> <td>0         </td> <td>0.0309406 </td> <td>0.0816697 </td> <td>0.1951   </td> <td>3775.32     </td> <td>464222     </td> <td>6001     </td> <td>CA        </td> <td>Alameda County</td> <td>San Francisco-Oakland-Hayward, CA</td> <td>4455560      </td> <td>1554720        </td> <td>1        </td> <td>1        </td> <td>1              </td>\n        </tr>\n        <tr>\n            <td>10299     </td> <td>60014002002</td> <td>0.06875                 </td> <td>895             </td> <td>2.161                                                       </td> <td>8                                          </td> <td>4                                                  </td> <td>6.9                                                        </td> <td>4.8                                                           </td> <td>6.1                                            </td> <td>7.6                                                                </td> <td>28.282                </td> <td>0.47766                 </td> <td>0.784154                 </td> <td>8.3093                    </td> <td>28.5145</td> <td>10897.3                     </td> <td>0.239507              </td> <td>5.93015                </td> <td>0.161547              </td> <td>0                   </td> <td>0.871921                                        </td> <td>0.00446927                   </td> <td>0.194413                     </td> <td>0                             </td> <td>0                                            </td> <td>0.163861                                        </td> <td>0.00921053                                                          </td> <td>0.0248447                     </td> <td>54                                                                        </td> <td>0.155107</td> <td>0.0173134</td> <td>0.288754             </td> <td>0.349317             </td> <td>0.655383             </td> <td>0.567425 </td> <td>0.596744        </td> <td>0.319035                  </td> <td>0.190383</td> <td>0.0495832</td> <td>0.181428</td> <td>False                     </td> <td>False                       </td> <td>True                 </td> <td>False                </td> <td>10300   </td> <td>60014002002</td> <td>California</td> <td>CA       </td> <td>9     </td> <td>895      </td> <td>-1011.34</td> <td>-3470.55 </td> <td>-95.4405 </td> <td>-3442.24 </td> <td>-58.1367</td> <td>-1.32632e+06</td> <td>-106.123 </td> <td>-19.6621</td> <td>-29.1507</td> <td>-721.767 </td> <td>-0       </td> <td>8.3093 </td> <td>28.5145</td> <td>0.784154</td> <td>28.282 </td> <td>0.47766 </td> <td>10897.3</td> <td>0.871921  </td> <td>0.161547</td> <td>0.239507</td> <td>5.93015</td> <td>0    </td> <td>0.220478</td> <td>0.108175  </td> <td>0.277095</td> <td>0.163861 </td> <td>0         </td> <td>0.00921053</td> <td>0.00446927</td> <td>0.194413 </td> <td>4019.01     </td> <td>479487     </td> <td>6001     </td> <td>CA        </td> <td>Alameda County</td> <td>San Francisco-Oakland-Hayward, CA</td> <td>4455560      </td> <td>1554720        </td> <td>1        </td> <td>1        </td> <td>1              </td>\n        </tr>\n    </tbody>\n</table>\n<p>... (23209 rows omitted)</p>"
     },
     "metadata": {},
     "output_type": "display_data"
    }
   ]
  },
  {
   "cell_type": "markdown",
   "source": "**Question 1.** Create an array called `labels` that contains all the column labels of `california` and a variable called `num_columns` that is an integer of the number of columns.",
   "metadata": {
    "tags": [],
    "cell_id": "00006-01cbf030-69b7-4271-a2d7-fe9933874c83",
    "deepnote_cell_type": "markdown"
   }
  },
  {
   "cell_type": "code",
   "metadata": {
    "tags": [],
    "cell_id": "00003-88665d23-79bd-4a71-96fa-dce8aaf03c3c",
    "deepnote_to_be_reexecuted": false,
    "source_hash": "88e87711",
    "execution_start": 1635818383879,
    "execution_millis": 0,
    "deepnote_cell_type": "code"
   },
   "source": "\"\"\"\nlabels = ...\nnum_columns = ...\nnum_columns\n\"\"\"\nlabels = california.column_labels\nnum_columns = len(labels)\nnum_columns",
   "execution_count": 23,
   "outputs": [
    {
     "name": "stderr",
     "text": "/shared-libs/python3.7/py/lib/python3.7/site-packages/datascience/tables.py:310: FutureWarning: column_labels is deprecated; use labels\n  warnings.warn(\"column_labels is deprecated; use labels\", FutureWarning)\n",
     "output_type": "stream"
    },
    {
     "output_type": "execute_result",
     "execution_count": 23,
     "data": {
      "text/plain": "92"
     },
     "metadata": {}
    }
   ]
  },
  {
   "cell_type": "markdown",
   "source": "**Question 2.** As we can see from the value of `num_columns`, there are a lot of columns in the table but we are only interested in a few of them. Create a new table `cali_environment` that contains only the columns with the labels given in `desired_columns`.",
   "metadata": {
    "tags": [],
    "cell_id": "00008-c56d7e46-46d5-4411-94f8-e9c45ad030fb",
    "deepnote_cell_type": "markdown"
   }
  },
  {
   "cell_type": "code",
   "metadata": {
    "tags": [],
    "cell_id": "00004-d12a383f-b039-4d07-a830-264d8f68072a",
    "deepnote_to_be_reexecuted": false,
    "source_hash": "2d7a1469",
    "execution_start": 1635818383880,
    "execution_millis": 1,
    "deepnote_cell_type": "code"
   },
   "source": "desired_columns = make_array(\"County name\", \"County 2012 pop\", \"2013 code\", \"Median household income (% of state median household income)\", \"Poverty (Less than 200% of federal poverty line)\", \"Air toxics cancer risk\", \"Respiratory hazard index\", \"Diesel particulate matter\", \"Traffic proximity and volume\")\n\"\"\"\ncali_environment = ...\ncali_environment.show(3)\n\"\"\"\ncali_environment = california.select(desired_columns)\ncali_environment.show(3)",
   "execution_count": 24,
   "outputs": [
    {
     "data": {
      "text/plain": "<IPython.core.display.HTML object>",
      "text/html": "<table border=\"1\" class=\"dataframe\">\n    <thead>\n        <tr>\n            <th>County name</th> <th>County 2012 pop</th> <th>2013 code</th> <th>Median household income (% of state median household income)</th> <th>Poverty (Less than 200% of federal poverty line)</th> <th>Air toxics cancer risk</th> <th>Respiratory hazard index</th> <th>Diesel particulate matter</th> <th>Traffic proximity and volume</th>\n        </tr>\n    </thead>\n    <tbody>\n        <tr>\n            <td>Alameda County</td> <td>1554720        </td> <td>1        </td> <td>2.92232                                                     </td> <td>0.0959088                                       </td> <td>26.4966               </td> <td>0.437041                </td> <td>0.597205                 </td> <td>1128                        </td>\n        </tr>\n        <tr>\n            <td>Alameda County</td> <td>1554720        </td> <td>1        </td> <td>3.15678                                                     </td> <td>0.0789474                                       </td> <td>28.282                </td> <td>0.47766                 </td> <td>0.784154                 </td> <td>5492.56                     </td>\n        </tr>\n        <tr>\n            <td>Alameda County</td> <td>1554720        </td> <td>1        </td> <td>2.161                                                       </td> <td>0.163861                                        </td> <td>28.282                </td> <td>0.47766                 </td> <td>0.784154                 </td> <td>10897.3                     </td>\n        </tr>\n    </tbody>\n</table>\n<p>... (23209 rows omitted)</p>"
     },
     "metadata": {},
     "output_type": "display_data"
    }
   ]
  },
  {
   "cell_type": "markdown",
   "source": "**Question 3.** Find the county with the highest 2012 population and assign the <u>string</u> to the variable `highest_pop`.\n\n*Hint: You may need to use the method `.sort()`.*",
   "metadata": {
    "tags": [],
    "cell_id": "00011-dfaad15b-be22-437b-a9b1-f9f3e1902cb9",
    "deepnote_cell_type": "markdown"
   }
  },
  {
   "cell_type": "code",
   "metadata": {
    "tags": [],
    "cell_id": "00010-0e20af84-329c-460d-8ef3-e31b5179915c",
    "deepnote_to_be_reexecuted": false,
    "source_hash": "dc43cd29",
    "execution_start": 1635818383924,
    "execution_millis": 2,
    "deepnote_cell_type": "code"
   },
   "source": "\"\"\"\nsorted_population = ...\nhighest_pop = ...\nhighest_pop\n\"\"\"\nsorted_population = cali_environment.sort('County 2012 pop', descending = True)\nhighest_pop = sorted_population.column('County name').item(0)\nhighest_pop",
   "execution_count": 25,
   "outputs": [
    {
     "output_type": "execute_result",
     "execution_count": 25,
     "data": {
      "text/plain": "'Los Angeles County'"
     },
     "metadata": {}
    }
   ]
  },
  {
   "cell_type": "markdown",
   "source": "**Question 4.** Let's do the same thing to find the county with the lowest 2012 population. Store the name into the variable `lowest_pop`.",
   "metadata": {
    "tags": [],
    "cell_id": "00013-b52aee94-3aca-468b-95a7-c8f7c0e11ac4",
    "deepnote_cell_type": "markdown"
   }
  },
  {
   "cell_type": "code",
   "metadata": {
    "tags": [],
    "cell_id": "00012-096aa36b-d877-43cc-b603-648ef4fd2c67",
    "deepnote_to_be_reexecuted": false,
    "source_hash": "680996f3",
    "execution_start": 1635818383967,
    "execution_millis": 2,
    "deepnote_cell_type": "code"
   },
   "source": "\"\"\"\nresorted_population = ...\nlowest_pop = ...\nlowest_pop\n\"\"\"\nresorted_population = cali_environment.sort('County 2012 pop', descending = False)\nlowest_pop = resorted_population.column('County name').item(0)\nlowest_pop",
   "execution_count": 26,
   "outputs": [
    {
     "output_type": "execute_result",
     "execution_count": 26,
     "data": {
      "text/plain": "'Alpine County'"
     },
     "metadata": {}
    }
   ]
  },
  {
   "cell_type": "markdown",
   "source": "Now let's try to compare the environmental data between these two counties.\n\n**Question 5.** Create a new table called `two_counties` that contains two rows from `cali_environment` corresponding to the counties you found in Question 3 and 4.",
   "metadata": {
    "tags": [],
    "cell_id": "00015-61365aa6-75b2-43ff-9a47-0c7527a44fc3",
    "deepnote_cell_type": "markdown"
   }
  },
  {
   "cell_type": "code",
   "metadata": {
    "tags": [],
    "cell_id": "00013-c48b7d39-ee77-4e3f-84eb-0df5238b9626",
    "deepnote_to_be_reexecuted": false,
    "source_hash": "a83d8b4b",
    "execution_start": 1635818383968,
    "execution_millis": 32,
    "deepnote_cell_type": "code"
   },
   "source": "#Do not change the line below.\n#It returns 'True' if the input value is equal to the names of the counties from Q3 and 4.\n#You do not need to understand how this line works in this course.\n\ncondition = lambda x: True if (x == highest_pop or x == lowest_pop) else False\n\"\"\"\ntwo_counties = cali_environment.where(..., condition)\ntwo_counties\n\"\"\"\ntwo_counties = cali_environment.where('County name', condition)\n\n#Only need line below because repeated county names, delete after cleaning\ntwo_counties = two_counties.sort('County 2012 pop').take(make_array(0, 6416))\n\ntwo_counties",
   "execution_count": 27,
   "outputs": [
    {
     "output_type": "execute_result",
     "execution_count": 27,
     "data": {
      "text/plain": "County name        | County 2012 pop | 2013 code | Median household income (% of state median household income) | Poverty (Less than 200% of federal poverty line) | Air toxics cancer risk | Respiratory hazard index | Diesel particulate matter | Traffic proximity and volume\nAlpine County      | 1129            | 6         | 0.923772                                                     | 0.232092                                         | 16.4923                | 0.233401                 | 0.0188699                 | 4.66669\nLos Angeles County | 9962789         | 1         | -8861.12                                                     | 0                                                | 33.8991                | 0.48044                  | 0.243724                  | 366.728",
      "text/html": "<table border=\"1\" class=\"dataframe\">\n    <thead>\n        <tr>\n            <th>County name</th> <th>County 2012 pop</th> <th>2013 code</th> <th>Median household income (% of state median household income)</th> <th>Poverty (Less than 200% of federal poverty line)</th> <th>Air toxics cancer risk</th> <th>Respiratory hazard index</th> <th>Diesel particulate matter</th> <th>Traffic proximity and volume</th>\n        </tr>\n    </thead>\n    <tbody>\n        <tr>\n            <td>Alpine County     </td> <td>1129           </td> <td>6        </td> <td>0.923772                                                    </td> <td>0.232092                                        </td> <td>16.4923               </td> <td>0.233401                </td> <td>0.0188699                </td> <td>4.66669                     </td>\n        </tr>\n        <tr>\n            <td>Los Angeles County</td> <td>9962789        </td> <td>1        </td> <td>-8861.12                                                    </td> <td>0                                               </td> <td>33.8991               </td> <td>0.48044                 </td> <td>0.243724                 </td> <td>366.728                     </td>\n        </tr>\n    </tbody>\n</table>"
     },
     "metadata": {}
    }
   ]
  },
  {
   "cell_type": "markdown",
   "source": "**Question 6.** Using the `two_counties` table, create a bar chart that compares the respiratory hazard index between the two counties.",
   "metadata": {
    "tags": [],
    "cell_id": "00017-9b4d1c7f-9705-498d-b659-a2d29efb19d8",
    "deepnote_cell_type": "markdown"
   }
  },
  {
   "cell_type": "code",
   "metadata": {
    "tags": [],
    "cell_id": "00017-8f64b148-a7ea-4645-b9cf-3c043a0a15d9",
    "deepnote_to_be_reexecuted": false,
    "source_hash": "f9ebc650",
    "execution_start": 1635818384005,
    "execution_millis": 52,
    "deepnote_cell_type": "code"
   },
   "source": "\"\"\"\ntwo_counties_respiratory = ...\ntwo_counties_respiratory.barh(..., ...)\n\"\"\"\n\ntwo_counties_respiratory = two_counties.select('County name', 'Respiratory hazard index')\ntwo_counties_respiratory.barh('County name','Respiratory hazard index')",
   "execution_count": 28,
   "outputs": []
  },
  {
   "cell_type": "markdown",
   "source": "**Question 7.** What could be a possible explanation for this difference?",
   "metadata": {
    "tags": [],
    "cell_id": "00019-439e69b2-0e48-4a6f-852b-0a63230cf25a",
    "deepnote_cell_type": "markdown"
   }
  },
  {
   "cell_type": "markdown",
   "source": "*Type your answer here.*",
   "metadata": {
    "tags": [],
    "cell_id": "00020-fb3ea538-d001-4787-b6cb-726952f894aa",
    "deepnote_cell_type": "markdown"
   }
  },
  {
   "cell_type": "markdown",
   "source": "## Part 2: Urban and Rural Counties",
   "metadata": {
    "tags": [],
    "is_collapsed": false,
    "cell_id": "00021-dd198f38-ec30-4724-bcbf-89aecba7b162",
    "deepnote_cell_type": "text-cell-h2"
   }
  },
  {
   "cell_type": "markdown",
   "source": "Now that we have compared an environmental condition between two counties, let's try comparing an environmental condition between urban and rural counties.",
   "metadata": {
    "tags": [],
    "cell_id": "00022-6fb27757-ba07-4466-974e-2ec191c82861",
    "deepnote_cell_type": "markdown"
   }
  },
  {
   "cell_type": "markdown",
   "source": "**Question 1.** Create a histogram that shows the distribution of diesel particulate matter across counties in California.",
   "metadata": {
    "tags": [],
    "cell_id": "00023-5e8f6722-83ae-4cf0-939f-5d75954e3b56",
    "deepnote_cell_type": "markdown"
   }
  },
  {
   "cell_type": "code",
   "metadata": {
    "tags": [],
    "cell_id": "00024-75db4e27-7fb2-423c-b15c-88c0c726ee7c",
    "deepnote_to_be_reexecuted": false,
    "source_hash": "e471c9fd",
    "execution_start": 1635818384064,
    "execution_millis": 88,
    "deepnote_cell_type": "code"
   },
   "source": "\"\"\"\ndiesel_histogram = ...\ndiesel_histogram\n\"\"\"\ndiesel_histogram = cali_environment.hist('Diesel particulate matter')\ndiesel_histogram",
   "execution_count": 29,
   "outputs": []
  },
  {
   "cell_type": "markdown",
   "source": "Next we need to classify counties as either urban or rural. The table below shows the corresponding classifications for each value in the column `2013 code` of `cali_environment`.",
   "metadata": {
    "tags": [],
    "cell_id": "00025-824a3240-b2dc-4f6f-a0af-f5a8bc0fbc30",
    "deepnote_cell_type": "markdown"
   }
  },
  {
   "cell_type": "code",
   "metadata": {
    "tags": [],
    "cell_id": "00026-4cec2ce9-32af-4b3c-8478-0ac5b0bacd92",
    "deepnote_to_be_reexecuted": false,
    "source_hash": "f9202ce1",
    "execution_start": 1635818384159,
    "execution_millis": 42,
    "deepnote_cell_type": "code"
   },
   "source": "#Just run this cell.\ncode_to_classification = Table().with_columns({'2013 code': [1,2,3,4,5,6], 'Classification': [\"Urban\", \"Suburban\", \"Suburban\", \"Rural\", \"Rural\", \"Rural\"]})\ncode_to_classification",
   "execution_count": 30,
   "outputs": [
    {
     "output_type": "execute_result",
     "execution_count": 30,
     "data": {
      "text/plain": "2013 code | Classification\n1         | Urban\n2         | Suburban\n3         | Suburban\n4         | Rural\n5         | Rural\n6         | Rural",
      "text/html": "<table border=\"1\" class=\"dataframe\">\n    <thead>\n        <tr>\n            <th>2013 code</th> <th>Classification</th>\n        </tr>\n    </thead>\n    <tbody>\n        <tr>\n            <td>1        </td> <td>Urban         </td>\n        </tr>\n        <tr>\n            <td>2        </td> <td>Suburban      </td>\n        </tr>\n        <tr>\n            <td>3        </td> <td>Suburban      </td>\n        </tr>\n        <tr>\n            <td>4        </td> <td>Rural         </td>\n        </tr>\n        <tr>\n            <td>5        </td> <td>Rural         </td>\n        </tr>\n        <tr>\n            <td>6        </td> <td>Rural         </td>\n        </tr>\n    </tbody>\n</table>"
     },
     "metadata": {}
    }
   ]
  },
  {
   "cell_type": "markdown",
   "source": "**Question 2.** Create a new table called `classified` that contains a new column labelled `Classification` that contains corresponding urban/rural classification from the `2013 code` column. Make sure to remove the `2013 code` column from the new `classified` table.\n\n*Hint: You may want to use the `.join()` method.*",
   "metadata": {
    "tags": [],
    "cell_id": "00021-3b27ffdf-1079-4f51-abb2-8cf07bbf13de",
    "deepnote_cell_type": "markdown"
   }
  },
  {
   "cell_type": "code",
   "metadata": {
    "tags": [],
    "cell_id": "00028-0cda45f3-8ad3-47cb-af18-101efc915ed4",
    "deepnote_to_be_reexecuted": false,
    "source_hash": "a57d84c4",
    "execution_start": 1635818384212,
    "execution_millis": 5178,
    "deepnote_cell_type": "code"
   },
   "source": "\"\"\"\nclassified = cali_environment.join('2013 code', code_to_classification).drop('2013 code')\nclassified.show(3)\n\"\"\"\nclassified = cali_environment.join('2013 code', code_to_classification).drop('2013 code')\nclassified.show(3)\n\n#Delete after cleaning\nclassified = classified.group('County name', lambda x: x.item(0))",
   "execution_count": 31,
   "outputs": [
    {
     "data": {
      "text/plain": "<IPython.core.display.HTML object>",
      "text/html": "<table border=\"1\" class=\"dataframe\">\n    <thead>\n        <tr>\n            <th>County name</th> <th>County 2012 pop</th> <th>Median household income (% of state median household income)</th> <th>Poverty (Less than 200% of federal poverty line)</th> <th>Air toxics cancer risk</th> <th>Respiratory hazard index</th> <th>Diesel particulate matter</th> <th>Traffic proximity and volume</th> <th>Classification</th>\n        </tr>\n    </thead>\n    <tbody>\n        <tr>\n            <td>Alameda County</td> <td>1554720        </td> <td>2.92232                                                     </td> <td>0.0959088                                       </td> <td>26.4966               </td> <td>0.437041                </td> <td>0.597205                 </td> <td>1128                        </td> <td>Urban         </td>\n        </tr>\n        <tr>\n            <td>Alameda County</td> <td>1554720        </td> <td>3.15678                                                     </td> <td>0.0789474                                       </td> <td>28.282                </td> <td>0.47766                 </td> <td>0.784154                 </td> <td>5492.56                     </td> <td>Urban         </td>\n        </tr>\n        <tr>\n            <td>Alameda County</td> <td>1554720        </td> <td>2.161                                                       </td> <td>0.163861                                        </td> <td>28.282                </td> <td>0.47766                 </td> <td>0.784154                 </td> <td>10897.3                     </td> <td>Urban         </td>\n        </tr>\n    </tbody>\n</table>\n<p>... (23209 rows omitted)</p>"
     },
     "metadata": {},
     "output_type": "display_data"
    }
   ]
  },
  {
   "cell_type": "markdown",
   "source": "**Question 3.** Create a bar chart that compares the diesel particulate matter in urban/rural regions.",
   "metadata": {
    "tags": [],
    "cell_id": "00029-9b265a02-3ff3-4a9f-a523-d9d4d9794e03",
    "deepnote_cell_type": "markdown"
   }
  },
  {
   "cell_type": "code",
   "metadata": {
    "tags": [],
    "cell_id": "00030-98a5b290-2437-43d7-8d9b-a87c6bf7fed4",
    "deepnote_to_be_reexecuted": false,
    "source_hash": "f0a01f33",
    "execution_start": 1635818389448,
    "execution_millis": 264,
    "deepnote_cell_type": "code"
   },
   "source": "\"\"\"\ndiesel_bar = ...\ndiesel_bar\n\"\"\"\n\ndiesel_bar = classified.barh(\"Classification\", \"Diesel particulate matter\")\ndiesel_bar",
   "execution_count": 32,
   "outputs": []
  },
  {
   "cell_type": "markdown",
   "source": "The widget below generates a bar chart that compares different environmental factors in urban/rural regions.",
   "metadata": {
    "tags": [],
    "cell_id": "00031-5084911c-e1ef-4a30-a5d8-6b65369a50d0",
    "deepnote_cell_type": "markdown"
   }
  },
  {
   "cell_type": "code",
   "metadata": {
    "tags": [],
    "cell_id": "00032-2de7e418-e15a-45ae-bd86-b4b4b58487f0",
    "deepnote_to_be_reexecuted": false,
    "source_hash": "baabf6d6",
    "execution_start": 1635818389719,
    "execution_millis": 8900,
    "deepnote_cell_type": "code"
   },
   "source": "#only for Deepnote\n!pip install ipywidgets",
   "execution_count": 33,
   "outputs": [
    {
     "name": "stdout",
     "text": "Collecting ipywidgets\n  Downloading ipywidgets-7.6.5-py2.py3-none-any.whl (121 kB)\n\u001b[K     |████████████████████████████████| 121 kB 18.5 MB/s \n\u001b[?25hRequirement already satisfied: nbformat>=4.2.0 in /shared-libs/python3.7/py-core/lib/python3.7/site-packages (from ipywidgets) (5.1.3)\nRequirement already satisfied: ipython-genutils~=0.2.0 in /shared-libs/python3.7/py-core/lib/python3.7/site-packages (from ipywidgets) (0.2.0)\nRequirement already satisfied: traitlets>=4.3.1 in /shared-libs/python3.7/py-core/lib/python3.7/site-packages (from ipywidgets) (4.3.3)\nRequirement already satisfied: ipython>=4.0.0 in /shared-libs/python3.7/py-core/lib/python3.7/site-packages (from ipywidgets) (7.28.0)\nCollecting widgetsnbextension~=3.5.0\n  Downloading widgetsnbextension-3.5.2-py2.py3-none-any.whl (1.6 MB)\n\u001b[K     |████████████████████████████████| 1.6 MB 24.2 MB/s \n\u001b[?25hRequirement already satisfied: ipykernel>=4.5.1 in /shared-libs/python3.7/py-core/lib/python3.7/site-packages (from ipywidgets) (5.5.5)\nCollecting jupyterlab-widgets>=1.0.0\n  Downloading jupyterlab_widgets-1.0.2-py3-none-any.whl (243 kB)\n\u001b[K     |████████████████████████████████| 243 kB 24.9 MB/s \n\u001b[?25hRequirement already satisfied: jupyter-client in /shared-libs/python3.7/py-core/lib/python3.7/site-packages (from ipykernel>=4.5.1->ipywidgets) (6.1.12)\nRequirement already satisfied: tornado>=4.2 in /shared-libs/python3.7/py-core/lib/python3.7/site-packages (from ipykernel>=4.5.1->ipywidgets) (6.1)\nRequirement already satisfied: jedi>=0.16 in /shared-libs/python3.7/py-core/lib/python3.7/site-packages (from ipython>=4.0.0->ipywidgets) (0.17.2)\nRequirement already satisfied: matplotlib-inline in /shared-libs/python3.7/py-core/lib/python3.7/site-packages (from ipython>=4.0.0->ipywidgets) (0.1.3)\nRequirement already satisfied: setuptools>=18.5 in /root/venv/lib/python3.7/site-packages (from ipython>=4.0.0->ipywidgets) (58.1.0)\nRequirement already satisfied: prompt-toolkit!=3.0.0,!=3.0.1,<3.1.0,>=2.0.0 in /shared-libs/python3.7/py-core/lib/python3.7/site-packages (from ipython>=4.0.0->ipywidgets) (3.0.20)\nRequirement already satisfied: pygments in /shared-libs/python3.7/py-core/lib/python3.7/site-packages (from ipython>=4.0.0->ipywidgets) (2.10.0)\nRequirement already satisfied: pickleshare in /shared-libs/python3.7/py-core/lib/python3.7/site-packages (from ipython>=4.0.0->ipywidgets) (0.7.5)\nRequirement already satisfied: decorator in /shared-libs/python3.7/py-core/lib/python3.7/site-packages (from ipython>=4.0.0->ipywidgets) (5.1.0)\nRequirement already satisfied: backcall in /shared-libs/python3.7/py-core/lib/python3.7/site-packages (from ipython>=4.0.0->ipywidgets) (0.2.0)\nRequirement already satisfied: pexpect>4.3 in /shared-libs/python3.7/py-core/lib/python3.7/site-packages (from ipython>=4.0.0->ipywidgets) (4.8.0)\nRequirement already satisfied: parso<0.8.0,>=0.7.0 in /shared-libs/python3.7/py-core/lib/python3.7/site-packages (from jedi>=0.16->ipython>=4.0.0->ipywidgets) (0.7.1)\nRequirement already satisfied: jsonschema!=2.5.0,>=2.4 in /shared-libs/python3.7/py-core/lib/python3.7/site-packages (from nbformat>=4.2.0->ipywidgets) (3.2.0)\nRequirement already satisfied: jupyter-core in /shared-libs/python3.7/py-core/lib/python3.7/site-packages (from nbformat>=4.2.0->ipywidgets) (4.7.1)\nRequirement already satisfied: attrs>=17.4.0 in /shared-libs/python3.7/py-core/lib/python3.7/site-packages (from jsonschema!=2.5.0,>=2.4->nbformat>=4.2.0->ipywidgets) (21.2.0)\nRequirement already satisfied: importlib-metadata in /shared-libs/python3.7/py-core/lib/python3.7/site-packages (from jsonschema!=2.5.0,>=2.4->nbformat>=4.2.0->ipywidgets) (4.8.1)\nRequirement already satisfied: pyrsistent>=0.14.0 in /shared-libs/python3.7/py-core/lib/python3.7/site-packages (from jsonschema!=2.5.0,>=2.4->nbformat>=4.2.0->ipywidgets) (0.18.0)\nRequirement already satisfied: six>=1.11.0 in /shared-libs/python3.7/py-core/lib/python3.7/site-packages (from jsonschema!=2.5.0,>=2.4->nbformat>=4.2.0->ipywidgets) (1.16.0)\nRequirement already satisfied: ptyprocess>=0.5 in /shared-libs/python3.7/py-core/lib/python3.7/site-packages (from pexpect>4.3->ipython>=4.0.0->ipywidgets) (0.7.0)\nRequirement already satisfied: wcwidth in /shared-libs/python3.7/py-core/lib/python3.7/site-packages (from prompt-toolkit!=3.0.0,!=3.0.1,<3.1.0,>=2.0.0->ipython>=4.0.0->ipywidgets) (0.2.5)\nRequirement already satisfied: notebook>=4.4.1 in /shared-libs/python3.7/py-core/lib/python3.7/site-packages (from widgetsnbextension~=3.5.0->ipywidgets) (6.3.0)\nRequirement already satisfied: argon2-cffi in /shared-libs/python3.7/py-core/lib/python3.7/site-packages (from notebook>=4.4.1->widgetsnbextension~=3.5.0->ipywidgets) (21.1.0)\nRequirement already satisfied: prometheus-client in /shared-libs/python3.7/py-core/lib/python3.7/site-packages (from notebook>=4.4.1->widgetsnbextension~=3.5.0->ipywidgets) (0.11.0)\nRequirement already satisfied: jinja2 in /shared-libs/python3.7/py-core/lib/python3.7/site-packages (from notebook>=4.4.1->widgetsnbextension~=3.5.0->ipywidgets) (3.0.2)\nRequirement already satisfied: terminado>=0.8.3 in /shared-libs/python3.7/py-core/lib/python3.7/site-packages (from notebook>=4.4.1->widgetsnbextension~=3.5.0->ipywidgets) (0.12.1)\nRequirement already satisfied: Send2Trash>=1.5.0 in /shared-libs/python3.7/py-core/lib/python3.7/site-packages (from notebook>=4.4.1->widgetsnbextension~=3.5.0->ipywidgets) (1.8.0)\nRequirement already satisfied: pyzmq>=17 in /shared-libs/python3.7/py-core/lib/python3.7/site-packages (from notebook>=4.4.1->widgetsnbextension~=3.5.0->ipywidgets) (22.3.0)\nRequirement already satisfied: nbconvert==6.0.7 in /shared-libs/python3.7/py-core/lib/python3.7/site-packages (from notebook>=4.4.1->widgetsnbextension~=3.5.0->ipywidgets) (6.0.7)\nRequirement already satisfied: python-dateutil>=2.1 in /shared-libs/python3.7/py-core/lib/python3.7/site-packages (from jupyter-client->ipykernel>=4.5.1->ipywidgets) (2.8.2)\nRequirement already satisfied: pandocfilters>=1.4.1 in /shared-libs/python3.7/py-core/lib/python3.7/site-packages (from nbconvert==6.0.7->notebook>=4.4.1->widgetsnbextension~=3.5.0->ipywidgets) (1.5.0)\nRequirement already satisfied: bleach in /shared-libs/python3.7/py-core/lib/python3.7/site-packages (from nbconvert==6.0.7->notebook>=4.4.1->widgetsnbextension~=3.5.0->ipywidgets) (4.1.0)\nRequirement already satisfied: jupyterlab-pygments in /shared-libs/python3.7/py-core/lib/python3.7/site-packages (from nbconvert==6.0.7->notebook>=4.4.1->widgetsnbextension~=3.5.0->ipywidgets) (0.1.2)\nRequirement already satisfied: nbclient<0.6.0,>=0.5.0 in /shared-libs/python3.7/py-core/lib/python3.7/site-packages (from nbconvert==6.0.7->notebook>=4.4.1->widgetsnbextension~=3.5.0->ipywidgets) (0.5.4)\nRequirement already satisfied: entrypoints>=0.2.2 in /shared-libs/python3.7/py-core/lib/python3.7/site-packages (from nbconvert==6.0.7->notebook>=4.4.1->widgetsnbextension~=3.5.0->ipywidgets) (0.3)\nRequirement already satisfied: defusedxml in /shared-libs/python3.7/py-core/lib/python3.7/site-packages (from nbconvert==6.0.7->notebook>=4.4.1->widgetsnbextension~=3.5.0->ipywidgets) (0.7.1)\nRequirement already satisfied: testpath in /shared-libs/python3.7/py-core/lib/python3.7/site-packages (from nbconvert==6.0.7->notebook>=4.4.1->widgetsnbextension~=3.5.0->ipywidgets) (0.5.0)\nRequirement already satisfied: mistune<2,>=0.8.1 in /shared-libs/python3.7/py-core/lib/python3.7/site-packages (from nbconvert==6.0.7->notebook>=4.4.1->widgetsnbextension~=3.5.0->ipywidgets) (0.8.4)\nRequirement already satisfied: MarkupSafe>=2.0 in /shared-libs/python3.7/py-core/lib/python3.7/site-packages (from jinja2->notebook>=4.4.1->widgetsnbextension~=3.5.0->ipywidgets) (2.0.1)\nRequirement already satisfied: nest-asyncio in /shared-libs/python3.7/py-core/lib/python3.7/site-packages (from nbclient<0.6.0,>=0.5.0->nbconvert==6.0.7->notebook>=4.4.1->widgetsnbextension~=3.5.0->ipywidgets) (1.5.1)\nRequirement already satisfied: cffi>=1.0.0 in /shared-libs/python3.7/py-core/lib/python3.7/site-packages (from argon2-cffi->notebook>=4.4.1->widgetsnbextension~=3.5.0->ipywidgets) (1.14.6)\nRequirement already satisfied: pycparser in /shared-libs/python3.7/py-core/lib/python3.7/site-packages (from cffi>=1.0.0->argon2-cffi->notebook>=4.4.1->widgetsnbextension~=3.5.0->ipywidgets) (2.20)\nRequirement already satisfied: packaging in /shared-libs/python3.7/py-core/lib/python3.7/site-packages (from bleach->nbconvert==6.0.7->notebook>=4.4.1->widgetsnbextension~=3.5.0->ipywidgets) (21.0)\nRequirement already satisfied: webencodings in /shared-libs/python3.7/py-core/lib/python3.7/site-packages (from bleach->nbconvert==6.0.7->notebook>=4.4.1->widgetsnbextension~=3.5.0->ipywidgets) (0.5.1)\nRequirement already satisfied: typing-extensions>=3.6.4 in /shared-libs/python3.7/py-core/lib/python3.7/site-packages (from importlib-metadata->jsonschema!=2.5.0,>=2.4->nbformat>=4.2.0->ipywidgets) (3.10.0.2)\nRequirement already satisfied: zipp>=0.5 in /shared-libs/python3.7/py-core/lib/python3.7/site-packages (from importlib-metadata->jsonschema!=2.5.0,>=2.4->nbformat>=4.2.0->ipywidgets) (3.6.0)\nRequirement already satisfied: pyparsing>=2.0.2 in /shared-libs/python3.7/py-core/lib/python3.7/site-packages (from packaging->bleach->nbconvert==6.0.7->notebook>=4.4.1->widgetsnbextension~=3.5.0->ipywidgets) (2.4.7)\nInstalling collected packages: widgetsnbextension, jupyterlab-widgets, ipywidgets\nSuccessfully installed ipywidgets-7.6.5 jupyterlab-widgets-1.0.2 widgetsnbextension-3.5.2\n\u001b[33mWARNING: You are using pip version 21.2.4; however, version 21.3.1 is available.\nYou should consider upgrading via the '/root/venv/bin/python -m pip install --upgrade pip' command.\u001b[0m\n",
     "output_type": "stream"
    }
   ]
  },
  {
   "cell_type": "code",
   "metadata": {
    "tags": [],
    "cell_id": "00032-eb94fd06-5a35-4759-bb59-f18fc4862023",
    "deepnote_to_be_reexecuted": false,
    "source_hash": "d66a5a3f",
    "execution_start": 1635818398642,
    "execution_millis": 524,
    "deepnote_cell_type": "code"
   },
   "source": "#Just run this cell\nimport ipywidgets as widgets\nfrom ipywidgets import interact, interactive, fixed, interact_manual\n\ndef select_bar(feature):\n    return classified.barh(\"Classification\", feature)\n\ninteract(select_bar, feature = [\"Air toxics cancer risk\", \"Respiratory hazard index\", \"Diesel particulate matter\", \"Traffic proximity and volume\"])",
   "execution_count": 34,
   "outputs": [
    {
     "output_type": "clearOutput"
    },
    {
     "output_type": "execute_result",
     "execution_count": 34,
     "data": {
      "text/plain": "<function __main__.select_bar(feature)>"
     },
     "metadata": {}
    }
   ]
  },
  {
   "cell_type": "markdown",
   "source": "**Question 4.** Based on the results from the widget above, which factor changes the most between urban/rural areas? Assign your answer as a string to the variable `q4`.",
   "metadata": {
    "tags": [],
    "cell_id": "00034-be1726c1-70d8-422f-96c8-900e778882c9",
    "deepnote_cell_type": "markdown"
   }
  },
  {
   "cell_type": "code",
   "metadata": {
    "tags": [],
    "cell_id": "00035-facb58b5-23be-437a-8e2c-ba24f68c7bbd",
    "deepnote_to_be_reexecuted": false,
    "source_hash": "b55c0fc7",
    "execution_start": 1635818399173,
    "execution_millis": 67,
    "deepnote_cell_type": "code"
   },
   "source": "\"\"\"\nq4 = '...'\n\"\"\"\n\n#need to determine answer later",
   "execution_count": 35,
   "outputs": [
    {
     "output_type": "execute_result",
     "execution_count": 35,
     "data": {
      "text/plain": "\"\\nq4 = '...'\\n\""
     },
     "metadata": {}
    }
   ]
  },
  {
   "cell_type": "markdown",
   "source": "## Part 3: A Primer on Classifiers",
   "metadata": {
    "tags": [],
    "is_collapsed": false,
    "cell_id": "00036-176ca792-450f-4235-97f0-f02378a0ad97",
    "deepnote_cell_type": "text-cell-h2"
   }
  },
  {
   "cell_type": "markdown",
   "source": "In this next part, we are going to start thinking about how we could predict whether a region is considered urban or rural based on environmental features.",
   "metadata": {
    "tags": [],
    "cell_id": "00037-bfb82615-4994-48c2-8d83-8289fd5fe4cf",
    "deepnote_cell_type": "markdown"
   }
  },
  {
   "cell_type": "markdown",
   "source": "We are going to simplify our classifications into just 'urban' and 'rural'.",
   "metadata": {
    "tags": [],
    "cell_id": "00038-51714031-7c42-4ede-8f16-67aaa3717c42",
    "deepnote_cell_type": "markdown"
   }
  },
  {
   "cell_type": "code",
   "metadata": {
    "tags": [],
    "cell_id": "00039-e4cb127e-36e9-49dd-aa6e-e742d16904b0",
    "deepnote_to_be_reexecuted": false,
    "source_hash": "229b7e39",
    "execution_start": 1635818399239,
    "execution_millis": 4566,
    "deepnote_cell_type": "code"
   },
   "source": "#Just run this cell.\nnew_codes = Table().with_columns({'2013 code': [1,2,3,4,5,6], 'Classification': [\"Urban\", \"Urban\", \"Urban\", \"Rural\", \"Rural\", \"Rural\"]})\nnew_classification = cali_environment.join('2013 code', code_to_classification).drop('2013 code')\nnew_classification.show(3)\n\n#delete later\nnew_classification = new_classification.group('County name', lambda x: x.item(0))",
   "execution_count": 36,
   "outputs": [
    {
     "data": {
      "text/plain": "<IPython.core.display.HTML object>",
      "text/html": "<table border=\"1\" class=\"dataframe\">\n    <thead>\n        <tr>\n            <th>County name</th> <th>County 2012 pop</th> <th>Median household income (% of state median household income)</th> <th>Poverty (Less than 200% of federal poverty line)</th> <th>Air toxics cancer risk</th> <th>Respiratory hazard index</th> <th>Diesel particulate matter</th> <th>Traffic proximity and volume</th> <th>Classification</th>\n        </tr>\n    </thead>\n    <tbody>\n        <tr>\n            <td>Alameda County</td> <td>1554720        </td> <td>2.92232                                                     </td> <td>0.0959088                                       </td> <td>26.4966               </td> <td>0.437041                </td> <td>0.597205                 </td> <td>1128                        </td> <td>Urban         </td>\n        </tr>\n        <tr>\n            <td>Alameda County</td> <td>1554720        </td> <td>3.15678                                                     </td> <td>0.0789474                                       </td> <td>28.282                </td> <td>0.47766                 </td> <td>0.784154                 </td> <td>5492.56                     </td> <td>Urban         </td>\n        </tr>\n        <tr>\n            <td>Alameda County</td> <td>1554720        </td> <td>2.161                                                       </td> <td>0.163861                                        </td> <td>28.282                </td> <td>0.47766                 </td> <td>0.784154                 </td> <td>10897.3                     </td> <td>Urban         </td>\n        </tr>\n    </tbody>\n</table>\n<p>... (23209 rows omitted)</p>"
     },
     "metadata": {},
     "output_type": "display_data"
    }
   ]
  },
  {
   "cell_type": "markdown",
   "source": "**Question 1.** Build a scatter plot with 'Air toxics cancer risk' on the x-axis and 'Respiratory hazard index' on the y-axis.",
   "metadata": {
    "tags": [],
    "cell_id": "00038-99e54e22-64a4-4f7c-903b-416b5d1dfa3e",
    "deepnote_cell_type": "markdown"
   }
  },
  {
   "cell_type": "code",
   "metadata": {
    "tags": [],
    "cell_id": "00041-5f906677-83cf-42c2-928b-d41b35633cac",
    "deepnote_to_be_reexecuted": false,
    "source_hash": "36a069ab",
    "execution_start": 1635818403811,
    "execution_millis": 54,
    "deepnote_cell_type": "code"
   },
   "source": "\"\"\"\nnew_classification.scatter(x = ..., y = ..., group = 'Classification')\n\"\"\"\nnew_classification.scatter(\"Air toxics cancer risk\", \"Respiratory hazard index\", group = 'Classification')",
   "execution_count": 37,
   "outputs": []
  },
  {
   "cell_type": "markdown",
   "source": "The () dots correspond with urban areas, and the () dots correspond with rural areas. We can see that there are clear groupings of the different classifications.",
   "metadata": {
    "tags": [],
    "cell_id": "00042-f684b962-4b7f-484c-834b-79bbbb1b6e45",
    "deepnote_cell_type": "markdown"
   }
  },
  {
   "cell_type": "markdown",
   "source": "**Question 2.** Based on the scatter plot in Question 1, which of the following coordinates would you expect to be classified as urban? \n\n1. (x,y)\n2. (x,y)\n3. (x,y)\n\nStore your answer as an array of integers corresponding to your selection.",
   "metadata": {
    "tags": [],
    "cell_id": "00043-3da8ca85-6386-4bb8-8223-346668e34df1",
    "deepnote_cell_type": "markdown"
   }
  },
  {
   "cell_type": "code",
   "metadata": {
    "tags": [],
    "cell_id": "00044-8d7392cf-59f8-40bf-9e43-e99b944076e6",
    "deepnote_to_be_reexecuted": false,
    "source_hash": "c60608b8",
    "execution_start": 1635818403878,
    "execution_millis": 48,
    "deepnote_cell_type": "code"
   },
   "source": "\"\"\"\nq3_2 = make_array(...)\n\"\"\"",
   "execution_count": 38,
   "outputs": [
    {
     "output_type": "execute_result",
     "execution_count": 38,
     "data": {
      "text/plain": "'\\nq3_2 = make_array(...)\\n'"
     },
     "metadata": {}
    }
   ]
  },
  {
   "cell_type": "markdown",
   "source": "A k-nearest neighbor classifier predicts the classification of a point based on the classification it its nearest points. These predictions can be tested for accuracy.",
   "metadata": {
    "tags": [],
    "is_collapsed": false,
    "cell_id": "00045-dc801f9d-a82b-4dbd-9f1d-e43bb7504963",
    "deepnote_cell_type": "text-cell-p"
   }
  },
  {
   "cell_type": "markdown",
   "source": "**Question 3.** Comparing the scatter plots below, which combination of variables do you think would build a more accurate classifier?\n\nAssign the integer value of your answer in the given variable.",
   "metadata": {
    "tags": [],
    "cell_id": "00046-f816cabe-fcc6-4cd0-88b9-227acbf672e0",
    "deepnote_cell_type": "markdown"
   }
  },
  {
   "cell_type": "markdown",
   "source": "(Upload images)",
   "metadata": {
    "tags": [],
    "cell_id": "00047-0816dc0b-7772-4689-ac4a-94ec39b9dd8d",
    "deepnote_cell_type": "markdown"
   }
  },
  {
   "cell_type": "code",
   "metadata": {
    "tags": [],
    "cell_id": "00048-1508624d-5bd6-49a2-a56f-1e240fa42969",
    "deepnote_to_be_reexecuted": false,
    "source_hash": "4198ca7",
    "execution_start": 1635818403967,
    "execution_millis": 1,
    "deepnote_cell_type": "code"
   },
   "source": "\"\"\"\nq3_3 = ...\n\"\"\"",
   "execution_count": 39,
   "outputs": [
    {
     "output_type": "execute_result",
     "execution_count": 39,
     "data": {
      "text/plain": "'\\nq3_3 = ...\\n'"
     },
     "metadata": {}
    }
   ]
  },
  {
   "cell_type": "markdown",
   "source": "",
   "metadata": {
    "tags": [],
    "is_collapsed": false,
    "cell_id": "00048-89ad9ea7-59d5-4cd3-872a-cf991566e604",
    "deepnote_cell_type": "text-cell-p"
   }
  },
  {
   "cell_type": "markdown",
   "source": "",
   "metadata": {
    "tags": [],
    "is_collapsed": false,
    "cell_id": "00049-68106af5-cb83-4824-8c12-f3d68c53ca34",
    "deepnote_cell_type": "text-cell-p"
   }
  },
  {
   "cell_type": "markdown",
   "source": "",
   "metadata": {
    "tags": [],
    "cell_id": "00028-0d451ea1-f1ce-4578-8f0f-50a501371eec",
    "deepnote_cell_type": "markdown"
   }
  },
  {
   "cell_type": "markdown",
   "source": "<a style='text-decoration:none;line-height:16px;display:flex;color:#5B5B62;padding:10px;justify-content:end;' href='https://deepnote.com?utm_source=created-in-deepnote-cell&projectId=2717432d-cb20-4851-9142-2356f9ef0a5b' target=\"_blank\">\n<img alt='Created in deepnote.com' style='display:inline;max-height:16px;margin:0px;margin-right:7.5px;' src='data:image/svg+xml;base64,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' > </img>\nCreated in <span style='font-weight:600;margin-left:4px;'>Deepnote</span></a>",
   "metadata": {
    "tags": [],
    "created_in_deepnote_cell": true,
    "deepnote_cell_type": "markdown"
   }
  }
 ],
 "nbformat": 4,
 "nbformat_minor": 2,
 "metadata": {
  "orig_nbformat": 2,
  "deepnote": {
   "is_reactive": false
  },
  "deepnote_notebook_id": "c5db2714-f1b2-472c-a563-ed7b1b0bb6a3",
  "deepnote_execution_queue": []
 }
}