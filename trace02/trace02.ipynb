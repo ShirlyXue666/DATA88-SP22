{
 "cells": [
  {
   "cell_type": "code",
   "execution_count": 1,
   "id": "a5790258",
   "metadata": {},
   "outputs": [],
   "source": [
    "#Just run this cell!\n",
    "#Importing packages\n",
    "import matplotlib\n",
    "matplotlib.use('Agg')\n",
    "from datascience import *\n",
    "import pandas as pd\n",
    "import requests\n",
    "%matplotlib inline\n",
    "import matplotlib.pyplot as plt\n",
    "import numpy as np\n",
    "plt.style.use('fivethirtyeight')"
   ]
  },
  {
   "cell_type": "markdown",
   "id": "f7be5a25",
   "metadata": {},
   "source": [
    "# Greenhouse Gas Emissions Over Time"
   ]
  },
  {
   "cell_type": "markdown",
   "id": "39676575",
   "metadata": {},
   "source": [
    "Building off of the previous notebooks we've been working with, today we'll be using greenhouse gas emissions data from different sectors and countries using satellite data, AI and other measurements from [Climate TRACE](https://climatetrace.org/about)."
   ]
  },
  {
   "cell_type": "code",
   "execution_count": 2,
   "id": "34d73e55",
   "metadata": {},
   "outputs": [
    {
     "data": {
      "text/html": [
       "<table border=\"1\" class=\"dataframe\">\n",
       "    <thead>\n",
       "        <tr>\n",
       "            <th>country_full</th> <th>country</th> <th>sector</th> <th>subsector</th> <th>start</th> <th>end</th> <th>emissions</th>\n",
       "        </tr>\n",
       "    </thead>\n",
       "    <tbody>\n",
       "        <tr>\n",
       "            <td>Aruba       </td> <td>ABW    </td> <td>agriculture</td> <td>cropland fires</td> <td>2020-01-01</td> <td>2021-01-01</td> <td>nan      </td>\n",
       "        </tr>\n",
       "        <tr>\n",
       "            <td>Aruba       </td> <td>ABW    </td> <td>agriculture</td> <td>cropland fires</td> <td>2019-01-01</td> <td>2020-01-01</td> <td>nan      </td>\n",
       "        </tr>\n",
       "        <tr>\n",
       "            <td>Aruba       </td> <td>ABW    </td> <td>agriculture</td> <td>cropland fires</td> <td>2018-01-01</td> <td>2019-01-01</td> <td>nan      </td>\n",
       "        </tr>\n",
       "        <tr>\n",
       "            <td>Aruba       </td> <td>ABW    </td> <td>agriculture</td> <td>cropland fires</td> <td>2017-01-01</td> <td>2018-01-01</td> <td>nan      </td>\n",
       "        </tr>\n",
       "        <tr>\n",
       "            <td>Aruba       </td> <td>ABW    </td> <td>agriculture</td> <td>cropland fires</td> <td>2016-01-01</td> <td>2017-01-01</td> <td>nan      </td>\n",
       "        </tr>\n",
       "        <tr>\n",
       "            <td>Aruba       </td> <td>ABW    </td> <td>agriculture</td> <td>cropland fires</td> <td>2015-01-01</td> <td>2016-01-01</td> <td>nan      </td>\n",
       "        </tr>\n",
       "        <tr>\n",
       "            <td>Aruba       </td> <td>ABW    </td> <td>agriculture</td> <td>cropland fires</td> <td>2014-01-01</td> <td>2015-01-01</td> <td>nan      </td>\n",
       "        </tr>\n",
       "        <tr>\n",
       "            <td>Aruba       </td> <td>ABW    </td> <td>agriculture</td> <td>cropland fires</td> <td>2013-01-01</td> <td>2014-01-01</td> <td>nan      </td>\n",
       "        </tr>\n",
       "        <tr>\n",
       "            <td>Aruba       </td> <td>ABW    </td> <td>agriculture</td> <td>cropland fires</td> <td>2012-01-01</td> <td>2013-01-01</td> <td>nan      </td>\n",
       "        </tr>\n",
       "        <tr>\n",
       "            <td>Aruba       </td> <td>ABW    </td> <td>agriculture</td> <td>cropland fires</td> <td>2011-01-01</td> <td>2012-01-01</td> <td>nan      </td>\n",
       "        </tr>\n",
       "    </tbody>\n",
       "</table>\n",
       "<p>... (107240 rows omitted)</p>"
      ],
      "text/plain": [
       "country_full | country | sector      | subsector      | start      | end        | emissions\n",
       "Aruba        | ABW     | agriculture | cropland fires | 2020-01-01 | 2021-01-01 | nan\n",
       "Aruba        | ABW     | agriculture | cropland fires | 2019-01-01 | 2020-01-01 | nan\n",
       "Aruba        | ABW     | agriculture | cropland fires | 2018-01-01 | 2019-01-01 | nan\n",
       "Aruba        | ABW     | agriculture | cropland fires | 2017-01-01 | 2018-01-01 | nan\n",
       "Aruba        | ABW     | agriculture | cropland fires | 2016-01-01 | 2017-01-01 | nan\n",
       "Aruba        | ABW     | agriculture | cropland fires | 2015-01-01 | 2016-01-01 | nan\n",
       "Aruba        | ABW     | agriculture | cropland fires | 2014-01-01 | 2015-01-01 | nan\n",
       "Aruba        | ABW     | agriculture | cropland fires | 2013-01-01 | 2014-01-01 | nan\n",
       "Aruba        | ABW     | agriculture | cropland fires | 2012-01-01 | 2013-01-01 | nan\n",
       "Aruba        | ABW     | agriculture | cropland fires | 2011-01-01 | 2012-01-01 | nan\n",
       "... (107240 rows omitted)"
      ]
     },
     "execution_count": 2,
     "metadata": {},
     "output_type": "execute_result"
    }
   ],
   "source": [
    "#just run this cell!\n",
    "ghg_emissions = requests.get(\"https://api.climatetrace.org/emissions_by_subsector_timeseries?interval=year&since=2010&to=2020\").json()\n",
    "ghg_emissions = pd.json_normalize(ghg_emissions)\n",
    "ghg_emissions = Table.from_df(ghg_emissions)\n",
    "ghg_emissions"
   ]
  },
  {
   "cell_type": "markdown",
   "id": "7229cf77",
   "metadata": {},
   "source": [
    "# Data Cleaning"
   ]
  },
  {
   "cell_type": "markdown",
   "id": "d58cd4cc",
   "metadata": {},
   "source": [
    "### Missing values\n",
    "As you may have noticed, there are `nan` values in the emissions column. Given the first few rows we are able to see on the table, this indicates that the dataset does not have greenhouse gas emissions data for country **Aruba**. Fill in the following code to drop all the rows that contain `nan` values in the `emissions` column\n",
    "\n",
    "Hint: The function `np.isfinite` tests whether an element is not infinity or a `nan` value"
   ]
  },
  {
   "cell_type": "code",
   "execution_count": 3,
   "id": "591cd1e7",
   "metadata": {},
   "outputs": [
    {
     "data": {
      "text/html": [
       "<table border=\"1\" class=\"dataframe\">\n",
       "    <thead>\n",
       "        <tr>\n",
       "            <th>country_full</th> <th>country</th> <th>sector</th> <th>subsector</th> <th>start</th> <th>end</th> <th>emissions</th>\n",
       "        </tr>\n",
       "    </thead>\n",
       "    <tbody>\n",
       "        <tr>\n",
       "            <td>Aruba       </td> <td>ABW    </td> <td>agriculture</td> <td>rice cultivation</td> <td>2020-01-01</td> <td>2021-01-01</td> <td>0        </td>\n",
       "        </tr>\n",
       "        <tr>\n",
       "            <td>Aruba       </td> <td>ABW    </td> <td>agriculture</td> <td>rice cultivation</td> <td>2019-01-01</td> <td>2020-01-01</td> <td>0        </td>\n",
       "        </tr>\n",
       "        <tr>\n",
       "            <td>Aruba       </td> <td>ABW    </td> <td>agriculture</td> <td>rice cultivation</td> <td>2018-01-01</td> <td>2019-01-01</td> <td>0        </td>\n",
       "        </tr>\n",
       "        <tr>\n",
       "            <td>Aruba       </td> <td>ABW    </td> <td>agriculture</td> <td>rice cultivation</td> <td>2017-01-01</td> <td>2018-01-01</td> <td>0        </td>\n",
       "        </tr>\n",
       "        <tr>\n",
       "            <td>Aruba       </td> <td>ABW    </td> <td>agriculture</td> <td>rice cultivation</td> <td>2016-01-01</td> <td>2017-01-01</td> <td>0        </td>\n",
       "        </tr>\n",
       "        <tr>\n",
       "            <td>Aruba       </td> <td>ABW    </td> <td>agriculture</td> <td>rice cultivation</td> <td>2015-01-01</td> <td>2016-01-01</td> <td>0        </td>\n",
       "        </tr>\n",
       "        <tr>\n",
       "            <td>Aruba       </td> <td>ABW    </td> <td>buildings  </td> <td>cooking         </td> <td>2020-01-01</td> <td>2021-01-01</td> <td>13300    </td>\n",
       "        </tr>\n",
       "        <tr>\n",
       "            <td>Aruba       </td> <td>ABW    </td> <td>buildings  </td> <td>cooking         </td> <td>2019-01-01</td> <td>2020-01-01</td> <td>13300    </td>\n",
       "        </tr>\n",
       "        <tr>\n",
       "            <td>Aruba       </td> <td>ABW    </td> <td>buildings  </td> <td>cooking         </td> <td>2018-01-01</td> <td>2019-01-01</td> <td>13300    </td>\n",
       "        </tr>\n",
       "        <tr>\n",
       "            <td>Aruba       </td> <td>ABW    </td> <td>buildings  </td> <td>cooking         </td> <td>2017-01-01</td> <td>2018-01-01</td> <td>13700    </td>\n",
       "        </tr>\n",
       "    </tbody>\n",
       "</table>\n",
       "<p>... (44077 rows omitted)</p>"
      ],
      "text/plain": [
       "country_full | country | sector      | subsector        | start      | end        | emissions\n",
       "Aruba        | ABW     | agriculture | rice cultivation | 2020-01-01 | 2021-01-01 | 0\n",
       "Aruba        | ABW     | agriculture | rice cultivation | 2019-01-01 | 2020-01-01 | 0\n",
       "Aruba        | ABW     | agriculture | rice cultivation | 2018-01-01 | 2019-01-01 | 0\n",
       "Aruba        | ABW     | agriculture | rice cultivation | 2017-01-01 | 2018-01-01 | 0\n",
       "Aruba        | ABW     | agriculture | rice cultivation | 2016-01-01 | 2017-01-01 | 0\n",
       "Aruba        | ABW     | agriculture | rice cultivation | 2015-01-01 | 2016-01-01 | 0\n",
       "Aruba        | ABW     | buildings   | cooking          | 2020-01-01 | 2021-01-01 | 13300\n",
       "Aruba        | ABW     | buildings   | cooking          | 2019-01-01 | 2020-01-01 | 13300\n",
       "Aruba        | ABW     | buildings   | cooking          | 2018-01-01 | 2019-01-01 | 13300\n",
       "Aruba        | ABW     | buildings   | cooking          | 2017-01-01 | 2018-01-01 | 13700\n",
       "... (44077 rows omitted)"
      ]
     },
     "execution_count": 3,
     "metadata": {},
     "output_type": "execute_result"
    }
   ],
   "source": [
    "#ghg_emissions = ghg_emissions.where(..., np.isfinite)\n",
    "ghg_emissions = ghg_emissions.where(\"emissions\", np.isfinite)\n",
    "ghg_emissions"
   ]
  },
  {
   "cell_type": "markdown",
   "id": "903e3e1a",
   "metadata": {},
   "source": [
    "### Table Manipulation\n",
    "Next, we will be adding a column in the dataset that states strictly the year that the emissions data covers. There are two columns in the dataset we can pull the year from. Since the emissions data reflects the greenhouse emissions data for the entire year, we will be using the `end` column.\n",
    "\n",
    "Hint: The dates on the end column are all **string** types and the year is a **substring** (a sequence of characters within another string)"
   ]
  },
  {
   "cell_type": "code",
   "execution_count": 4,
   "id": "8872d970",
   "metadata": {},
   "outputs": [
    {
     "data": {
      "text/html": [
       "<table border=\"1\" class=\"dataframe\">\n",
       "    <thead>\n",
       "        <tr>\n",
       "            <th>country_full</th> <th>country</th> <th>sector</th> <th>subsector</th> <th>start</th> <th>end</th> <th>emissions</th> <th>year</th>\n",
       "        </tr>\n",
       "    </thead>\n",
       "    <tbody>\n",
       "        <tr>\n",
       "            <td>Aruba       </td> <td>ABW    </td> <td>agriculture</td> <td>rice cultivation</td> <td>2020-01-01</td> <td>2021-01-01</td> <td>0        </td> <td>2021</td>\n",
       "        </tr>\n",
       "        <tr>\n",
       "            <td>Aruba       </td> <td>ABW    </td> <td>agriculture</td> <td>rice cultivation</td> <td>2019-01-01</td> <td>2020-01-01</td> <td>0        </td> <td>2020</td>\n",
       "        </tr>\n",
       "        <tr>\n",
       "            <td>Aruba       </td> <td>ABW    </td> <td>agriculture</td> <td>rice cultivation</td> <td>2018-01-01</td> <td>2019-01-01</td> <td>0        </td> <td>2019</td>\n",
       "        </tr>\n",
       "        <tr>\n",
       "            <td>Aruba       </td> <td>ABW    </td> <td>agriculture</td> <td>rice cultivation</td> <td>2017-01-01</td> <td>2018-01-01</td> <td>0        </td> <td>2018</td>\n",
       "        </tr>\n",
       "        <tr>\n",
       "            <td>Aruba       </td> <td>ABW    </td> <td>agriculture</td> <td>rice cultivation</td> <td>2016-01-01</td> <td>2017-01-01</td> <td>0        </td> <td>2017</td>\n",
       "        </tr>\n",
       "        <tr>\n",
       "            <td>Aruba       </td> <td>ABW    </td> <td>agriculture</td> <td>rice cultivation</td> <td>2015-01-01</td> <td>2016-01-01</td> <td>0        </td> <td>2016</td>\n",
       "        </tr>\n",
       "        <tr>\n",
       "            <td>Aruba       </td> <td>ABW    </td> <td>buildings  </td> <td>cooking         </td> <td>2020-01-01</td> <td>2021-01-01</td> <td>13300    </td> <td>2021</td>\n",
       "        </tr>\n",
       "        <tr>\n",
       "            <td>Aruba       </td> <td>ABW    </td> <td>buildings  </td> <td>cooking         </td> <td>2019-01-01</td> <td>2020-01-01</td> <td>13300    </td> <td>2020</td>\n",
       "        </tr>\n",
       "        <tr>\n",
       "            <td>Aruba       </td> <td>ABW    </td> <td>buildings  </td> <td>cooking         </td> <td>2018-01-01</td> <td>2019-01-01</td> <td>13300    </td> <td>2019</td>\n",
       "        </tr>\n",
       "        <tr>\n",
       "            <td>Aruba       </td> <td>ABW    </td> <td>buildings  </td> <td>cooking         </td> <td>2017-01-01</td> <td>2018-01-01</td> <td>13700    </td> <td>2018</td>\n",
       "        </tr>\n",
       "    </tbody>\n",
       "</table>\n",
       "<p>... (44077 rows omitted)</p>"
      ],
      "text/plain": [
       "country_full | country | sector      | subsector        | start      | end        | emissions | year\n",
       "Aruba        | ABW     | agriculture | rice cultivation | 2020-01-01 | 2021-01-01 | 0         | 2021\n",
       "Aruba        | ABW     | agriculture | rice cultivation | 2019-01-01 | 2020-01-01 | 0         | 2020\n",
       "Aruba        | ABW     | agriculture | rice cultivation | 2018-01-01 | 2019-01-01 | 0         | 2019\n",
       "Aruba        | ABW     | agriculture | rice cultivation | 2017-01-01 | 2018-01-01 | 0         | 2018\n",
       "Aruba        | ABW     | agriculture | rice cultivation | 2016-01-01 | 2017-01-01 | 0         | 2017\n",
       "Aruba        | ABW     | agriculture | rice cultivation | 2015-01-01 | 2016-01-01 | 0         | 2016\n",
       "Aruba        | ABW     | buildings   | cooking          | 2020-01-01 | 2021-01-01 | 13300     | 2021\n",
       "Aruba        | ABW     | buildings   | cooking          | 2019-01-01 | 2020-01-01 | 13300     | 2020\n",
       "Aruba        | ABW     | buildings   | cooking          | 2018-01-01 | 2019-01-01 | 13300     | 2019\n",
       "Aruba        | ABW     | buildings   | cooking          | 2017-01-01 | 2018-01-01 | 13700     | 2018\n",
       "... (44077 rows omitted)"
      ]
     },
     "execution_count": 4,
     "metadata": {},
     "output_type": "execute_result"
    }
   ],
   "source": [
    "#create Year column uaing the end columns\n",
    "#dates = ghg_emissions.column(\"...\")\n",
    "#years = [int(date[...]) for date in dates]\n",
    "#ghg_emissions = ghg_emissions.with_column(\"year\", years)\n",
    "#ghg_emissions\n",
    "\n",
    "dates = ghg_emissions.column(\"end\")\n",
    "years = [int(date[:4]) for date in dates]\n",
    "ghg_emissions = ghg_emissions.with_column(\"year\", years)\n",
    "ghg_emissions"
   ]
  },
  {
   "cell_type": "markdown",
   "id": "4475b4f2",
   "metadata": {},
   "source": [
    "# Greenhouse Gas Sector Analysis"
   ]
  },
  {
   "cell_type": "markdown",
   "id": "80a83a38",
   "metadata": {},
   "source": [
    "For the following section, we will be observing how greenhouse gas emissions have changed over time across all sectors in the dataset.  \n",
    "\n",
    "Now that we have a cleaned dataset, let's reduce the amount of data we'll have to keep track of and choose the columns that we will be working with in this section. **Select the `Year`, `sector`, and `emissions` columns from the ghg_emissions dataset**"
   ]
  },
  {
   "cell_type": "code",
   "execution_count": 5,
   "id": "f6e06b2e",
   "metadata": {},
   "outputs": [
    {
     "data": {
      "text/html": [
       "<table border=\"1\" class=\"dataframe\">\n",
       "    <thead>\n",
       "        <tr>\n",
       "            <th>year</th> <th>sector</th> <th>emissions</th>\n",
       "        </tr>\n",
       "    </thead>\n",
       "    <tbody>\n",
       "        <tr>\n",
       "            <td>2021</td> <td>agriculture</td> <td>0        </td>\n",
       "        </tr>\n",
       "        <tr>\n",
       "            <td>2020</td> <td>agriculture</td> <td>0        </td>\n",
       "        </tr>\n",
       "        <tr>\n",
       "            <td>2019</td> <td>agriculture</td> <td>0        </td>\n",
       "        </tr>\n",
       "        <tr>\n",
       "            <td>2018</td> <td>agriculture</td> <td>0        </td>\n",
       "        </tr>\n",
       "        <tr>\n",
       "            <td>2017</td> <td>agriculture</td> <td>0        </td>\n",
       "        </tr>\n",
       "        <tr>\n",
       "            <td>2016</td> <td>agriculture</td> <td>0        </td>\n",
       "        </tr>\n",
       "        <tr>\n",
       "            <td>2021</td> <td>buildings  </td> <td>13300    </td>\n",
       "        </tr>\n",
       "        <tr>\n",
       "            <td>2020</td> <td>buildings  </td> <td>13300    </td>\n",
       "        </tr>\n",
       "        <tr>\n",
       "            <td>2019</td> <td>buildings  </td> <td>13300    </td>\n",
       "        </tr>\n",
       "        <tr>\n",
       "            <td>2018</td> <td>buildings  </td> <td>13700    </td>\n",
       "        </tr>\n",
       "    </tbody>\n",
       "</table>\n",
       "<p>... (44077 rows omitted)</p>"
      ],
      "text/plain": [
       "year | sector      | emissions\n",
       "2021 | agriculture | 0\n",
       "2020 | agriculture | 0\n",
       "2019 | agriculture | 0\n",
       "2018 | agriculture | 0\n",
       "2017 | agriculture | 0\n",
       "2016 | agriculture | 0\n",
       "2021 | buildings   | 13300\n",
       "2020 | buildings   | 13300\n",
       "2019 | buildings   | 13300\n",
       "2018 | buildings   | 13700\n",
       "... (44077 rows omitted)"
      ]
     },
     "execution_count": 5,
     "metadata": {},
     "output_type": "execute_result"
    }
   ],
   "source": [
    "#sectors = ghg_emissions.select(['...', '...', '...'])\n",
    "#sectors\n",
    "sectors = ghg_emissions.select(['year', 'sector', 'emissions'])\n",
    "sectors"
   ]
  },
  {
   "cell_type": "markdown",
   "id": "e4a58ea2",
   "metadata": {},
   "source": [
    "Going into the The following cell tells us what years this dataset covers."
   ]
  },
  {
   "cell_type": "code",
   "execution_count": 10,
   "id": "44a4abfb",
   "metadata": {},
   "outputs": [
    {
     "data": {
      "text/plain": [
       "array([2016, 2017, 2018, 2019, 2020, 2021])"
      ]
     },
     "execution_count": 10,
     "metadata": {},
     "output_type": "execute_result"
    }
   ],
   "source": [
    "year = np.unique(ghg_emissions.column(\"year\"))\n",
    "year"
   ]
  },
  {
   "cell_type": "markdown",
   "id": "c0331279",
   "metadata": {},
   "source": [
    "And the next cell we'll see what sectors we will be covering today."
   ]
  },
  {
   "cell_type": "code",
   "execution_count": 11,
   "id": "6cdb7b42",
   "metadata": {},
   "outputs": [
    {
     "data": {
      "text/plain": [
       "array(['agriculture', 'buildings', 'extraction', 'manufacturing',\n",
       "       'maritime', 'oil and gas', 'power', 'transport', 'waste'],\n",
       "      dtype='<U13')"
      ]
     },
     "execution_count": 11,
     "metadata": {},
     "output_type": "execute_result"
    }
   ],
   "source": [
    "sector_types = np.unique(ghg_emissions.column(\"sector\"))\n",
    "sector_types"
   ]
  },
  {
   "cell_type": "markdown",
   "id": "9e9a4da5",
   "metadata": {},
   "source": [
    "Now we want to aggregate the data to find the total amount of greenhouse gas emissions in each sector over time. **Create a table with the total amount of emissions per sector for each year.**\n",
    "\n",
    "Hint: We want to group on column(s) and add all the emissions together within each group. For more information on how to use the `group` function, please refer to [Chapter 7.1.3](https://inferentialthinking.com/chapters/07/1/Visualizing_Categorical_Distributions.html?highlight=group) in the Data 8 textbook"
   ]
  },
  {
   "cell_type": "code",
   "execution_count": 13,
   "id": "0bfe111e",
   "metadata": {},
   "outputs": [
    {
     "data": {
      "text/html": [
       "<table border=\"1\" class=\"dataframe\">\n",
       "    <thead>\n",
       "        <tr>\n",
       "            <th>sector</th> <th>year</th> <th>emissions sum</th>\n",
       "        </tr>\n",
       "    </thead>\n",
       "    <tbody>\n",
       "        <tr>\n",
       "            <td>agriculture</td> <td>2016</td> <td>6.31602e+09  </td>\n",
       "        </tr>\n",
       "        <tr>\n",
       "            <td>agriculture</td> <td>2017</td> <td>6.35032e+09  </td>\n",
       "        </tr>\n",
       "        <tr>\n",
       "            <td>agriculture</td> <td>2018</td> <td>6.40422e+09  </td>\n",
       "        </tr>\n",
       "        <tr>\n",
       "            <td>agriculture</td> <td>2019</td> <td>6.35244e+09  </td>\n",
       "        </tr>\n",
       "        <tr>\n",
       "            <td>agriculture</td> <td>2020</td> <td>6.43106e+09  </td>\n",
       "        </tr>\n",
       "        <tr>\n",
       "            <td>agriculture</td> <td>2021</td> <td>6.41922e+09  </td>\n",
       "        </tr>\n",
       "        <tr>\n",
       "            <td>buildings  </td> <td>2016</td> <td>4.03479e+09  </td>\n",
       "        </tr>\n",
       "        <tr>\n",
       "            <td>buildings  </td> <td>2017</td> <td>4.04836e+09  </td>\n",
       "        </tr>\n",
       "        <tr>\n",
       "            <td>buildings  </td> <td>2018</td> <td>4.12174e+09  </td>\n",
       "        </tr>\n",
       "        <tr>\n",
       "            <td>buildings  </td> <td>2019</td> <td>4.22608e+09  </td>\n",
       "        </tr>\n",
       "    </tbody>\n",
       "</table>\n",
       "<p>... (44 rows omitted)</p>"
      ],
      "text/plain": [
       "sector      | year | emissions sum\n",
       "agriculture | 2016 | 6.31602e+09\n",
       "agriculture | 2017 | 6.35032e+09\n",
       "agriculture | 2018 | 6.40422e+09\n",
       "agriculture | 2019 | 6.35244e+09\n",
       "agriculture | 2020 | 6.43106e+09\n",
       "agriculture | 2021 | 6.41922e+09\n",
       "buildings   | 2016 | 4.03479e+09\n",
       "buildings   | 2017 | 4.04836e+09\n",
       "buildings   | 2018 | 4.12174e+09\n",
       "buildings   | 2019 | 4.22608e+09\n",
       "... (44 rows omitted)"
      ]
     },
     "execution_count": 13,
     "metadata": {},
     "output_type": "execute_result"
    }
   ],
   "source": [
    "#agg_sectors = sectors.group(..., ...)\n",
    "#agg_sectors\n",
    "agg_sectors = sectors.group([\"sector\", \"year\"], sum)\n",
    "agg_sectors"
   ]
  },
  {
   "cell_type": "markdown",
   "id": "e6b5c3ab",
   "metadata": {},
   "source": [
    "The advantage of pivot is that it places grouped values into adjacent columns, so that they can be combined and compared\n",
    "\n",
    "Check out [Chapter 8.3.3](https://inferentialthinking.com/chapters/08/3/Cross-Classifying_by_More_than_One_Variable.html?highlight=pivot) in the Data 8 textbook and the [documentation](http://data8.org/datascience/_autosummary/datascience.tables.Table.pivot.html) to learn more about how to use the `pivot` function."
   ]
  },
  {
   "cell_type": "code",
   "execution_count": 14,
   "id": "9749ce06",
   "metadata": {},
   "outputs": [
    {
     "data": {
      "text/html": [
       "<table border=\"1\" class=\"dataframe\">\n",
       "    <thead>\n",
       "        <tr>\n",
       "            <th>year</th> <th>agriculture</th> <th>buildings</th> <th>extraction</th> <th>manufacturing</th> <th>maritime</th> <th>oil and gas</th> <th>power</th> <th>transport</th> <th>waste</th>\n",
       "        </tr>\n",
       "    </thead>\n",
       "    <tbody>\n",
       "        <tr>\n",
       "            <td>2016</td> <td>6.31602e+09</td> <td>4.03479e+09</td> <td>5.15458e+07</td> <td>9.36938e+09  </td> <td>8.10407e+08</td> <td>5.54893e+09</td> <td>1.34716e+10</td> <td>7.1108e+09 </td> <td>3.16803e+09</td>\n",
       "        </tr>\n",
       "        <tr>\n",
       "            <td>2017</td> <td>6.35032e+09</td> <td>4.04836e+09</td> <td>5.3314e+07 </td> <td>9.31098e+09  </td> <td>8.38055e+08</td> <td>5.3857e+09 </td> <td>1.34767e+10</td> <td>7.19147e+09</td> <td>3.20247e+09</td>\n",
       "        </tr>\n",
       "        <tr>\n",
       "            <td>2018</td> <td>6.40422e+09</td> <td>4.12174e+09</td> <td>5.32611e+07</td> <td>9.3634e+09   </td> <td>8.7054e+08 </td> <td>5.51878e+09</td> <td>1.36884e+10</td> <td>7.27686e+09</td> <td>3.25983e+09</td>\n",
       "        </tr>\n",
       "        <tr>\n",
       "            <td>2019</td> <td>6.35244e+09</td> <td>4.22608e+09</td> <td>5.44093e+07</td> <td>9.59278e+09  </td> <td>8.63974e+08</td> <td>5.64849e+09</td> <td>1.40029e+10</td> <td>7.31804e+09</td> <td>3.29614e+09</td>\n",
       "        </tr>\n",
       "        <tr>\n",
       "            <td>2020</td> <td>6.43106e+09</td> <td>4.22608e+09</td> <td>5.50224e+07</td> <td>9.70853e+09  </td> <td>9.53488e+08</td> <td>5.69497e+09</td> <td>1.39919e+10</td> <td>7.33859e+09</td> <td>3.29614e+09</td>\n",
       "        </tr>\n",
       "        <tr>\n",
       "            <td>2021</td> <td>6.41922e+09</td> <td>4.22608e+09</td> <td>5.45942e+07</td> <td>9.69734e+09  </td> <td>1.04236e+09</td> <td>5.46634e+09</td> <td>1.35643e+10</td> <td>6.84983e+09</td> <td>3.29614e+09</td>\n",
       "        </tr>\n",
       "    </tbody>\n",
       "</table>"
      ],
      "text/plain": [
       "year | agriculture | buildings   | extraction  | manufacturing | maritime    | oil and gas | power       | transport   | waste\n",
       "2016 | 6.31602e+09 | 4.03479e+09 | 5.15458e+07 | 9.36938e+09   | 8.10407e+08 | 5.54893e+09 | 1.34716e+10 | 7.1108e+09  | 3.16803e+09\n",
       "2017 | 6.35032e+09 | 4.04836e+09 | 5.3314e+07  | 9.31098e+09   | 8.38055e+08 | 5.3857e+09  | 1.34767e+10 | 7.19147e+09 | 3.20247e+09\n",
       "2018 | 6.40422e+09 | 4.12174e+09 | 5.32611e+07 | 9.3634e+09    | 8.7054e+08  | 5.51878e+09 | 1.36884e+10 | 7.27686e+09 | 3.25983e+09\n",
       "2019 | 6.35244e+09 | 4.22608e+09 | 5.44093e+07 | 9.59278e+09   | 8.63974e+08 | 5.64849e+09 | 1.40029e+10 | 7.31804e+09 | 3.29614e+09\n",
       "2020 | 6.43106e+09 | 4.22608e+09 | 5.50224e+07 | 9.70853e+09   | 9.53488e+08 | 5.69497e+09 | 1.39919e+10 | 7.33859e+09 | 3.29614e+09\n",
       "2021 | 6.41922e+09 | 4.22608e+09 | 5.45942e+07 | 9.69734e+09   | 1.04236e+09 | 5.46634e+09 | 1.35643e+10 | 6.84983e+09 | 3.29614e+09"
      ]
     },
     "execution_count": 14,
     "metadata": {},
     "output_type": "execute_result"
    }
   ],
   "source": [
    "#agg_sectors = agg_sectors.pivot(..., ..., values = ...,collect=...)\n",
    "#agg_sectors\n",
    "\n",
    "agg_sectors = agg_sectors.pivot('sector', 'year', values = \"emissions sum\",collect=sum)\n",
    "agg_sectors"
   ]
  },
  {
   "cell_type": "markdown",
   "id": "f594bf71",
   "metadata": {},
   "source": [
    "Check out [Chapter 7](https://inferentialthinking.com/chapters/07/3/Overlaid_Graphs.html) for more info on visualizations.\n",
    "\n",
    "**Create a line plot showing how "
   ]
  },
  {
   "cell_type": "code",
   "execution_count": 29,
   "id": "9cd688a0",
   "metadata": {},
   "outputs": [
    {
     "data": {
      "text/plain": [
       "Text(0.5, 1.05, 'Emissions per Sector over Time')"
      ]
     },
     "execution_count": 29,
     "metadata": {},
     "output_type": "execute_result"
    },
    {
     "data": {
      "image/png": "[encoded data removed]",
      "text/plain": [
       "<Figure size 432x432 with 1 Axes>"
      ]
     },
     "metadata": {},
     "output_type": "display_data"
    }
   ],
   "source": [
    "#agg_sectors.plot(...)\n",
    "\n",
    "agg_sectors.plot(\"year\")\n",
    "plt.ylabel(\"emissions\")\n",
    "plt.title(\"Emissions per Sector over Time\", y=1.05)"
   ]
  },
  {
   "cell_type": "markdown",
   "id": "65d8fa3f",
   "metadata": {},
   "source": [
    "**What sectors are the top three most significant ghg emissions output? Why do you think this is the case?**\n"
   ]
  },
  {
   "cell_type": "markdown",
   "id": "144736c3",
   "metadata": {},
   "source": [
    "*Your answer here*"
   ]
  },
  {
   "cell_type": "markdown",
   "id": "5a82dad0",
   "metadata": {},
   "source": [
    "# Greenhouse Gas Subsector Analysis"
   ]
  },
  {
   "cell_type": "code",
   "execution_count": 30,
   "id": "e994631b",
   "metadata": {},
   "outputs": [
    {
     "data": {
      "text/html": [
       "<table border=\"1\" class=\"dataframe\">\n",
       "    <thead>\n",
       "        <tr>\n",
       "            <th>sector</th> <th>subsector</th> <th>year</th> <th>emissions</th>\n",
       "        </tr>\n",
       "    </thead>\n",
       "    <tbody>\n",
       "        <tr>\n",
       "            <td>agriculture</td> <td>rice cultivation</td> <td>2021</td> <td>0        </td>\n",
       "        </tr>\n",
       "        <tr>\n",
       "            <td>agriculture</td> <td>rice cultivation</td> <td>2020</td> <td>0        </td>\n",
       "        </tr>\n",
       "        <tr>\n",
       "            <td>agriculture</td> <td>rice cultivation</td> <td>2019</td> <td>0        </td>\n",
       "        </tr>\n",
       "        <tr>\n",
       "            <td>agriculture</td> <td>rice cultivation</td> <td>2018</td> <td>0        </td>\n",
       "        </tr>\n",
       "        <tr>\n",
       "            <td>agriculture</td> <td>rice cultivation</td> <td>2017</td> <td>0        </td>\n",
       "        </tr>\n",
       "        <tr>\n",
       "            <td>agriculture</td> <td>rice cultivation</td> <td>2016</td> <td>0        </td>\n",
       "        </tr>\n",
       "        <tr>\n",
       "            <td>buildings  </td> <td>cooking         </td> <td>2021</td> <td>13300    </td>\n",
       "        </tr>\n",
       "        <tr>\n",
       "            <td>buildings  </td> <td>cooking         </td> <td>2020</td> <td>13300    </td>\n",
       "        </tr>\n",
       "        <tr>\n",
       "            <td>buildings  </td> <td>cooking         </td> <td>2019</td> <td>13300    </td>\n",
       "        </tr>\n",
       "        <tr>\n",
       "            <td>buildings  </td> <td>cooking         </td> <td>2018</td> <td>13700    </td>\n",
       "        </tr>\n",
       "    </tbody>\n",
       "</table>\n",
       "<p>... (44077 rows omitted)</p>"
      ],
      "text/plain": [
       "sector      | subsector        | year | emissions\n",
       "agriculture | rice cultivation | 2021 | 0\n",
       "agriculture | rice cultivation | 2020 | 0\n",
       "agriculture | rice cultivation | 2019 | 0\n",
       "agriculture | rice cultivation | 2018 | 0\n",
       "agriculture | rice cultivation | 2017 | 0\n",
       "agriculture | rice cultivation | 2016 | 0\n",
       "buildings   | cooking          | 2021 | 13300\n",
       "buildings   | cooking          | 2020 | 13300\n",
       "buildings   | cooking          | 2019 | 13300\n",
       "buildings   | cooking          | 2018 | 13700\n",
       "... (44077 rows omitted)"
      ]
     },
     "execution_count": 30,
     "metadata": {},
     "output_type": "execute_result"
    }
   ],
   "source": [
    "#agg_subsectors = ghg_emissions.select([....])\n",
    "#agg_subsectors\n",
    "\n",
    "agg_subsectors = ghg_emissions.select(['sector', 'subsector', 'year', 'emissions'])\n",
    "agg_subsectors"
   ]
  },
  {
   "cell_type": "markdown",
   "id": "5c864910",
   "metadata": {},
   "source": [
    "**Create a table that contains emissions data ONLY for the sector with the largest emissions.**"
   ]
  },
  {
   "cell_type": "code",
   "execution_count": 35,
   "id": "0fc5c4a7",
   "metadata": {},
   "outputs": [
    {
     "data": {
      "text/html": [
       "<table border=\"1\" class=\"dataframe\">\n",
       "    <thead>\n",
       "        <tr>\n",
       "            <th>sector</th> <th>subsector</th> <th>year</th> <th>emissions</th>\n",
       "        </tr>\n",
       "    </thead>\n",
       "    <tbody>\n",
       "        <tr>\n",
       "            <td>power </td> <td>electricity generation</td> <td>2021</td> <td>699000   </td>\n",
       "        </tr>\n",
       "        <tr>\n",
       "            <td>power </td> <td>electricity generation</td> <td>2020</td> <td>688000   </td>\n",
       "        </tr>\n",
       "        <tr>\n",
       "            <td>power </td> <td>electricity generation</td> <td>2019</td> <td>680000   </td>\n",
       "        </tr>\n",
       "        <tr>\n",
       "            <td>power </td> <td>electricity generation</td> <td>2018</td> <td>663000   </td>\n",
       "        </tr>\n",
       "        <tr>\n",
       "            <td>power </td> <td>electricity generation</td> <td>2017</td> <td>648000   </td>\n",
       "        </tr>\n",
       "        <tr>\n",
       "            <td>power </td> <td>electricity generation</td> <td>2016</td> <td>631000   </td>\n",
       "        </tr>\n",
       "        <tr>\n",
       "            <td>power </td> <td>other energy use      </td> <td>2021</td> <td>0        </td>\n",
       "        </tr>\n",
       "        <tr>\n",
       "            <td>power </td> <td>other energy use      </td> <td>2020</td> <td>0        </td>\n",
       "        </tr>\n",
       "        <tr>\n",
       "            <td>power </td> <td>other energy use      </td> <td>2019</td> <td>0        </td>\n",
       "        </tr>\n",
       "        <tr>\n",
       "            <td>power </td> <td>other energy use      </td> <td>2018</td> <td>0        </td>\n",
       "        </tr>\n",
       "    </tbody>\n",
       "</table>\n",
       "<p>... (2803 rows omitted)</p>"
      ],
      "text/plain": [
       "sector | subsector              | year | emissions\n",
       "power  | electricity generation | 2021 | 699000\n",
       "power  | electricity generation | 2020 | 688000\n",
       "power  | electricity generation | 2019 | 680000\n",
       "power  | electricity generation | 2018 | 663000\n",
       "power  | electricity generation | 2017 | 648000\n",
       "power  | electricity generation | 2016 | 631000\n",
       "power  | other energy use       | 2021 | 0\n",
       "power  | other energy use       | 2020 | 0\n",
       "power  | other energy use       | 2019 | 0\n",
       "power  | other energy use       | 2018 | 0\n",
       "... (2803 rows omitted)"
      ]
     },
     "execution_count": 35,
     "metadata": {},
     "output_type": "execute_result"
    }
   ],
   "source": [
    "#...\n",
    "\n",
    "power = agg_subsectors.where(\"sector\", 'power')\n",
    "power"
   ]
  },
  {
   "cell_type": "markdown",
   "id": "d19e09b6",
   "metadata": {},
   "source": [
    "**Use the `group` and `pivot` functions to create a table with representing the year and the subsectors that make up the sector with the largest emissions.**"
   ]
  },
  {
   "cell_type": "code",
   "execution_count": 36,
   "id": "be863e4c",
   "metadata": {},
   "outputs": [
    {
     "name": "stderr",
     "output_type": "stream",
     "text": [
      "/Users/hansocampo/opt/anaconda3/lib/python3.8/site-packages/datascience/tables.py:920: VisibleDeprecationWarning: Creating an ndarray from ragged nested sequences (which is a list-or-tuple of lists-or-tuples-or ndarrays with different lengths or shapes) is deprecated. If you meant to do this, you must specify 'dtype=object' when creating the ndarray.\n",
      "  values = np.array(tuple(values))\n"
     ]
    },
    {
     "data": {
      "text/html": [
       "<table border=\"1\" class=\"dataframe\">\n",
       "    <thead>\n",
       "        <tr>\n",
       "            <th>year</th> <th>electricity generation</th> <th>other energy use</th>\n",
       "        </tr>\n",
       "    </thead>\n",
       "    <tbody>\n",
       "        <tr>\n",
       "            <td>2016</td> <td>1.22531e+10           </td> <td>1.21853e+09     </td>\n",
       "        </tr>\n",
       "        <tr>\n",
       "            <td>2017</td> <td>1.21398e+10           </td> <td>1.3369e+09      </td>\n",
       "        </tr>\n",
       "        <tr>\n",
       "            <td>2018</td> <td>1.23017e+10           </td> <td>1.38678e+09     </td>\n",
       "        </tr>\n",
       "        <tr>\n",
       "            <td>2019</td> <td>1.2635e+10            </td> <td>1.36794e+09     </td>\n",
       "        </tr>\n",
       "        <tr>\n",
       "            <td>2020</td> <td>1.2624e+10            </td> <td>1.36794e+09     </td>\n",
       "        </tr>\n",
       "        <tr>\n",
       "            <td>2021</td> <td>1.21963e+10           </td> <td>1.36794e+09     </td>\n",
       "        </tr>\n",
       "    </tbody>\n",
       "</table>"
      ],
      "text/plain": [
       "year | electricity generation | other energy use\n",
       "2016 | 1.22531e+10            | 1.21853e+09\n",
       "2017 | 1.21398e+10            | 1.3369e+09\n",
       "2018 | 1.23017e+10            | 1.38678e+09\n",
       "2019 | 1.2635e+10             | 1.36794e+09\n",
       "2020 | 1.2624e+10             | 1.36794e+09\n",
       "2021 | 1.21963e+10            | 1.36794e+09"
      ]
     },
     "execution_count": 36,
     "metadata": {},
     "output_type": "execute_result"
    }
   ],
   "source": [
    "#...\n",
    "\n",
    "power = power.group([\"sector\", \"subsector\", \"year\"], sum)\n",
    "power = power.pivot('subsector', 'year', values = \"emissions sum\",collect=sum)\n",
    "power"
   ]
  },
  {
   "cell_type": "markdown",
   "id": "df6aa466",
   "metadata": {},
   "source": []
  },
  {
   "cell_type": "markdown",
   "id": "d66bce72",
   "metadata": {},
   "source": [
    "**Now fill out the cell below to create a line plot visualizing emissions over time for each subsector in the sector with the most emissions.**"
   ]
  },
  {
   "cell_type": "code",
   "execution_count": 39,
   "id": "8390be7f",
   "metadata": {},
   "outputs": [
    {
     "data": {
      "text/plain": [
       "Text(0.5, 1.05, 'Emissions per Power Subsector over Time')"
      ]
     },
     "execution_count": 39,
     "metadata": {},
     "output_type": "execute_result"
    },
    {
     "data": {
      "image/png": "[encoded data removed]",
      "text/plain": [
       "<Figure size 432x432 with 1 Axes>"
      ]
     },
     "metadata": {},
     "output_type": "display_data"
    }
   ],
   "source": [
    "#...\n",
    "#plt.ylabel(\"emissions\")\n",
    "#plt.title(\"...\", y=1.05)\n",
    "\n",
    "power.plot(\"year\")\n",
    "plt.ylabel(\"emissions\")\n",
    "plt.title(\"Emissions per Power Subsector over Time\", y=1.05)"
   ]
  },
  {
   "cell_type": "code",
   "execution_count": 40,
   "id": "4b8499e6",
   "metadata": {},
   "outputs": [
    {
     "name": "stderr",
     "output_type": "stream",
     "text": [
      "/Users/hansocampo/opt/anaconda3/lib/python3.8/site-packages/traitlets/traitlets.py:586: FutureWarning: elementwise comparison failed; returning scalar instead, but in the future will perform elementwise comparison\n",
      "  silent = bool(old_value == new_value)\n"
     ]
    },
    {
     "data": {
      "application/vnd.jupyter.widget-view+json": {
       "model_id": "3da7afa1c5fc40efafcaa4f625d69b6a",
       "version_major": 2,
       "version_minor": 0
      },
      "text/plain": [
       "interactive(children=(Dropdown(description='sector', index=6, options=('agriculture', 'buildings', 'extraction…"
      ]
     },
     "metadata": {},
     "output_type": "display_data"
    },
    {
     "data": {
      "text/plain": [
       "<function __main__.select_sector(sector)>"
      ]
     },
     "execution_count": 40,
     "metadata": {},
     "output_type": "execute_result"
    }
   ],
   "source": [
    "#Run this cell!! \n",
    "\n",
    "import ipywidgets as widgets\n",
    "from ipywidgets import interact, interactive, fixed, interact_manual\n",
    "\n",
    "def select_sector(sector):\n",
    "    sector = agg_subsectors.where(\"sector\", sector)\n",
    "    sector = sector.group([\"sector\", \"subsector\", \"year\"], sum)\n",
    "    sector = sector.pivot('subsector', 'year', values = \"emissions sum\",collect=sum)\n",
    "    sector.plot('year')\n",
    "    plt.ylabel(\"emissions\")\n",
    "    plt.title(\"Emissions per Subsector over Time\", y=1.05)\n",
    "    \n",
    "    \n",
    "sector_dropdown = widgets.Dropdown(options=sector_types,\n",
    "                         value=\"power\")\n",
    "interact(select_sector, sector = sector_dropdown )"
   ]
  }
 ],
 "metadata": {
  "kernelspec": {
   "display_name": "Python 3",
   "language": "python",
   "name": "python3"
  },
  "language_info": {
   "codemirror_mode": {
    "name": "ipython",
    "version": 3
   },
   "file_extension": ".py",
   "mimetype": "text/x-python",
   "name": "python",
   "nbconvert_exporter": "python",
   "pygments_lexer": "ipython3",
   "version": "3.8.8"
  }
 },
 "nbformat": 4,
 "nbformat_minor": 5
}
