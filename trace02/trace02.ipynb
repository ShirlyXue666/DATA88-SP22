{
 "cells": [
  {
   "cell_type": "code",
   "execution_count": 1,
   "id": "a5790258",
   "metadata": {},
   "outputs": [],
   "source": [
    "import numpy as np\n",
    "import pandas as pd\n",
    "import requests"
   ]
  },
  {
   "cell_type": "markdown",
   "id": "292c7802",
   "metadata": {},
   "source": [
    "EDA emissions data by sector (line plot over time over all emissions (aggregated)\n",
    "1. What stands out? Is there one sector that is more significant than the others?\n",
    "\n",
    "EDA emissions data by subsector of the most significant sector\n",
    "1. What subsector(s) are contributing the most to the emissions of that specific sector?\n"
   ]
  },
  {
   "cell_type": "code",
   "execution_count": 2,
   "id": "2e3bf13e",
   "metadata": {},
   "outputs": [],
   "source": [
    "subsectors = requests.get(\"https://api.climatetrace.org/emissions_by_subsector_timeseries?interval=year&since=2010&to=2020\").json()\n",
    "subsectors = pd.json_normalize(subsectors)"
   ]
  },
  {
   "cell_type": "code",
   "execution_count": null,
   "id": "4e8b521f",
   "metadata": {},
   "outputs": [],
   "source": []
  }
 ],
 "metadata": {
  "kernelspec": {
   "display_name": "Python 3",
   "language": "python",
   "name": "python3"
  },
  "language_info": {
   "codemirror_mode": {
    "name": "ipython",
    "version": 3
   },
   "file_extension": ".py",
   "mimetype": "text/x-python",
   "name": "python",
   "nbconvert_exporter": "python",
   "pygments_lexer": "ipython3",
   "version": "3.8.8"
  }
 },
 "nbformat": 4,
 "nbformat_minor": 5
}
