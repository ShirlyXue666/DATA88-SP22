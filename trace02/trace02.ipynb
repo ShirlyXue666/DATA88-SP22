{
 "cells": [
  {
   "cell_type": "code",
   "execution_count": 2,
   "id": "a5790258",
   "metadata": {},
   "outputs": [],
   "source": [
    "import matplotlib\n",
    "matplotlib.use('Agg')\n",
    "from datascience import *\n",
    "import pandas as pd\n",
    "import requests\n",
    "%matplotlib inline\n",
    "import matplotlib.pyplot as plt\n",
    "import numpy as np\n",
    "plt.style.use('fivethirtyeight')"
   ]
  },
  {
   "cell_type": "markdown",
   "id": "292c7802",
   "metadata": {},
   "source": [
    "EDA emissions data by sector (line plot over time over all emissions (aggregated)\n",
    "1. What stands out? Is there one sector that is more significant than the others?\n",
    "\n",
    "EDA emissions data by subsector of the most significant sector\n",
    "1. What subsector(s) are contributing the most to the emissions of that specific sector?\n",
    "\n",
    "https://inferentialthinking.com/chapters/01/what-is-data-science.html\n",
    "\n",
    "http://data8.org/sp20/python-reference.html"
   ]
  },
  {
   "cell_type": "code",
   "execution_count": 3,
   "id": "34d73e55",
   "metadata": {},
   "outputs": [
    {
     "data": {
      "text/html": [
       "<table border=\"1\" class=\"dataframe\">\n",
       "    <thead>\n",
       "        <tr>\n",
       "            <th>country_full</th> <th>country</th> <th>sector</th> <th>subsector</th> <th>start</th> <th>end</th> <th>emissions</th>\n",
       "        </tr>\n",
       "    </thead>\n",
       "    <tbody>\n",
       "        <tr>\n",
       "            <td>Aruba       </td> <td>ABW    </td> <td>agriculture</td> <td>cropland fires</td> <td>2020-01-01</td> <td>2021-01-01</td> <td>nan      </td>\n",
       "        </tr>\n",
       "        <tr>\n",
       "            <td>Aruba       </td> <td>ABW    </td> <td>agriculture</td> <td>cropland fires</td> <td>2019-01-01</td> <td>2020-01-01</td> <td>nan      </td>\n",
       "        </tr>\n",
       "        <tr>\n",
       "            <td>Aruba       </td> <td>ABW    </td> <td>agriculture</td> <td>cropland fires</td> <td>2018-01-01</td> <td>2019-01-01</td> <td>nan      </td>\n",
       "        </tr>\n",
       "        <tr>\n",
       "            <td>Aruba       </td> <td>ABW    </td> <td>agriculture</td> <td>cropland fires</td> <td>2017-01-01</td> <td>2018-01-01</td> <td>nan      </td>\n",
       "        </tr>\n",
       "        <tr>\n",
       "            <td>Aruba       </td> <td>ABW    </td> <td>agriculture</td> <td>cropland fires</td> <td>2016-01-01</td> <td>2017-01-01</td> <td>nan      </td>\n",
       "        </tr>\n",
       "        <tr>\n",
       "            <td>Aruba       </td> <td>ABW    </td> <td>agriculture</td> <td>cropland fires</td> <td>2015-01-01</td> <td>2016-01-01</td> <td>nan      </td>\n",
       "        </tr>\n",
       "        <tr>\n",
       "            <td>Aruba       </td> <td>ABW    </td> <td>agriculture</td> <td>cropland fires</td> <td>2014-01-01</td> <td>2015-01-01</td> <td>nan      </td>\n",
       "        </tr>\n",
       "        <tr>\n",
       "            <td>Aruba       </td> <td>ABW    </td> <td>agriculture</td> <td>cropland fires</td> <td>2013-01-01</td> <td>2014-01-01</td> <td>nan      </td>\n",
       "        </tr>\n",
       "        <tr>\n",
       "            <td>Aruba       </td> <td>ABW    </td> <td>agriculture</td> <td>cropland fires</td> <td>2012-01-01</td> <td>2013-01-01</td> <td>nan      </td>\n",
       "        </tr>\n",
       "        <tr>\n",
       "            <td>Aruba       </td> <td>ABW    </td> <td>agriculture</td> <td>cropland fires</td> <td>2011-01-01</td> <td>2012-01-01</td> <td>nan      </td>\n",
       "        </tr>\n",
       "    </tbody>\n",
       "</table>\n",
       "<p>... (107240 rows omitted)</p>"
      ],
      "text/plain": [
       "country_full | country | sector      | subsector      | start      | end        | emissions\n",
       "Aruba        | ABW     | agriculture | cropland fires | 2020-01-01 | 2021-01-01 | nan\n",
       "Aruba        | ABW     | agriculture | cropland fires | 2019-01-01 | 2020-01-01 | nan\n",
       "Aruba        | ABW     | agriculture | cropland fires | 2018-01-01 | 2019-01-01 | nan\n",
       "Aruba        | ABW     | agriculture | cropland fires | 2017-01-01 | 2018-01-01 | nan\n",
       "Aruba        | ABW     | agriculture | cropland fires | 2016-01-01 | 2017-01-01 | nan\n",
       "Aruba        | ABW     | agriculture | cropland fires | 2015-01-01 | 2016-01-01 | nan\n",
       "Aruba        | ABW     | agriculture | cropland fires | 2014-01-01 | 2015-01-01 | nan\n",
       "Aruba        | ABW     | agriculture | cropland fires | 2013-01-01 | 2014-01-01 | nan\n",
       "Aruba        | ABW     | agriculture | cropland fires | 2012-01-01 | 2013-01-01 | nan\n",
       "Aruba        | ABW     | agriculture | cropland fires | 2011-01-01 | 2012-01-01 | nan\n",
       "... (107240 rows omitted)"
      ]
     },
     "execution_count": 3,
     "metadata": {},
     "output_type": "execute_result"
    }
   ],
   "source": [
    "ghg_emissions = requests.get(\"https://api.climatetrace.org/emissions_by_subsector_timeseries?interval=year&since=2010&to=2020\").json()\n",
    "ghg_emissions = pd.json_normalize(ghg_emissions)\n",
    "ghg_emissions = Table.from_df(ghg_emissions)\n",
    "ghg_emissions"
   ]
  },
  {
   "cell_type": "code",
   "execution_count": 4,
   "id": "ec33ec95",
   "metadata": {},
   "outputs": [
    {
     "data": {
      "text/plain": [
       "array(['agriculture', 'buildings', 'extraction', 'manufacturing',\n",
       "       'maritime', 'oil and gas', 'power', 'transport', 'waste'],\n",
       "      dtype='<U13')"
      ]
     },
     "execution_count": 4,
     "metadata": {},
     "output_type": "execute_result"
    }
   ],
   "source": [
    "sectors = np.unique(ghg_emissions.column(\"sector\"))"
   ]
  },
  {
   "cell_type": "markdown",
   "id": "7229cf77",
   "metadata": {},
   "source": [
    "## Data Cleaning"
   ]
  },
  {
   "cell_type": "markdown",
   "id": "d58cd4cc",
   "metadata": {},
   "source": [
    "As you may have noticed, there are `nan` values in the emissions column. For the first few rows specifically, this indicates that the dataset does not have greenhouse gas emissions data for country **Aruba**. Fill in the following code to drop all the rows that contain `nan` values in the `emissions` column\n",
    "\n",
    "Hint: The function `np.isfinite` tests whether an element is not infinity or a `nan` value"
   ]
  },
  {
   "cell_type": "code",
   "execution_count": 5,
   "id": "591cd1e7",
   "metadata": {},
   "outputs": [
    {
     "data": {
      "text/html": [
       "<table border=\"1\" class=\"dataframe\">\n",
       "    <thead>\n",
       "        <tr>\n",
       "            <th>country_full</th> <th>country</th> <th>sector</th> <th>subsector</th> <th>start</th> <th>end</th> <th>emissions</th>\n",
       "        </tr>\n",
       "    </thead>\n",
       "    <tbody>\n",
       "        <tr>\n",
       "            <td>Aruba       </td> <td>ABW    </td> <td>agriculture</td> <td>rice cultivation</td> <td>2020-01-01</td> <td>2021-01-01</td> <td>0        </td>\n",
       "        </tr>\n",
       "        <tr>\n",
       "            <td>Aruba       </td> <td>ABW    </td> <td>agriculture</td> <td>rice cultivation</td> <td>2019-01-01</td> <td>2020-01-01</td> <td>0        </td>\n",
       "        </tr>\n",
       "        <tr>\n",
       "            <td>Aruba       </td> <td>ABW    </td> <td>agriculture</td> <td>rice cultivation</td> <td>2018-01-01</td> <td>2019-01-01</td> <td>0        </td>\n",
       "        </tr>\n",
       "        <tr>\n",
       "            <td>Aruba       </td> <td>ABW    </td> <td>agriculture</td> <td>rice cultivation</td> <td>2017-01-01</td> <td>2018-01-01</td> <td>0        </td>\n",
       "        </tr>\n",
       "        <tr>\n",
       "            <td>Aruba       </td> <td>ABW    </td> <td>agriculture</td> <td>rice cultivation</td> <td>2016-01-01</td> <td>2017-01-01</td> <td>0        </td>\n",
       "        </tr>\n",
       "        <tr>\n",
       "            <td>Aruba       </td> <td>ABW    </td> <td>agriculture</td> <td>rice cultivation</td> <td>2015-01-01</td> <td>2016-01-01</td> <td>0        </td>\n",
       "        </tr>\n",
       "        <tr>\n",
       "            <td>Aruba       </td> <td>ABW    </td> <td>buildings  </td> <td>cooking         </td> <td>2020-01-01</td> <td>2021-01-01</td> <td>13300    </td>\n",
       "        </tr>\n",
       "        <tr>\n",
       "            <td>Aruba       </td> <td>ABW    </td> <td>buildings  </td> <td>cooking         </td> <td>2019-01-01</td> <td>2020-01-01</td> <td>13300    </td>\n",
       "        </tr>\n",
       "        <tr>\n",
       "            <td>Aruba       </td> <td>ABW    </td> <td>buildings  </td> <td>cooking         </td> <td>2018-01-01</td> <td>2019-01-01</td> <td>13300    </td>\n",
       "        </tr>\n",
       "        <tr>\n",
       "            <td>Aruba       </td> <td>ABW    </td> <td>buildings  </td> <td>cooking         </td> <td>2017-01-01</td> <td>2018-01-01</td> <td>13700    </td>\n",
       "        </tr>\n",
       "    </tbody>\n",
       "</table>\n",
       "<p>... (44077 rows omitted)</p>"
      ],
      "text/plain": [
       "country_full | country | sector      | subsector        | start      | end        | emissions\n",
       "Aruba        | ABW     | agriculture | rice cultivation | 2020-01-01 | 2021-01-01 | 0\n",
       "Aruba        | ABW     | agriculture | rice cultivation | 2019-01-01 | 2020-01-01 | 0\n",
       "Aruba        | ABW     | agriculture | rice cultivation | 2018-01-01 | 2019-01-01 | 0\n",
       "Aruba        | ABW     | agriculture | rice cultivation | 2017-01-01 | 2018-01-01 | 0\n",
       "Aruba        | ABW     | agriculture | rice cultivation | 2016-01-01 | 2017-01-01 | 0\n",
       "Aruba        | ABW     | agriculture | rice cultivation | 2015-01-01 | 2016-01-01 | 0\n",
       "Aruba        | ABW     | buildings   | cooking          | 2020-01-01 | 2021-01-01 | 13300\n",
       "Aruba        | ABW     | buildings   | cooking          | 2019-01-01 | 2020-01-01 | 13300\n",
       "Aruba        | ABW     | buildings   | cooking          | 2018-01-01 | 2019-01-01 | 13300\n",
       "Aruba        | ABW     | buildings   | cooking          | 2017-01-01 | 2018-01-01 | 13700\n",
       "... (44077 rows omitted)"
      ]
     },
     "execution_count": 5,
     "metadata": {},
     "output_type": "execute_result"
    }
   ],
   "source": [
    "#ghg_emissions = ghg_emissions.where(..., np.isfinite)\n",
    "ghg_emissions = ghg_emissions.where(\"emissions\", np.isfinite)\n",
    "ghg_emissions"
   ]
  },
  {
   "cell_type": "markdown",
   "id": "506b3e34",
   "metadata": {},
   "source": [
    "*Action* Add year column"
   ]
  },
  {
   "cell_type": "code",
   "execution_count": 6,
   "id": "8872d970",
   "metadata": {},
   "outputs": [
    {
     "data": {
      "text/html": [
       "<table border=\"1\" class=\"dataframe\">\n",
       "    <thead>\n",
       "        <tr>\n",
       "            <th>country_full</th> <th>country</th> <th>sector</th> <th>subsector</th> <th>start</th> <th>end</th> <th>emissions</th> <th>year</th>\n",
       "        </tr>\n",
       "    </thead>\n",
       "    <tbody>\n",
       "        <tr>\n",
       "            <td>Aruba       </td> <td>ABW    </td> <td>agriculture</td> <td>rice cultivation</td> <td>2020-01-01</td> <td>2021-01-01</td> <td>0        </td> <td>2020</td>\n",
       "        </tr>\n",
       "        <tr>\n",
       "            <td>Aruba       </td> <td>ABW    </td> <td>agriculture</td> <td>rice cultivation</td> <td>2019-01-01</td> <td>2020-01-01</td> <td>0        </td> <td>2019</td>\n",
       "        </tr>\n",
       "        <tr>\n",
       "            <td>Aruba       </td> <td>ABW    </td> <td>agriculture</td> <td>rice cultivation</td> <td>2018-01-01</td> <td>2019-01-01</td> <td>0        </td> <td>2018</td>\n",
       "        </tr>\n",
       "        <tr>\n",
       "            <td>Aruba       </td> <td>ABW    </td> <td>agriculture</td> <td>rice cultivation</td> <td>2017-01-01</td> <td>2018-01-01</td> <td>0        </td> <td>2017</td>\n",
       "        </tr>\n",
       "        <tr>\n",
       "            <td>Aruba       </td> <td>ABW    </td> <td>agriculture</td> <td>rice cultivation</td> <td>2016-01-01</td> <td>2017-01-01</td> <td>0        </td> <td>2016</td>\n",
       "        </tr>\n",
       "        <tr>\n",
       "            <td>Aruba       </td> <td>ABW    </td> <td>agriculture</td> <td>rice cultivation</td> <td>2015-01-01</td> <td>2016-01-01</td> <td>0        </td> <td>2015</td>\n",
       "        </tr>\n",
       "        <tr>\n",
       "            <td>Aruba       </td> <td>ABW    </td> <td>buildings  </td> <td>cooking         </td> <td>2020-01-01</td> <td>2021-01-01</td> <td>13300    </td> <td>2020</td>\n",
       "        </tr>\n",
       "        <tr>\n",
       "            <td>Aruba       </td> <td>ABW    </td> <td>buildings  </td> <td>cooking         </td> <td>2019-01-01</td> <td>2020-01-01</td> <td>13300    </td> <td>2019</td>\n",
       "        </tr>\n",
       "        <tr>\n",
       "            <td>Aruba       </td> <td>ABW    </td> <td>buildings  </td> <td>cooking         </td> <td>2018-01-01</td> <td>2019-01-01</td> <td>13300    </td> <td>2018</td>\n",
       "        </tr>\n",
       "        <tr>\n",
       "            <td>Aruba       </td> <td>ABW    </td> <td>buildings  </td> <td>cooking         </td> <td>2017-01-01</td> <td>2018-01-01</td> <td>13700    </td> <td>2017</td>\n",
       "        </tr>\n",
       "    </tbody>\n",
       "</table>\n",
       "<p>... (44077 rows omitted)</p>"
      ],
      "text/plain": [
       "country_full | country | sector      | subsector        | start      | end        | emissions | year\n",
       "Aruba        | ABW     | agriculture | rice cultivation | 2020-01-01 | 2021-01-01 | 0         | 2020\n",
       "Aruba        | ABW     | agriculture | rice cultivation | 2019-01-01 | 2020-01-01 | 0         | 2019\n",
       "Aruba        | ABW     | agriculture | rice cultivation | 2018-01-01 | 2019-01-01 | 0         | 2018\n",
       "Aruba        | ABW     | agriculture | rice cultivation | 2017-01-01 | 2018-01-01 | 0         | 2017\n",
       "Aruba        | ABW     | agriculture | rice cultivation | 2016-01-01 | 2017-01-01 | 0         | 2016\n",
       "Aruba        | ABW     | agriculture | rice cultivation | 2015-01-01 | 2016-01-01 | 0         | 2015\n",
       "Aruba        | ABW     | buildings   | cooking          | 2020-01-01 | 2021-01-01 | 13300     | 2020\n",
       "Aruba        | ABW     | buildings   | cooking          | 2019-01-01 | 2020-01-01 | 13300     | 2019\n",
       "Aruba        | ABW     | buildings   | cooking          | 2018-01-01 | 2019-01-01 | 13300     | 2018\n",
       "Aruba        | ABW     | buildings   | cooking          | 2017-01-01 | 2018-01-01 | 13700     | 2017\n",
       "... (44077 rows omitted)"
      ]
     },
     "execution_count": 6,
     "metadata": {},
     "output_type": "execute_result"
    }
   ],
   "source": [
    "#create Year column\n",
    "dates = ghg_emissions.column(\"start\")\n",
    "years = [int(date[:4]) for date in dates]\n",
    "ghg_emissions = ghg_emissions.with_column(\"year\", years)\n",
    "ghg_emissions"
   ]
  },
  {
   "cell_type": "markdown",
   "id": "5d993a4d",
   "metadata": {},
   "source": [
    "The following cell tells us what years this dataset covers."
   ]
  },
  {
   "cell_type": "code",
   "execution_count": 24,
   "id": "b1314068",
   "metadata": {},
   "outputs": [
    {
     "data": {
      "text/plain": [
       "array([2015, 2016, 2017, 2018, 2019, 2020])"
      ]
     },
     "execution_count": 24,
     "metadata": {},
     "output_type": "execute_result"
    }
   ],
   "source": [
    "year = np.unique(ghg_emissions.column(\"year\"))\n",
    "year"
   ]
  },
  {
   "cell_type": "markdown",
   "id": "2f4c1252",
   "metadata": {},
   "source": [
    "In the cell below, let's learn about the sectors we will be covering today."
   ]
  },
  {
   "cell_type": "code",
   "execution_count": 30,
   "id": "50029c8d",
   "metadata": {},
   "outputs": [
    {
     "data": {
      "text/plain": [
       "array(['agriculture', 'buildings', 'extraction', 'manufacturing',\n",
       "       'maritime', 'oil and gas', 'power', 'transport', 'waste'],\n",
       "      dtype='<U13')"
      ]
     },
     "execution_count": 30,
     "metadata": {},
     "output_type": "execute_result"
    }
   ],
   "source": [
    "sectors = np.unique(ghg_emissions.column(\"sector\"))\n",
    "sectors"
   ]
  },
  {
   "cell_type": "markdown",
   "id": "91bb307c",
   "metadata": {},
   "source": [
    "How many countries are contained in this dataset?"
   ]
  },
  {
   "cell_type": "code",
   "execution_count": 9,
   "id": "3ba0b5dd",
   "metadata": {},
   "outputs": [
    {
     "data": {
      "text/plain": [
       "250"
      ]
     },
     "execution_count": 9,
     "metadata": {},
     "output_type": "execute_result"
    }
   ],
   "source": [
    "len(np.unique(ghg_emissions.column(\"country\")))"
   ]
  },
  {
   "cell_type": "markdown",
   "id": "4475b4f2",
   "metadata": {},
   "source": [
    "# Sector"
   ]
  },
  {
   "cell_type": "code",
   "execution_count": 10,
   "id": "f6e06b2e",
   "metadata": {},
   "outputs": [
    {
     "data": {
      "text/html": [
       "<table border=\"1\" class=\"dataframe\">\n",
       "    <thead>\n",
       "        <tr>\n",
       "            <th>sector</th> <th>year</th> <th>emissions</th>\n",
       "        </tr>\n",
       "    </thead>\n",
       "    <tbody>\n",
       "        <tr>\n",
       "            <td>agriculture</td> <td>2020</td> <td>0        </td>\n",
       "        </tr>\n",
       "        <tr>\n",
       "            <td>agriculture</td> <td>2019</td> <td>0        </td>\n",
       "        </tr>\n",
       "        <tr>\n",
       "            <td>agriculture</td> <td>2018</td> <td>0        </td>\n",
       "        </tr>\n",
       "        <tr>\n",
       "            <td>agriculture</td> <td>2017</td> <td>0        </td>\n",
       "        </tr>\n",
       "        <tr>\n",
       "            <td>agriculture</td> <td>2016</td> <td>0        </td>\n",
       "        </tr>\n",
       "        <tr>\n",
       "            <td>agriculture</td> <td>2015</td> <td>0        </td>\n",
       "        </tr>\n",
       "        <tr>\n",
       "            <td>buildings  </td> <td>2020</td> <td>13300    </td>\n",
       "        </tr>\n",
       "        <tr>\n",
       "            <td>buildings  </td> <td>2019</td> <td>13300    </td>\n",
       "        </tr>\n",
       "        <tr>\n",
       "            <td>buildings  </td> <td>2018</td> <td>13300    </td>\n",
       "        </tr>\n",
       "        <tr>\n",
       "            <td>buildings  </td> <td>2017</td> <td>13700    </td>\n",
       "        </tr>\n",
       "    </tbody>\n",
       "</table>\n",
       "<p>... (44077 rows omitted)</p>"
      ],
      "text/plain": [
       "sector      | year | emissions\n",
       "agriculture | 2020 | 0\n",
       "agriculture | 2019 | 0\n",
       "agriculture | 2018 | 0\n",
       "agriculture | 2017 | 0\n",
       "agriculture | 2016 | 0\n",
       "agriculture | 2015 | 0\n",
       "buildings   | 2020 | 13300\n",
       "buildings   | 2019 | 13300\n",
       "buildings   | 2018 | 13300\n",
       "buildings   | 2017 | 13700\n",
       "... (44077 rows omitted)"
      ]
     },
     "execution_count": 10,
     "metadata": {},
     "output_type": "execute_result"
    }
   ],
   "source": [
    "#sector\n",
    "sectors = ghg_emissions.select(['sector', 'year', 'emissions'])\n",
    "sectors"
   ]
  },
  {
   "cell_type": "markdown",
   "id": "46a9e06b",
   "metadata": {},
   "source": [
    "Emissions over time"
   ]
  },
  {
   "cell_type": "code",
   "execution_count": 11,
   "id": "0bfe111e",
   "metadata": {},
   "outputs": [
    {
     "name": "stderr",
     "output_type": "stream",
     "text": [
      "/Users/hansocampo/opt/anaconda3/lib/python3.8/site-packages/datascience/tables.py:920: VisibleDeprecationWarning: Creating an ndarray from ragged nested sequences (which is a list-or-tuple of lists-or-tuples-or ndarrays with different lengths or shapes) is deprecated. If you meant to do this, you must specify 'dtype=object' when creating the ndarray.\n",
      "  values = np.array(tuple(values))\n"
     ]
    },
    {
     "data": {
      "text/html": [
       "<table border=\"1\" class=\"dataframe\">\n",
       "    <thead>\n",
       "        <tr>\n",
       "            <th>sector</th> <th>year</th> <th>emissions sum</th>\n",
       "        </tr>\n",
       "    </thead>\n",
       "    <tbody>\n",
       "        <tr>\n",
       "            <td>agriculture</td> <td>2015</td> <td>6.31602e+09  </td>\n",
       "        </tr>\n",
       "        <tr>\n",
       "            <td>agriculture</td> <td>2016</td> <td>6.35032e+09  </td>\n",
       "        </tr>\n",
       "        <tr>\n",
       "            <td>agriculture</td> <td>2017</td> <td>6.40422e+09  </td>\n",
       "        </tr>\n",
       "        <tr>\n",
       "            <td>agriculture</td> <td>2018</td> <td>6.35244e+09  </td>\n",
       "        </tr>\n",
       "        <tr>\n",
       "            <td>agriculture</td> <td>2019</td> <td>6.43106e+09  </td>\n",
       "        </tr>\n",
       "        <tr>\n",
       "            <td>agriculture</td> <td>2020</td> <td>6.41922e+09  </td>\n",
       "        </tr>\n",
       "        <tr>\n",
       "            <td>buildings  </td> <td>2015</td> <td>4.03479e+09  </td>\n",
       "        </tr>\n",
       "        <tr>\n",
       "            <td>buildings  </td> <td>2016</td> <td>4.04836e+09  </td>\n",
       "        </tr>\n",
       "        <tr>\n",
       "            <td>buildings  </td> <td>2017</td> <td>4.12174e+09  </td>\n",
       "        </tr>\n",
       "        <tr>\n",
       "            <td>buildings  </td> <td>2018</td> <td>4.22608e+09  </td>\n",
       "        </tr>\n",
       "    </tbody>\n",
       "</table>\n",
       "<p>... (44 rows omitted)</p>"
      ],
      "text/plain": [
       "sector      | year | emissions sum\n",
       "agriculture | 2015 | 6.31602e+09\n",
       "agriculture | 2016 | 6.35032e+09\n",
       "agriculture | 2017 | 6.40422e+09\n",
       "agriculture | 2018 | 6.35244e+09\n",
       "agriculture | 2019 | 6.43106e+09\n",
       "agriculture | 2020 | 6.41922e+09\n",
       "buildings   | 2015 | 4.03479e+09\n",
       "buildings   | 2016 | 4.04836e+09\n",
       "buildings   | 2017 | 4.12174e+09\n",
       "buildings   | 2018 | 4.22608e+09\n",
       "... (44 rows omitted)"
      ]
     },
     "execution_count": 11,
     "metadata": {},
     "output_type": "execute_result"
    }
   ],
   "source": [
    "agg_sectors = sectors.group([\"sector\", \"year\"], sum)\n",
    "agg_sectors"
   ]
  },
  {
   "cell_type": "code",
   "execution_count": 12,
   "id": "9749ce06",
   "metadata": {},
   "outputs": [
    {
     "data": {
      "text/html": [
       "<table border=\"1\" class=\"dataframe\">\n",
       "    <thead>\n",
       "        <tr>\n",
       "            <th>year</th> <th>agriculture</th> <th>buildings</th> <th>extraction</th> <th>manufacturing</th> <th>maritime</th> <th>oil and gas</th> <th>power</th> <th>transport</th> <th>waste</th>\n",
       "        </tr>\n",
       "    </thead>\n",
       "    <tbody>\n",
       "        <tr>\n",
       "            <td>2015</td> <td>6.31602e+09</td> <td>4.03479e+09</td> <td>5.15458e+07</td> <td>9.36938e+09  </td> <td>8.10407e+08</td> <td>5.54893e+09</td> <td>1.34716e+10</td> <td>7.1108e+09 </td> <td>3.16803e+09</td>\n",
       "        </tr>\n",
       "        <tr>\n",
       "            <td>2016</td> <td>6.35032e+09</td> <td>4.04836e+09</td> <td>5.3314e+07 </td> <td>9.31098e+09  </td> <td>8.38055e+08</td> <td>5.3857e+09 </td> <td>1.34767e+10</td> <td>7.19147e+09</td> <td>3.20247e+09</td>\n",
       "        </tr>\n",
       "        <tr>\n",
       "            <td>2017</td> <td>6.40422e+09</td> <td>4.12174e+09</td> <td>5.32611e+07</td> <td>9.3634e+09   </td> <td>8.7054e+08 </td> <td>5.51878e+09</td> <td>1.36884e+10</td> <td>7.27686e+09</td> <td>3.25983e+09</td>\n",
       "        </tr>\n",
       "        <tr>\n",
       "            <td>2018</td> <td>6.35244e+09</td> <td>4.22608e+09</td> <td>5.44093e+07</td> <td>9.59278e+09  </td> <td>8.63974e+08</td> <td>5.64849e+09</td> <td>1.40029e+10</td> <td>7.31804e+09</td> <td>3.29614e+09</td>\n",
       "        </tr>\n",
       "        <tr>\n",
       "            <td>2019</td> <td>6.43106e+09</td> <td>4.22608e+09</td> <td>5.50224e+07</td> <td>9.70853e+09  </td> <td>9.53488e+08</td> <td>5.69497e+09</td> <td>1.39919e+10</td> <td>7.33859e+09</td> <td>3.29614e+09</td>\n",
       "        </tr>\n",
       "        <tr>\n",
       "            <td>2020</td> <td>6.41922e+09</td> <td>4.22608e+09</td> <td>5.45942e+07</td> <td>9.69734e+09  </td> <td>1.04236e+09</td> <td>5.46634e+09</td> <td>1.35643e+10</td> <td>6.84983e+09</td> <td>3.29614e+09</td>\n",
       "        </tr>\n",
       "    </tbody>\n",
       "</table>"
      ],
      "text/plain": [
       "year | agriculture | buildings   | extraction  | manufacturing | maritime    | oil and gas | power       | transport   | waste\n",
       "2015 | 6.31602e+09 | 4.03479e+09 | 5.15458e+07 | 9.36938e+09   | 8.10407e+08 | 5.54893e+09 | 1.34716e+10 | 7.1108e+09  | 3.16803e+09\n",
       "2016 | 6.35032e+09 | 4.04836e+09 | 5.3314e+07  | 9.31098e+09   | 8.38055e+08 | 5.3857e+09  | 1.34767e+10 | 7.19147e+09 | 3.20247e+09\n",
       "2017 | 6.40422e+09 | 4.12174e+09 | 5.32611e+07 | 9.3634e+09    | 8.7054e+08  | 5.51878e+09 | 1.36884e+10 | 7.27686e+09 | 3.25983e+09\n",
       "2018 | 6.35244e+09 | 4.22608e+09 | 5.44093e+07 | 9.59278e+09   | 8.63974e+08 | 5.64849e+09 | 1.40029e+10 | 7.31804e+09 | 3.29614e+09\n",
       "2019 | 6.43106e+09 | 4.22608e+09 | 5.50224e+07 | 9.70853e+09   | 9.53488e+08 | 5.69497e+09 | 1.39919e+10 | 7.33859e+09 | 3.29614e+09\n",
       "2020 | 6.41922e+09 | 4.22608e+09 | 5.45942e+07 | 9.69734e+09   | 1.04236e+09 | 5.46634e+09 | 1.35643e+10 | 6.84983e+09 | 3.29614e+09"
      ]
     },
     "execution_count": 12,
     "metadata": {},
     "output_type": "execute_result"
    }
   ],
   "source": [
    "agg_sectors = agg_sectors.pivot('sector', 'year', values = \"emissions sum\",collect=sum)\n",
    "agg_sectors"
   ]
  },
  {
   "cell_type": "markdown",
   "id": "f594bf71",
   "metadata": {},
   "source": [
    "https://inferentialthinking.com/chapters/07/3/Overlaid_Graphs.html"
   ]
  },
  {
   "cell_type": "code",
   "execution_count": 14,
   "id": "9cd688a0",
   "metadata": {},
   "outputs": [
    {
     "data": {
      "image/png": "[encoded data removed]",
      "text/plain": [
       "<Figure size 432x432 with 1 Axes>"
      ]
     },
     "metadata": {},
     "output_type": "display_data"
    }
   ],
   "source": [
    "agg_sectors.plot(\"year\")"
   ]
  },
  {
   "cell_type": "code",
   "execution_count": 15,
   "id": "e994631b",
   "metadata": {},
   "outputs": [
    {
     "data": {
      "text/html": [
       "<table border=\"1\" class=\"dataframe\">\n",
       "    <thead>\n",
       "        <tr>\n",
       "            <th>sector</th> <th>subsector</th> <th>year</th> <th>emissions</th>\n",
       "        </tr>\n",
       "    </thead>\n",
       "    <tbody>\n",
       "        <tr>\n",
       "            <td>agriculture</td> <td>rice cultivation</td> <td>2020</td> <td>0        </td>\n",
       "        </tr>\n",
       "        <tr>\n",
       "            <td>agriculture</td> <td>rice cultivation</td> <td>2019</td> <td>0        </td>\n",
       "        </tr>\n",
       "        <tr>\n",
       "            <td>agriculture</td> <td>rice cultivation</td> <td>2018</td> <td>0        </td>\n",
       "        </tr>\n",
       "        <tr>\n",
       "            <td>agriculture</td> <td>rice cultivation</td> <td>2017</td> <td>0        </td>\n",
       "        </tr>\n",
       "        <tr>\n",
       "            <td>agriculture</td> <td>rice cultivation</td> <td>2016</td> <td>0        </td>\n",
       "        </tr>\n",
       "        <tr>\n",
       "            <td>agriculture</td> <td>rice cultivation</td> <td>2015</td> <td>0        </td>\n",
       "        </tr>\n",
       "        <tr>\n",
       "            <td>buildings  </td> <td>cooking         </td> <td>2020</td> <td>13300    </td>\n",
       "        </tr>\n",
       "        <tr>\n",
       "            <td>buildings  </td> <td>cooking         </td> <td>2019</td> <td>13300    </td>\n",
       "        </tr>\n",
       "        <tr>\n",
       "            <td>buildings  </td> <td>cooking         </td> <td>2018</td> <td>13300    </td>\n",
       "        </tr>\n",
       "        <tr>\n",
       "            <td>buildings  </td> <td>cooking         </td> <td>2017</td> <td>13700    </td>\n",
       "        </tr>\n",
       "    </tbody>\n",
       "</table>\n",
       "<p>... (44077 rows omitted)</p>"
      ],
      "text/plain": [
       "sector      | subsector        | year | emissions\n",
       "agriculture | rice cultivation | 2020 | 0\n",
       "agriculture | rice cultivation | 2019 | 0\n",
       "agriculture | rice cultivation | 2018 | 0\n",
       "agriculture | rice cultivation | 2017 | 0\n",
       "agriculture | rice cultivation | 2016 | 0\n",
       "agriculture | rice cultivation | 2015 | 0\n",
       "buildings   | cooking          | 2020 | 13300\n",
       "buildings   | cooking          | 2019 | 13300\n",
       "buildings   | cooking          | 2018 | 13300\n",
       "buildings   | cooking          | 2017 | 13700\n",
       "... (44077 rows omitted)"
      ]
     },
     "execution_count": 15,
     "metadata": {},
     "output_type": "execute_result"
    }
   ],
   "source": [
    "agg_subsectors = ghg_emissions.select(['sector', 'subsector', 'year', 'emissions'])\n",
    "agg_subsectors"
   ]
  },
  {
   "cell_type": "code",
   "execution_count": 21,
   "id": "0fc5c4a7",
   "metadata": {},
   "outputs": [
    {
     "data": {
      "text/html": [
       "<table border=\"1\" class=\"dataframe\">\n",
       "    <thead>\n",
       "        <tr>\n",
       "            <th>sector</th> <th>subsector</th> <th>year</th> <th>emissions</th>\n",
       "        </tr>\n",
       "    </thead>\n",
       "    <tbody>\n",
       "        <tr>\n",
       "            <td>power </td> <td>electricity generation</td> <td>2020</td> <td>699000   </td>\n",
       "        </tr>\n",
       "        <tr>\n",
       "            <td>power </td> <td>electricity generation</td> <td>2019</td> <td>688000   </td>\n",
       "        </tr>\n",
       "        <tr>\n",
       "            <td>power </td> <td>electricity generation</td> <td>2018</td> <td>680000   </td>\n",
       "        </tr>\n",
       "        <tr>\n",
       "            <td>power </td> <td>electricity generation</td> <td>2017</td> <td>663000   </td>\n",
       "        </tr>\n",
       "        <tr>\n",
       "            <td>power </td> <td>electricity generation</td> <td>2016</td> <td>648000   </td>\n",
       "        </tr>\n",
       "        <tr>\n",
       "            <td>power </td> <td>electricity generation</td> <td>2015</td> <td>631000   </td>\n",
       "        </tr>\n",
       "        <tr>\n",
       "            <td>power </td> <td>other energy use      </td> <td>2020</td> <td>0        </td>\n",
       "        </tr>\n",
       "        <tr>\n",
       "            <td>power </td> <td>other energy use      </td> <td>2019</td> <td>0        </td>\n",
       "        </tr>\n",
       "        <tr>\n",
       "            <td>power </td> <td>other energy use      </td> <td>2018</td> <td>0        </td>\n",
       "        </tr>\n",
       "        <tr>\n",
       "            <td>power </td> <td>other energy use      </td> <td>2017</td> <td>0        </td>\n",
       "        </tr>\n",
       "    </tbody>\n",
       "</table>\n",
       "<p>... (2803 rows omitted)</p>"
      ],
      "text/plain": [
       "sector | subsector              | year | emissions\n",
       "power  | electricity generation | 2020 | 699000\n",
       "power  | electricity generation | 2019 | 688000\n",
       "power  | electricity generation | 2018 | 680000\n",
       "power  | electricity generation | 2017 | 663000\n",
       "power  | electricity generation | 2016 | 648000\n",
       "power  | electricity generation | 2015 | 631000\n",
       "power  | other energy use       | 2020 | 0\n",
       "power  | other energy use       | 2019 | 0\n",
       "power  | other energy use       | 2018 | 0\n",
       "power  | other energy use       | 2017 | 0\n",
       "... (2803 rows omitted)"
      ]
     },
     "execution_count": 21,
     "metadata": {},
     "output_type": "execute_result"
    }
   ],
   "source": [
    "power = agg_subsectors.where(\"sector\", 'power')\n",
    "power"
   ]
  },
  {
   "cell_type": "code",
   "execution_count": 22,
   "id": "be863e4c",
   "metadata": {},
   "outputs": [
    {
     "data": {
      "text/html": [
       "<table border=\"1\" class=\"dataframe\">\n",
       "    <thead>\n",
       "        <tr>\n",
       "            <th>year</th> <th>electricity generation</th> <th>other energy use</th>\n",
       "        </tr>\n",
       "    </thead>\n",
       "    <tbody>\n",
       "        <tr>\n",
       "            <td>2015</td> <td>1.22531e+10           </td> <td>1.21853e+09     </td>\n",
       "        </tr>\n",
       "        <tr>\n",
       "            <td>2016</td> <td>1.21398e+10           </td> <td>1.3369e+09      </td>\n",
       "        </tr>\n",
       "        <tr>\n",
       "            <td>2017</td> <td>1.23017e+10           </td> <td>1.38678e+09     </td>\n",
       "        </tr>\n",
       "        <tr>\n",
       "            <td>2018</td> <td>1.2635e+10            </td> <td>1.36794e+09     </td>\n",
       "        </tr>\n",
       "        <tr>\n",
       "            <td>2019</td> <td>1.2624e+10            </td> <td>1.36794e+09     </td>\n",
       "        </tr>\n",
       "        <tr>\n",
       "            <td>2020</td> <td>1.21963e+10           </td> <td>1.36794e+09     </td>\n",
       "        </tr>\n",
       "    </tbody>\n",
       "</table>"
      ],
      "text/plain": [
       "year | electricity generation | other energy use\n",
       "2015 | 1.22531e+10            | 1.21853e+09\n",
       "2016 | 1.21398e+10            | 1.3369e+09\n",
       "2017 | 1.23017e+10            | 1.38678e+09\n",
       "2018 | 1.2635e+10             | 1.36794e+09\n",
       "2019 | 1.2624e+10             | 1.36794e+09\n",
       "2020 | 1.21963e+10            | 1.36794e+09"
      ]
     },
     "execution_count": 22,
     "metadata": {},
     "output_type": "execute_result"
    }
   ],
   "source": [
    "power = power.group([\"sector\", \"subsector\", \"year\"], sum)\n",
    "power = power.pivot('subsector', 'year', values = \"emissions sum\",collect=sum)\n",
    "power"
   ]
  },
  {
   "cell_type": "code",
   "execution_count": 23,
   "id": "8390be7f",
   "metadata": {},
   "outputs": [
    {
     "data": {
      "image/png": "[encoded data removed]",
      "text/plain": [
       "<Figure size 432x432 with 1 Axes>"
      ]
     },
     "metadata": {},
     "output_type": "display_data"
    }
   ],
   "source": [
    "power.plot(\"year\")"
   ]
  },
  {
   "cell_type": "code",
   "execution_count": 31,
   "id": "4b8499e6",
   "metadata": {},
   "outputs": [
    {
     "data": {
      "application/vnd.jupyter.widget-view+json": {
       "model_id": "1db81b4b52a747d888f8d624f30d36d1",
       "version_major": 2,
       "version_minor": 0
      },
      "text/plain": [
       "interactive(children=(Dropdown(description='sector', index=6, options=('agriculture', 'buildings', 'extraction…"
      ]
     },
     "metadata": {},
     "output_type": "display_data"
    },
    {
     "data": {
      "text/plain": [
       "<function __main__.select_sector(sector)>"
      ]
     },
     "execution_count": 31,
     "metadata": {},
     "output_type": "execute_result"
    }
   ],
   "source": [
    "import ipywidgets as widgets\n",
    "from ipywidgets import interact, interactive, fixed, interact_manual\n",
    "\n",
    "def select_sector(sector):\n",
    "    sector = agg_subsectors.where(\"sector\", sector)\n",
    "    sector = sector.group([\"sector\", \"subsector\", \"year\"], sum)\n",
    "    sector = sector.pivot('subsector', 'year', values = \"emissions sum\",collect=sum)\n",
    "    sector.plot('year')\n",
    "    \n",
    "sector_dropdown = widgets.Dropdown(options=sectors,\n",
    "                         value=\"power\")\n",
    "interact(select_sector, sector = sector_dropdown )"
   ]
  },
  {
   "cell_type": "code",
   "execution_count": null,
   "id": "24f29d08",
   "metadata": {},
   "outputs": [],
   "source": []
  }
 ],
 "metadata": {
  "kernelspec": {
   "display_name": "Python 3",
   "language": "python",
   "name": "python3"
  },
  "language_info": {
   "codemirror_mode": {
    "name": "ipython",
    "version": 3
   },
   "file_extension": ".py",
   "mimetype": "text/x-python",
   "name": "python",
   "nbconvert_exporter": "python",
   "pygments_lexer": "ipython3",
   "version": "3.8.8"
  }
 },
 "nbformat": 4,
 "nbformat_minor": 5
}
